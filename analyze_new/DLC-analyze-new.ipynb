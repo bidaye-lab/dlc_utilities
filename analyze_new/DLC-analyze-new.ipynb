{
 "cells": [
  {
   "cell_type": "code",
   "execution_count": 2,
   "id": "cb86991d",
   "metadata": {},
   "outputs": [
    {
     "name": "stderr",
     "output_type": "stream",
     "text": [
      "C:\\ProgramData\\Anaconda3\\envs\\deeplabcut\\lib\\site-packages\\statsmodels\\compat\\pandas.py:65: FutureWarning: pandas.Int64Index is deprecated and will be removed from pandas in a future version. Use pandas.Index with the appropriate dtype instead.\n",
      "  from pandas import Int64Index as NumericIndex\n",
      "C:\\ProgramData\\Anaconda3\\envs\\deeplabcut\\lib\\site-packages\\deeplabcut\\__init__.py:78: UserWarning: \n",
      "        As PyTorch is not installed, unsupervised identity learning will not be available.\n",
      "        Please run `pip install torch`, or ignore this warning.\n",
      "        \n",
      "  warnings.warn(\n"
     ]
    }
   ],
   "source": [
    "import deeplabcut\n",
    "import os\n",
    "import glob as glob\n",
    "from pathlib import Path"
   ]
  },
  {
   "cell_type": "code",
   "execution_count": 5,
   "id": "7f5c41ad",
   "metadata": {},
   "outputs": [],
   "source": [
    "def analyze_new(videos_folders_path):\n",
    "    \n",
    "    model_paths = ['C:\\\\DLC\\\\3D_8cam_vid\\\\camA_FS34_RN101-BidayeLab-2022-09-20',\n",
    "                  'C:\\\\DLC\\\\3D_8cam_vid\\\\3cam_BEH-BidayeLab-2022-09-16',\n",
    "                  'C:\\\\DLC\\\\3D_8cam_vid\\\\camC_FS34_RN101-BidayeLab-2022-10-01',\n",
    "                  'C:\\\\DLC\\\\3D_8cam_vid\\\\camD_FS34_RN101-BidayeLab-2022-09-20',\n",
    "                  'C:\\\\DLC\\\\3D_8cam_vid\\\\3cam_BEH-BidayeLab-2022-09-16',\n",
    "                  'C:\\\\DLC\\\\3D_8cam_vid\\\\camF_FS34_RN101-BidayeLab-2022-10-01',\n",
    "                   'blank',\n",
    "                  'C:\\\\DLC\\\\3D_8cam_vid\\\\3cam_BEH-BidayeLab-2022-09-16']\n",
    "    \n",
    "    video_folders = []\n",
    "    for i in videos_folders_path.glob('*/Ball'):\n",
    "        video_folders.append(i)\n",
    "    \n",
    "    for i in range(0, len(video_folders)):\n",
    "        single_folder = []\n",
    "        for idx in video_folders[i].glob('*.mp4'):\n",
    "            single_folder.append(idx)\n",
    "\n",
    "        for idx in range(0, len(single_folder)):\n",
    "            print(\"idx:\", idx)\n",
    "            if idx==6:\n",
    "                continue\n",
    "            else:\n",
    "                print(\"model_paths[idx]:\", model_paths[idx])\n",
    "                print(\"single_folder[idx]:\", single_folder[idx])\n",
    "                config_path = os.path.join(model_paths[idx], 'config.yaml')\n",
    "\n",
    "                deeplabcut.analyze_videos(config_path, str(single_folder[idx]), save_as_csv=True)\n",
    "\n",
    "                deeplabcut.filterpredictions(config_path, str(single_folder[idx]), save_as_csv=True)\n",
    "\n",
    "                # deeplabcut.create_labeled_video(config_path, [str(single_folder[idx])], videotype='.mp4', filtered=True)"
   ]
  },
  {
   "cell_type": "code",
   "execution_count": 6,
   "id": "2f37cf16",
   "metadata": {},
   "outputs": [
    {
     "name": "stdout",
     "output_type": "stream",
     "text": [
      "idx: 0\n",
      "model_paths[idx]: C:\\DLC\\3D_8cam_vid\\camA_FS34_RN101-BidayeLab-2022-09-20\n",
      "single_folder[idx]: \\\\mpfi.org\\public\\sb-lab\\DLC-analyses\\new-video-analyses\\Files_For_Analysis\\10242022\\STOP-1_CL_FreqSampling\\N1\\Ball\\A-10132022181824-0000.mp4\n",
      "Using snapshot-500000 for model C:\\DLC\\3D_8cam_vid\\camA_FS34_RN101-BidayeLab-2022-09-20\\dlc-models\\iteration-1\\camA_FS34_RN101Sep20-trainset95shuffle1\n",
      "Switching to numpy-based keypoint extraction code, as multiple point extraction is not supported by TF code currently.\n",
      "Extracting  20 instances per bodypart\n"
     ]
    },
    {
     "name": "stderr",
     "output_type": "stream",
     "text": [
      "C:\\ProgramData\\Anaconda3\\envs\\deeplabcut\\lib\\site-packages\\tensorflow\\python\\keras\\engine\\base_layer_v1.py:1694: UserWarning: `layer.apply` is deprecated and will be removed in a future version. Please use `layer.__call__` method instead.\n",
      "  warnings.warn('`layer.apply` is deprecated and '\n",
      "C:\\ProgramData\\Anaconda3\\envs\\deeplabcut\\lib\\site-packages\\tf_slim\\layers\\layers.py:684: UserWarning: `layer.apply` is deprecated and will be removed in a future version. Please use `layer.__call__` method instead.\n",
      "  outputs = layer.apply(inputs, training=is_training)\n"
     ]
    },
    {
     "name": "stdout",
     "output_type": "stream",
     "text": [
      "Starting to analyze %  \\\\mpfi.org\\public\\sb-lab\\DLC-analyses\\new-video-analyses\\Files_For_Analysis\\10242022\\STOP-1_CL_FreqSampling\\N1\\Ball\\A-10132022181824-0000.mp4\n",
      "The videos are analyzed. Now your research can truly start! \n",
      " You can create labeled videos with 'create_labeled_video'\n",
      "If the tracking is not satisfactory for some videos, consider expanding the training set. You can use the function 'extract_outlier_frames' to extract a few representative outlier frames.\n",
      "Filtering with median model \\\\mpfi.org\\public\\sb-lab\\DLC-analyses\\new-video-analyses\\Files_For_Analysis\\10242022\\STOP-1_CL_FreqSampling\\N1\\Ball\\A-10132022181824-0000.mp4\n",
      "Data from A-10132022181824-0000 were already filtered. Skipping...\n",
      "idx: 1\n",
      "model_paths[idx]: C:\\DLC\\3D_8cam_vid\\3cam_BEH-BidayeLab-2022-09-16\n",
      "single_folder[idx]: \\\\mpfi.org\\public\\sb-lab\\DLC-analyses\\new-video-analyses\\Files_For_Analysis\\10242022\\STOP-1_CL_FreqSampling\\N1\\Ball\\B-10132022181826-0000.mp4\n",
      "Using snapshot-500000 for model C:\\DLC\\3D_8cam_vid\\3cam_BEH-BidayeLab-2022-09-16\\dlc-models\\iteration-0\\3cam_BEHSep16-trainset95shuffle1\n",
      "Switching to numpy-based keypoint extraction code, as multiple point extraction is not supported by TF code currently.\n",
      "Extracting  20 instances per bodypart\n"
     ]
    },
    {
     "name": "stderr",
     "output_type": "stream",
     "text": [
      "C:\\ProgramData\\Anaconda3\\envs\\deeplabcut\\lib\\site-packages\\tensorflow\\python\\keras\\engine\\base_layer_v1.py:1694: UserWarning: `layer.apply` is deprecated and will be removed in a future version. Please use `layer.__call__` method instead.\n",
      "  warnings.warn('`layer.apply` is deprecated and '\n",
      "C:\\ProgramData\\Anaconda3\\envs\\deeplabcut\\lib\\site-packages\\tf_slim\\layers\\layers.py:684: UserWarning: `layer.apply` is deprecated and will be removed in a future version. Please use `layer.__call__` method instead.\n",
      "  outputs = layer.apply(inputs, training=is_training)\n"
     ]
    },
    {
     "name": "stdout",
     "output_type": "stream",
     "text": [
      "Starting to analyze %  \\\\mpfi.org\\public\\sb-lab\\DLC-analyses\\new-video-analyses\\Files_For_Analysis\\10242022\\STOP-1_CL_FreqSampling\\N1\\Ball\\B-10132022181826-0000.mp4\n",
      "The videos are analyzed. Now your research can truly start! \n",
      " You can create labeled videos with 'create_labeled_video'\n",
      "If the tracking is not satisfactory for some videos, consider expanding the training set. You can use the function 'extract_outlier_frames' to extract a few representative outlier frames.\n",
      "Filtering with median model \\\\mpfi.org\\public\\sb-lab\\DLC-analyses\\new-video-analyses\\Files_For_Analysis\\10242022\\STOP-1_CL_FreqSampling\\N1\\Ball\\B-10132022181826-0000.mp4\n",
      "Data from B-10132022181826-0000 were already filtered. Skipping...\n",
      "idx: 2\n",
      "model_paths[idx]: C:\\DLC\\3D_8cam_vid\\camC_FS34_RN101-BidayeLab-2022-10-01\n",
      "single_folder[idx]: \\\\mpfi.org\\public\\sb-lab\\DLC-analyses\\new-video-analyses\\Files_For_Analysis\\10242022\\STOP-1_CL_FreqSampling\\N1\\Ball\\C-10132022181821-0000.mp4\n",
      "Using snapshot-500000 for model C:\\DLC\\3D_8cam_vid\\camC_FS34_RN101-BidayeLab-2022-10-01\\dlc-models\\iteration-0\\camC_FS34_RN101Oct1-trainset95shuffle1\n",
      "Switching to numpy-based keypoint extraction code, as multiple point extraction is not supported by TF code currently.\n",
      "Extracting  20 instances per bodypart\n"
     ]
    },
    {
     "name": "stderr",
     "output_type": "stream",
     "text": [
      "C:\\ProgramData\\Anaconda3\\envs\\deeplabcut\\lib\\site-packages\\tensorflow\\python\\keras\\engine\\base_layer_v1.py:1694: UserWarning: `layer.apply` is deprecated and will be removed in a future version. Please use `layer.__call__` method instead.\n",
      "  warnings.warn('`layer.apply` is deprecated and '\n",
      "C:\\ProgramData\\Anaconda3\\envs\\deeplabcut\\lib\\site-packages\\tf_slim\\layers\\layers.py:684: UserWarning: `layer.apply` is deprecated and will be removed in a future version. Please use `layer.__call__` method instead.\n",
      "  outputs = layer.apply(inputs, training=is_training)\n"
     ]
    },
    {
     "name": "stdout",
     "output_type": "stream",
     "text": [
      "Starting to analyze %  \\\\mpfi.org\\public\\sb-lab\\DLC-analyses\\new-video-analyses\\Files_For_Analysis\\10242022\\STOP-1_CL_FreqSampling\\N1\\Ball\\C-10132022181821-0000.mp4\n",
      "The videos are analyzed. Now your research can truly start! \n",
      " You can create labeled videos with 'create_labeled_video'\n",
      "If the tracking is not satisfactory for some videos, consider expanding the training set. You can use the function 'extract_outlier_frames' to extract a few representative outlier frames.\n",
      "Filtering with median model \\\\mpfi.org\\public\\sb-lab\\DLC-analyses\\new-video-analyses\\Files_For_Analysis\\10242022\\STOP-1_CL_FreqSampling\\N1\\Ball\\C-10132022181821-0000.mp4\n",
      "Data from C-10132022181821-0000 were already filtered. Skipping...\n",
      "idx: 3\n",
      "model_paths[idx]: C:\\DLC\\3D_8cam_vid\\camD_FS34_RN101-BidayeLab-2022-09-20\n",
      "single_folder[idx]: \\\\mpfi.org\\public\\sb-lab\\DLC-analyses\\new-video-analyses\\Files_For_Analysis\\10242022\\STOP-1_CL_FreqSampling\\N1\\Ball\\D-10132022181823-0000.mp4\n",
      "Using snapshot-500000 for model C:\\DLC\\3D_8cam_vid\\camD_FS34_RN101-BidayeLab-2022-09-20\\dlc-models\\iteration-0\\camD_FS34_RN101Sep20-trainset95shuffle1\n",
      "Switching to numpy-based keypoint extraction code, as multiple point extraction is not supported by TF code currently.\n",
      "Extracting  20 instances per bodypart\n"
     ]
    },
    {
     "name": "stderr",
     "output_type": "stream",
     "text": [
      "C:\\ProgramData\\Anaconda3\\envs\\deeplabcut\\lib\\site-packages\\tensorflow\\python\\keras\\engine\\base_layer_v1.py:1694: UserWarning: `layer.apply` is deprecated and will be removed in a future version. Please use `layer.__call__` method instead.\n",
      "  warnings.warn('`layer.apply` is deprecated and '\n",
      "C:\\ProgramData\\Anaconda3\\envs\\deeplabcut\\lib\\site-packages\\tf_slim\\layers\\layers.py:684: UserWarning: `layer.apply` is deprecated and will be removed in a future version. Please use `layer.__call__` method instead.\n",
      "  outputs = layer.apply(inputs, training=is_training)\n"
     ]
    },
    {
     "name": "stdout",
     "output_type": "stream",
     "text": [
      "Starting to analyze %  \\\\mpfi.org\\public\\sb-lab\\DLC-analyses\\new-video-analyses\\Files_For_Analysis\\10242022\\STOP-1_CL_FreqSampling\\N1\\Ball\\D-10132022181823-0000.mp4\n",
      "The videos are analyzed. Now your research can truly start! \n",
      " You can create labeled videos with 'create_labeled_video'\n",
      "If the tracking is not satisfactory for some videos, consider expanding the training set. You can use the function 'extract_outlier_frames' to extract a few representative outlier frames.\n",
      "Filtering with median model \\\\mpfi.org\\public\\sb-lab\\DLC-analyses\\new-video-analyses\\Files_For_Analysis\\10242022\\STOP-1_CL_FreqSampling\\N1\\Ball\\D-10132022181823-0000.mp4\n",
      "Data from D-10132022181823-0000 were already filtered. Skipping...\n",
      "idx: 4\n",
      "model_paths[idx]: C:\\DLC\\3D_8cam_vid\\3cam_BEH-BidayeLab-2022-09-16\n",
      "single_folder[idx]: \\\\mpfi.org\\public\\sb-lab\\DLC-analyses\\new-video-analyses\\Files_For_Analysis\\10242022\\STOP-1_CL_FreqSampling\\N1\\Ball\\E-10132022181827-0000.mp4\n",
      "Using snapshot-500000 for model C:\\DLC\\3D_8cam_vid\\3cam_BEH-BidayeLab-2022-09-16\\dlc-models\\iteration-0\\3cam_BEHSep16-trainset95shuffle1\n",
      "Switching to numpy-based keypoint extraction code, as multiple point extraction is not supported by TF code currently.\n",
      "Extracting  20 instances per bodypart\n"
     ]
    },
    {
     "name": "stderr",
     "output_type": "stream",
     "text": [
      "C:\\ProgramData\\Anaconda3\\envs\\deeplabcut\\lib\\site-packages\\tensorflow\\python\\keras\\engine\\base_layer_v1.py:1694: UserWarning: `layer.apply` is deprecated and will be removed in a future version. Please use `layer.__call__` method instead.\n",
      "  warnings.warn('`layer.apply` is deprecated and '\n",
      "C:\\ProgramData\\Anaconda3\\envs\\deeplabcut\\lib\\site-packages\\tf_slim\\layers\\layers.py:684: UserWarning: `layer.apply` is deprecated and will be removed in a future version. Please use `layer.__call__` method instead.\n",
      "  outputs = layer.apply(inputs, training=is_training)\n"
     ]
    },
    {
     "name": "stdout",
     "output_type": "stream",
     "text": [
      "Starting to analyze %  \\\\mpfi.org\\public\\sb-lab\\DLC-analyses\\new-video-analyses\\Files_For_Analysis\\10242022\\STOP-1_CL_FreqSampling\\N1\\Ball\\E-10132022181827-0000.mp4\n",
      "The videos are analyzed. Now your research can truly start! \n",
      " You can create labeled videos with 'create_labeled_video'\n",
      "If the tracking is not satisfactory for some videos, consider expanding the training set. You can use the function 'extract_outlier_frames' to extract a few representative outlier frames.\n",
      "Filtering with median model \\\\mpfi.org\\public\\sb-lab\\DLC-analyses\\new-video-analyses\\Files_For_Analysis\\10242022\\STOP-1_CL_FreqSampling\\N1\\Ball\\E-10132022181827-0000.mp4\n",
      "Data from E-10132022181827-0000 were already filtered. Skipping...\n",
      "idx: 5\n",
      "model_paths[idx]: C:\\DLC\\3D_8cam_vid\\camF_FS34_RN101-BidayeLab-2022-10-01\n",
      "single_folder[idx]: \\\\mpfi.org\\public\\sb-lab\\DLC-analyses\\new-video-analyses\\Files_For_Analysis\\10242022\\STOP-1_CL_FreqSampling\\N1\\Ball\\F-10132022181821-0000.mp4\n",
      "Using snapshot-500000 for model C:\\DLC\\3D_8cam_vid\\camF_FS34_RN101-BidayeLab-2022-10-01\\dlc-models\\iteration-0\\camF_FS34_RN101Oct1-trainset95shuffle1\n",
      "Switching to numpy-based keypoint extraction code, as multiple point extraction is not supported by TF code currently.\n",
      "Extracting  20 instances per bodypart\n"
     ]
    },
    {
     "name": "stderr",
     "output_type": "stream",
     "text": [
      "C:\\ProgramData\\Anaconda3\\envs\\deeplabcut\\lib\\site-packages\\tensorflow\\python\\keras\\engine\\base_layer_v1.py:1694: UserWarning: `layer.apply` is deprecated and will be removed in a future version. Please use `layer.__call__` method instead.\n",
      "  warnings.warn('`layer.apply` is deprecated and '\n",
      "C:\\ProgramData\\Anaconda3\\envs\\deeplabcut\\lib\\site-packages\\tf_slim\\layers\\layers.py:684: UserWarning: `layer.apply` is deprecated and will be removed in a future version. Please use `layer.__call__` method instead.\n",
      "  outputs = layer.apply(inputs, training=is_training)\n"
     ]
    },
    {
     "name": "stdout",
     "output_type": "stream",
     "text": [
      "Starting to analyze %  \\\\mpfi.org\\public\\sb-lab\\DLC-analyses\\new-video-analyses\\Files_For_Analysis\\10242022\\STOP-1_CL_FreqSampling\\N1\\Ball\\F-10132022181821-0000.mp4\n",
      "The videos are analyzed. Now your research can truly start! \n",
      " You can create labeled videos with 'create_labeled_video'\n",
      "If the tracking is not satisfactory for some videos, consider expanding the training set. You can use the function 'extract_outlier_frames' to extract a few representative outlier frames.\n",
      "Filtering with median model \\\\mpfi.org\\public\\sb-lab\\DLC-analyses\\new-video-analyses\\Files_For_Analysis\\10242022\\STOP-1_CL_FreqSampling\\N1\\Ball\\F-10132022181821-0000.mp4\n",
      "Data from F-10132022181821-0000 were already filtered. Skipping...\n",
      "idx: 6\n",
      "idx: 7\n",
      "model_paths[idx]: C:\\DLC\\3D_8cam_vid\\3cam_BEH-BidayeLab-2022-09-16\n",
      "single_folder[idx]: \\\\mpfi.org\\public\\sb-lab\\DLC-analyses\\new-video-analyses\\Files_For_Analysis\\10242022\\STOP-1_CL_FreqSampling\\N1\\Ball\\H-10132022181820-0000.mp4\n",
      "Using snapshot-500000 for model C:\\DLC\\3D_8cam_vid\\3cam_BEH-BidayeLab-2022-09-16\\dlc-models\\iteration-0\\3cam_BEHSep16-trainset95shuffle1\n",
      "Switching to numpy-based keypoint extraction code, as multiple point extraction is not supported by TF code currently.\n",
      "Extracting  20 instances per bodypart\n"
     ]
    },
    {
     "name": "stderr",
     "output_type": "stream",
     "text": [
      "C:\\ProgramData\\Anaconda3\\envs\\deeplabcut\\lib\\site-packages\\tensorflow\\python\\keras\\engine\\base_layer_v1.py:1694: UserWarning: `layer.apply` is deprecated and will be removed in a future version. Please use `layer.__call__` method instead.\n",
      "  warnings.warn('`layer.apply` is deprecated and '\n",
      "C:\\ProgramData\\Anaconda3\\envs\\deeplabcut\\lib\\site-packages\\tf_slim\\layers\\layers.py:684: UserWarning: `layer.apply` is deprecated and will be removed in a future version. Please use `layer.__call__` method instead.\n",
      "  outputs = layer.apply(inputs, training=is_training)\n"
     ]
    },
    {
     "name": "stdout",
     "output_type": "stream",
     "text": [
      "Starting to analyze %  \\\\mpfi.org\\public\\sb-lab\\DLC-analyses\\new-video-analyses\\Files_For_Analysis\\10242022\\STOP-1_CL_FreqSampling\\N1\\Ball\\H-10132022181820-0000.mp4\n",
      "Loading  \\\\mpfi.org\\public\\sb-lab\\DLC-analyses\\new-video-analyses\\Files_For_Analysis\\10242022\\STOP-1_CL_FreqSampling\\N1\\Ball\\H-10132022181820-0000.mp4\n",
      "Duration of video [s]:  71.33 , recorded with  200.0 fps!\n",
      "Overall # of frames:  14266  found with (before cropping) frame dimensions:  1440 1080\n",
      "Starting to extract posture\n"
     ]
    },
    {
     "name": "stderr",
     "output_type": "stream",
     "text": [
      "100%|███████████████████████████████████████████████████████████████████████████▋| 14200/14266 [16:44<00:04, 14.13it/s]\n"
     ]
    },
    {
     "name": "stdout",
     "output_type": "stream",
     "text": [
      "Saving results in \\\\mpfi.org\\public\\sb-lab\\DLC-analyses\\new-video-analyses\\Files_For_Analysis\\10242022\\STOP-1_CL_FreqSampling\\N1\\Ball...\n",
      "Saving csv poses!\n",
      "The videos are analyzed. Now your research can truly start! \n",
      " You can create labeled videos with 'create_labeled_video'\n",
      "If the tracking is not satisfactory for some videos, consider expanding the training set. You can use the function 'extract_outlier_frames' to extract a few representative outlier frames.\n",
      "Filtering with median model \\\\mpfi.org\\public\\sb-lab\\DLC-analyses\\new-video-analyses\\Files_For_Analysis\\10242022\\STOP-1_CL_FreqSampling\\N1\\Ball\\H-10132022181820-0000.mp4\n",
      "Saving filtered csv poses!\n",
      "idx: 0\n",
      "model_paths[idx]: C:\\DLC\\3D_8cam_vid\\camA_FS34_RN101-BidayeLab-2022-09-20\n",
      "single_folder[idx]: \\\\mpfi.org\\public\\sb-lab\\DLC-analyses\\new-video-analyses\\Files_For_Analysis\\10242022\\STOP-1_CL_FreqSampling\\N11\\Ball\\A-10192022163738-0000.mp4\n",
      "Using snapshot-500000 for model C:\\DLC\\3D_8cam_vid\\camA_FS34_RN101-BidayeLab-2022-09-20\\dlc-models\\iteration-1\\camA_FS34_RN101Sep20-trainset95shuffle1\n",
      "Switching to numpy-based keypoint extraction code, as multiple point extraction is not supported by TF code currently.\n",
      "Extracting  20 instances per bodypart\n"
     ]
    },
    {
     "name": "stderr",
     "output_type": "stream",
     "text": [
      "C:\\ProgramData\\Anaconda3\\envs\\deeplabcut\\lib\\site-packages\\tensorflow\\python\\keras\\engine\\base_layer_v1.py:1694: UserWarning: `layer.apply` is deprecated and will be removed in a future version. Please use `layer.__call__` method instead.\n",
      "  warnings.warn('`layer.apply` is deprecated and '\n",
      "C:\\ProgramData\\Anaconda3\\envs\\deeplabcut\\lib\\site-packages\\tf_slim\\layers\\layers.py:684: UserWarning: `layer.apply` is deprecated and will be removed in a future version. Please use `layer.__call__` method instead.\n",
      "  outputs = layer.apply(inputs, training=is_training)\n"
     ]
    },
    {
     "name": "stdout",
     "output_type": "stream",
     "text": [
      "Starting to analyze %  \\\\mpfi.org\\public\\sb-lab\\DLC-analyses\\new-video-analyses\\Files_For_Analysis\\10242022\\STOP-1_CL_FreqSampling\\N11\\Ball\\A-10192022163738-0000.mp4\n",
      "Loading  \\\\mpfi.org\\public\\sb-lab\\DLC-analyses\\new-video-analyses\\Files_For_Analysis\\10242022\\STOP-1_CL_FreqSampling\\N11\\Ball\\A-10192022163738-0000.mp4\n",
      "Duration of video [s]:  79.11 , recorded with  200.0 fps!\n",
      "Overall # of frames:  15823  found with (before cropping) frame dimensions:  1440 1080\n",
      "Starting to extract posture\n"
     ]
    },
    {
     "name": "stderr",
     "output_type": "stream",
     "text": [
      "100%|███████████████████████████████████████████████████████████████████████████▉| 15800/15823 [16:32<00:01, 15.93it/s]\n"
     ]
    },
    {
     "name": "stdout",
     "output_type": "stream",
     "text": [
      "Saving results in \\\\mpfi.org\\public\\sb-lab\\DLC-analyses\\new-video-analyses\\Files_For_Analysis\\10242022\\STOP-1_CL_FreqSampling\\N11\\Ball...\n",
      "Saving csv poses!\n",
      "The videos are analyzed. Now your research can truly start! \n",
      " You can create labeled videos with 'create_labeled_video'\n",
      "If the tracking is not satisfactory for some videos, consider expanding the training set. You can use the function 'extract_outlier_frames' to extract a few representative outlier frames.\n",
      "Filtering with median model \\\\mpfi.org\\public\\sb-lab\\DLC-analyses\\new-video-analyses\\Files_For_Analysis\\10242022\\STOP-1_CL_FreqSampling\\N11\\Ball\\A-10192022163738-0000.mp4\n",
      "Saving filtered csv poses!\n",
      "idx: 1\n",
      "model_paths[idx]: C:\\DLC\\3D_8cam_vid\\3cam_BEH-BidayeLab-2022-09-16\n",
      "single_folder[idx]: \\\\mpfi.org\\public\\sb-lab\\DLC-analyses\\new-video-analyses\\Files_For_Analysis\\10242022\\STOP-1_CL_FreqSampling\\N11\\Ball\\B-10192022163741-0000.mp4\n",
      "Using snapshot-500000 for model C:\\DLC\\3D_8cam_vid\\3cam_BEH-BidayeLab-2022-09-16\\dlc-models\\iteration-0\\3cam_BEHSep16-trainset95shuffle1\n",
      "Switching to numpy-based keypoint extraction code, as multiple point extraction is not supported by TF code currently.\n",
      "Extracting  20 instances per bodypart\n"
     ]
    },
    {
     "name": "stderr",
     "output_type": "stream",
     "text": [
      "C:\\ProgramData\\Anaconda3\\envs\\deeplabcut\\lib\\site-packages\\tensorflow\\python\\keras\\engine\\base_layer_v1.py:1694: UserWarning: `layer.apply` is deprecated and will be removed in a future version. Please use `layer.__call__` method instead.\n",
      "  warnings.warn('`layer.apply` is deprecated and '\n",
      "C:\\ProgramData\\Anaconda3\\envs\\deeplabcut\\lib\\site-packages\\tf_slim\\layers\\layers.py:684: UserWarning: `layer.apply` is deprecated and will be removed in a future version. Please use `layer.__call__` method instead.\n",
      "  outputs = layer.apply(inputs, training=is_training)\n"
     ]
    },
    {
     "name": "stdout",
     "output_type": "stream",
     "text": [
      "Starting to analyze %  \\\\mpfi.org\\public\\sb-lab\\DLC-analyses\\new-video-analyses\\Files_For_Analysis\\10242022\\STOP-1_CL_FreqSampling\\N11\\Ball\\B-10192022163741-0000.mp4\n",
      "Loading  \\\\mpfi.org\\public\\sb-lab\\DLC-analyses\\new-video-analyses\\Files_For_Analysis\\10242022\\STOP-1_CL_FreqSampling\\N11\\Ball\\B-10192022163741-0000.mp4\n",
      "Duration of video [s]:  79.11 , recorded with  200.0 fps!\n",
      "Overall # of frames:  15823  found with (before cropping) frame dimensions:  1440 1080\n",
      "Starting to extract posture\n"
     ]
    },
    {
     "name": "stderr",
     "output_type": "stream",
     "text": [
      "100%|███████████████████████████████████████████████████████████████████████████▉| 15800/15823 [18:07<00:01, 14.53it/s]\n"
     ]
    },
    {
     "name": "stdout",
     "output_type": "stream",
     "text": [
      "Saving results in \\\\mpfi.org\\public\\sb-lab\\DLC-analyses\\new-video-analyses\\Files_For_Analysis\\10242022\\STOP-1_CL_FreqSampling\\N11\\Ball...\n",
      "Saving csv poses!\n",
      "The videos are analyzed. Now your research can truly start! \n",
      " You can create labeled videos with 'create_labeled_video'\n",
      "If the tracking is not satisfactory for some videos, consider expanding the training set. You can use the function 'extract_outlier_frames' to extract a few representative outlier frames.\n",
      "Filtering with median model \\\\mpfi.org\\public\\sb-lab\\DLC-analyses\\new-video-analyses\\Files_For_Analysis\\10242022\\STOP-1_CL_FreqSampling\\N11\\Ball\\B-10192022163741-0000.mp4\n",
      "Saving filtered csv poses!\n",
      "idx: 2\n",
      "model_paths[idx]: C:\\DLC\\3D_8cam_vid\\camC_FS34_RN101-BidayeLab-2022-10-01\n",
      "single_folder[idx]: \\\\mpfi.org\\public\\sb-lab\\DLC-analyses\\new-video-analyses\\Files_For_Analysis\\10242022\\STOP-1_CL_FreqSampling\\N11\\Ball\\C-10192022163746-0000.mp4\n",
      "Using snapshot-500000 for model C:\\DLC\\3D_8cam_vid\\camC_FS34_RN101-BidayeLab-2022-10-01\\dlc-models\\iteration-0\\camC_FS34_RN101Oct1-trainset95shuffle1\n",
      "Switching to numpy-based keypoint extraction code, as multiple point extraction is not supported by TF code currently.\n",
      "Extracting  20 instances per bodypart\n"
     ]
    },
    {
     "name": "stderr",
     "output_type": "stream",
     "text": [
      "C:\\ProgramData\\Anaconda3\\envs\\deeplabcut\\lib\\site-packages\\tensorflow\\python\\keras\\engine\\base_layer_v1.py:1694: UserWarning: `layer.apply` is deprecated and will be removed in a future version. Please use `layer.__call__` method instead.\n",
      "  warnings.warn('`layer.apply` is deprecated and '\n",
      "C:\\ProgramData\\Anaconda3\\envs\\deeplabcut\\lib\\site-packages\\tf_slim\\layers\\layers.py:684: UserWarning: `layer.apply` is deprecated and will be removed in a future version. Please use `layer.__call__` method instead.\n",
      "  outputs = layer.apply(inputs, training=is_training)\n"
     ]
    },
    {
     "name": "stdout",
     "output_type": "stream",
     "text": [
      "Starting to analyze %  \\\\mpfi.org\\public\\sb-lab\\DLC-analyses\\new-video-analyses\\Files_For_Analysis\\10242022\\STOP-1_CL_FreqSampling\\N11\\Ball\\C-10192022163746-0000.mp4\n",
      "Loading  \\\\mpfi.org\\public\\sb-lab\\DLC-analyses\\new-video-analyses\\Files_For_Analysis\\10242022\\STOP-1_CL_FreqSampling\\N11\\Ball\\C-10192022163746-0000.mp4\n",
      "Duration of video [s]:  79.11 , recorded with  200.0 fps!\n",
      "Overall # of frames:  15823  found with (before cropping) frame dimensions:  1440 1080\n",
      "Starting to extract posture\n"
     ]
    },
    {
     "name": "stderr",
     "output_type": "stream",
     "text": [
      "100%|███████████████████████████████████████████████████████████████████████████▉| 15800/15823 [16:22<00:01, 16.07it/s]\n"
     ]
    },
    {
     "name": "stdout",
     "output_type": "stream",
     "text": [
      "Saving results in \\\\mpfi.org\\public\\sb-lab\\DLC-analyses\\new-video-analyses\\Files_For_Analysis\\10242022\\STOP-1_CL_FreqSampling\\N11\\Ball...\n",
      "Saving csv poses!\n",
      "The videos are analyzed. Now your research can truly start! \n",
      " You can create labeled videos with 'create_labeled_video'\n",
      "If the tracking is not satisfactory for some videos, consider expanding the training set. You can use the function 'extract_outlier_frames' to extract a few representative outlier frames.\n",
      "Filtering with median model \\\\mpfi.org\\public\\sb-lab\\DLC-analyses\\new-video-analyses\\Files_For_Analysis\\10242022\\STOP-1_CL_FreqSampling\\N11\\Ball\\C-10192022163746-0000.mp4\n",
      "Saving filtered csv poses!\n",
      "idx: 3\n",
      "model_paths[idx]: C:\\DLC\\3D_8cam_vid\\camD_FS34_RN101-BidayeLab-2022-09-20\n",
      "single_folder[idx]: \\\\mpfi.org\\public\\sb-lab\\DLC-analyses\\new-video-analyses\\Files_For_Analysis\\10242022\\STOP-1_CL_FreqSampling\\N11\\Ball\\D-10192022163739-0000.mp4\n",
      "Using snapshot-500000 for model C:\\DLC\\3D_8cam_vid\\camD_FS34_RN101-BidayeLab-2022-09-20\\dlc-models\\iteration-0\\camD_FS34_RN101Sep20-trainset95shuffle1\n",
      "Switching to numpy-based keypoint extraction code, as multiple point extraction is not supported by TF code currently.\n",
      "Extracting  20 instances per bodypart\n"
     ]
    },
    {
     "name": "stderr",
     "output_type": "stream",
     "text": [
      "C:\\ProgramData\\Anaconda3\\envs\\deeplabcut\\lib\\site-packages\\tensorflow\\python\\keras\\engine\\base_layer_v1.py:1694: UserWarning: `layer.apply` is deprecated and will be removed in a future version. Please use `layer.__call__` method instead.\n",
      "  warnings.warn('`layer.apply` is deprecated and '\n",
      "C:\\ProgramData\\Anaconda3\\envs\\deeplabcut\\lib\\site-packages\\tf_slim\\layers\\layers.py:684: UserWarning: `layer.apply` is deprecated and will be removed in a future version. Please use `layer.__call__` method instead.\n",
      "  outputs = layer.apply(inputs, training=is_training)\n"
     ]
    },
    {
     "name": "stdout",
     "output_type": "stream",
     "text": [
      "Starting to analyze %  \\\\mpfi.org\\public\\sb-lab\\DLC-analyses\\new-video-analyses\\Files_For_Analysis\\10242022\\STOP-1_CL_FreqSampling\\N11\\Ball\\D-10192022163739-0000.mp4\n",
      "Loading  \\\\mpfi.org\\public\\sb-lab\\DLC-analyses\\new-video-analyses\\Files_For_Analysis\\10242022\\STOP-1_CL_FreqSampling\\N11\\Ball\\D-10192022163739-0000.mp4\n",
      "Duration of video [s]:  79.11 , recorded with  200.0 fps!\n",
      "Overall # of frames:  15823  found with (before cropping) frame dimensions:  1440 1080\n",
      "Starting to extract posture\n"
     ]
    },
    {
     "name": "stderr",
     "output_type": "stream",
     "text": [
      "100%|███████████████████████████████████████████████████████████████████████████▉| 15800/15823 [16:38<00:01, 15.83it/s]\n"
     ]
    },
    {
     "name": "stdout",
     "output_type": "stream",
     "text": [
      "Saving results in \\\\mpfi.org\\public\\sb-lab\\DLC-analyses\\new-video-analyses\\Files_For_Analysis\\10242022\\STOP-1_CL_FreqSampling\\N11\\Ball...\n",
      "Saving csv poses!\n",
      "The videos are analyzed. Now your research can truly start! \n",
      " You can create labeled videos with 'create_labeled_video'\n",
      "If the tracking is not satisfactory for some videos, consider expanding the training set. You can use the function 'extract_outlier_frames' to extract a few representative outlier frames.\n",
      "Filtering with median model \\\\mpfi.org\\public\\sb-lab\\DLC-analyses\\new-video-analyses\\Files_For_Analysis\\10242022\\STOP-1_CL_FreqSampling\\N11\\Ball\\D-10192022163739-0000.mp4\n",
      "Saving filtered csv poses!\n",
      "idx: 4\n",
      "model_paths[idx]: C:\\DLC\\3D_8cam_vid\\3cam_BEH-BidayeLab-2022-09-16\n",
      "single_folder[idx]: \\\\mpfi.org\\public\\sb-lab\\DLC-analyses\\new-video-analyses\\Files_For_Analysis\\10242022\\STOP-1_CL_FreqSampling\\N11\\Ball\\E-10192022163740-0000.mp4\n",
      "Using snapshot-500000 for model C:\\DLC\\3D_8cam_vid\\3cam_BEH-BidayeLab-2022-09-16\\dlc-models\\iteration-0\\3cam_BEHSep16-trainset95shuffle1\n",
      "Switching to numpy-based keypoint extraction code, as multiple point extraction is not supported by TF code currently.\n",
      "Extracting  20 instances per bodypart\n"
     ]
    },
    {
     "name": "stderr",
     "output_type": "stream",
     "text": [
      "C:\\ProgramData\\Anaconda3\\envs\\deeplabcut\\lib\\site-packages\\tensorflow\\python\\keras\\engine\\base_layer_v1.py:1694: UserWarning: `layer.apply` is deprecated and will be removed in a future version. Please use `layer.__call__` method instead.\n",
      "  warnings.warn('`layer.apply` is deprecated and '\n",
      "C:\\ProgramData\\Anaconda3\\envs\\deeplabcut\\lib\\site-packages\\tf_slim\\layers\\layers.py:684: UserWarning: `layer.apply` is deprecated and will be removed in a future version. Please use `layer.__call__` method instead.\n",
      "  outputs = layer.apply(inputs, training=is_training)\n"
     ]
    },
    {
     "name": "stdout",
     "output_type": "stream",
     "text": [
      "Starting to analyze %  \\\\mpfi.org\\public\\sb-lab\\DLC-analyses\\new-video-analyses\\Files_For_Analysis\\10242022\\STOP-1_CL_FreqSampling\\N11\\Ball\\E-10192022163740-0000.mp4\n",
      "Loading  \\\\mpfi.org\\public\\sb-lab\\DLC-analyses\\new-video-analyses\\Files_For_Analysis\\10242022\\STOP-1_CL_FreqSampling\\N11\\Ball\\E-10192022163740-0000.mp4\n",
      "Duration of video [s]:  79.11 , recorded with  200.0 fps!\n",
      "Overall # of frames:  15823  found with (before cropping) frame dimensions:  1440 1080\n",
      "Starting to extract posture\n"
     ]
    },
    {
     "name": "stderr",
     "output_type": "stream",
     "text": [
      "100%|███████████████████████████████████████████████████████████████████████████▉| 15800/15823 [18:27<00:01, 14.27it/s]\n"
     ]
    },
    {
     "name": "stdout",
     "output_type": "stream",
     "text": [
      "Saving results in \\\\mpfi.org\\public\\sb-lab\\DLC-analyses\\new-video-analyses\\Files_For_Analysis\\10242022\\STOP-1_CL_FreqSampling\\N11\\Ball...\n",
      "Saving csv poses!\n",
      "The videos are analyzed. Now your research can truly start! \n",
      " You can create labeled videos with 'create_labeled_video'\n",
      "If the tracking is not satisfactory for some videos, consider expanding the training set. You can use the function 'extract_outlier_frames' to extract a few representative outlier frames.\n",
      "Filtering with median model \\\\mpfi.org\\public\\sb-lab\\DLC-analyses\\new-video-analyses\\Files_For_Analysis\\10242022\\STOP-1_CL_FreqSampling\\N11\\Ball\\E-10192022163740-0000.mp4\n",
      "Saving filtered csv poses!\n",
      "idx: 5\n",
      "model_paths[idx]: C:\\DLC\\3D_8cam_vid\\camF_FS34_RN101-BidayeLab-2022-10-01\n",
      "single_folder[idx]: \\\\mpfi.org\\public\\sb-lab\\DLC-analyses\\new-video-analyses\\Files_For_Analysis\\10242022\\STOP-1_CL_FreqSampling\\N11\\Ball\\F-10192022163747-0000.mp4\n",
      "Using snapshot-500000 for model C:\\DLC\\3D_8cam_vid\\camF_FS34_RN101-BidayeLab-2022-10-01\\dlc-models\\iteration-0\\camF_FS34_RN101Oct1-trainset95shuffle1\n",
      "Switching to numpy-based keypoint extraction code, as multiple point extraction is not supported by TF code currently.\n",
      "Extracting  20 instances per bodypart\n"
     ]
    },
    {
     "name": "stderr",
     "output_type": "stream",
     "text": [
      "C:\\ProgramData\\Anaconda3\\envs\\deeplabcut\\lib\\site-packages\\tensorflow\\python\\keras\\engine\\base_layer_v1.py:1694: UserWarning: `layer.apply` is deprecated and will be removed in a future version. Please use `layer.__call__` method instead.\n",
      "  warnings.warn('`layer.apply` is deprecated and '\n",
      "C:\\ProgramData\\Anaconda3\\envs\\deeplabcut\\lib\\site-packages\\tf_slim\\layers\\layers.py:684: UserWarning: `layer.apply` is deprecated and will be removed in a future version. Please use `layer.__call__` method instead.\n",
      "  outputs = layer.apply(inputs, training=is_training)\n"
     ]
    },
    {
     "name": "stdout",
     "output_type": "stream",
     "text": [
      "Starting to analyze %  \\\\mpfi.org\\public\\sb-lab\\DLC-analyses\\new-video-analyses\\Files_For_Analysis\\10242022\\STOP-1_CL_FreqSampling\\N11\\Ball\\F-10192022163747-0000.mp4\n",
      "Loading  \\\\mpfi.org\\public\\sb-lab\\DLC-analyses\\new-video-analyses\\Files_For_Analysis\\10242022\\STOP-1_CL_FreqSampling\\N11\\Ball\\F-10192022163747-0000.mp4\n",
      "Duration of video [s]:  79.11 , recorded with  200.0 fps!\n",
      "Overall # of frames:  15823  found with (before cropping) frame dimensions:  1440 1080\n",
      "Starting to extract posture\n"
     ]
    },
    {
     "name": "stderr",
     "output_type": "stream",
     "text": [
      "100%|███████████████████████████████████████████████████████████████████████████▉| 15800/15823 [16:27<00:01, 16.00it/s]\n"
     ]
    },
    {
     "name": "stdout",
     "output_type": "stream",
     "text": [
      "Saving results in \\\\mpfi.org\\public\\sb-lab\\DLC-analyses\\new-video-analyses\\Files_For_Analysis\\10242022\\STOP-1_CL_FreqSampling\\N11\\Ball...\n",
      "Saving csv poses!\n",
      "The videos are analyzed. Now your research can truly start! \n",
      " You can create labeled videos with 'create_labeled_video'\n",
      "If the tracking is not satisfactory for some videos, consider expanding the training set. You can use the function 'extract_outlier_frames' to extract a few representative outlier frames.\n",
      "Filtering with median model \\\\mpfi.org\\public\\sb-lab\\DLC-analyses\\new-video-analyses\\Files_For_Analysis\\10242022\\STOP-1_CL_FreqSampling\\N11\\Ball\\F-10192022163747-0000.mp4\n",
      "Saving filtered csv poses!\n",
      "idx: 6\n",
      "idx: 7\n",
      "model_paths[idx]: C:\\DLC\\3D_8cam_vid\\3cam_BEH-BidayeLab-2022-09-16\n",
      "single_folder[idx]: \\\\mpfi.org\\public\\sb-lab\\DLC-analyses\\new-video-analyses\\Files_For_Analysis\\10242022\\STOP-1_CL_FreqSampling\\N11\\Ball\\H-10192022163748-0000.mp4\n",
      "Using snapshot-500000 for model C:\\DLC\\3D_8cam_vid\\3cam_BEH-BidayeLab-2022-09-16\\dlc-models\\iteration-0\\3cam_BEHSep16-trainset95shuffle1\n",
      "Switching to numpy-based keypoint extraction code, as multiple point extraction is not supported by TF code currently.\n",
      "Extracting  20 instances per bodypart\n"
     ]
    },
    {
     "name": "stderr",
     "output_type": "stream",
     "text": [
      "C:\\ProgramData\\Anaconda3\\envs\\deeplabcut\\lib\\site-packages\\tensorflow\\python\\keras\\engine\\base_layer_v1.py:1694: UserWarning: `layer.apply` is deprecated and will be removed in a future version. Please use `layer.__call__` method instead.\n",
      "  warnings.warn('`layer.apply` is deprecated and '\n",
      "C:\\ProgramData\\Anaconda3\\envs\\deeplabcut\\lib\\site-packages\\tf_slim\\layers\\layers.py:684: UserWarning: `layer.apply` is deprecated and will be removed in a future version. Please use `layer.__call__` method instead.\n",
      "  outputs = layer.apply(inputs, training=is_training)\n"
     ]
    },
    {
     "name": "stdout",
     "output_type": "stream",
     "text": [
      "Starting to analyze %  \\\\mpfi.org\\public\\sb-lab\\DLC-analyses\\new-video-analyses\\Files_For_Analysis\\10242022\\STOP-1_CL_FreqSampling\\N11\\Ball\\H-10192022163748-0000.mp4\n",
      "Loading  \\\\mpfi.org\\public\\sb-lab\\DLC-analyses\\new-video-analyses\\Files_For_Analysis\\10242022\\STOP-1_CL_FreqSampling\\N11\\Ball\\H-10192022163748-0000.mp4\n",
      "Duration of video [s]:  79.11 , recorded with  200.0 fps!\n",
      "Overall # of frames:  15823  found with (before cropping) frame dimensions:  1440 1080\n",
      "Starting to extract posture\n"
     ]
    },
    {
     "name": "stderr",
     "output_type": "stream",
     "text": [
      "100%|███████████████████████████████████████████████████████████████████████████▉| 15800/15823 [18:31<00:01, 14.21it/s]\n"
     ]
    },
    {
     "name": "stdout",
     "output_type": "stream",
     "text": [
      "Saving results in \\\\mpfi.org\\public\\sb-lab\\DLC-analyses\\new-video-analyses\\Files_For_Analysis\\10242022\\STOP-1_CL_FreqSampling\\N11\\Ball...\n",
      "Saving csv poses!\n",
      "The videos are analyzed. Now your research can truly start! \n",
      " You can create labeled videos with 'create_labeled_video'\n",
      "If the tracking is not satisfactory for some videos, consider expanding the training set. You can use the function 'extract_outlier_frames' to extract a few representative outlier frames.\n",
      "Filtering with median model \\\\mpfi.org\\public\\sb-lab\\DLC-analyses\\new-video-analyses\\Files_For_Analysis\\10242022\\STOP-1_CL_FreqSampling\\N11\\Ball\\H-10192022163748-0000.mp4\n",
      "Saving filtered csv poses!\n",
      "idx: 0\n",
      "model_paths[idx]: C:\\DLC\\3D_8cam_vid\\camA_FS34_RN101-BidayeLab-2022-09-20\n",
      "single_folder[idx]: \\\\mpfi.org\\public\\sb-lab\\DLC-analyses\\new-video-analyses\\Files_For_Analysis\\10242022\\STOP-1_CL_FreqSampling\\N12\\Ball\\A-10192022170220-0000.mp4\n",
      "Using snapshot-500000 for model C:\\DLC\\3D_8cam_vid\\camA_FS34_RN101-BidayeLab-2022-09-20\\dlc-models\\iteration-1\\camA_FS34_RN101Sep20-trainset95shuffle1\n",
      "Switching to numpy-based keypoint extraction code, as multiple point extraction is not supported by TF code currently.\n",
      "Extracting  20 instances per bodypart\n"
     ]
    },
    {
     "name": "stderr",
     "output_type": "stream",
     "text": [
      "C:\\ProgramData\\Anaconda3\\envs\\deeplabcut\\lib\\site-packages\\tensorflow\\python\\keras\\engine\\base_layer_v1.py:1694: UserWarning: `layer.apply` is deprecated and will be removed in a future version. Please use `layer.__call__` method instead.\n",
      "  warnings.warn('`layer.apply` is deprecated and '\n",
      "C:\\ProgramData\\Anaconda3\\envs\\deeplabcut\\lib\\site-packages\\tf_slim\\layers\\layers.py:684: UserWarning: `layer.apply` is deprecated and will be removed in a future version. Please use `layer.__call__` method instead.\n",
      "  outputs = layer.apply(inputs, training=is_training)\n"
     ]
    },
    {
     "name": "stdout",
     "output_type": "stream",
     "text": [
      "Starting to analyze %  \\\\mpfi.org\\public\\sb-lab\\DLC-analyses\\new-video-analyses\\Files_For_Analysis\\10242022\\STOP-1_CL_FreqSampling\\N12\\Ball\\A-10192022170220-0000.mp4\n",
      "Loading  \\\\mpfi.org\\public\\sb-lab\\DLC-analyses\\new-video-analyses\\Files_For_Analysis\\10242022\\STOP-1_CL_FreqSampling\\N12\\Ball\\A-10192022170220-0000.mp4\n",
      "Duration of video [s]:  70.0 , recorded with  200.0 fps!\n",
      "Overall # of frames:  14000  found with (before cropping) frame dimensions:  1440 1080\n",
      "Starting to extract posture\n"
     ]
    },
    {
     "name": "stderr",
     "output_type": "stream",
     "text": [
      "100%|████████████████████████████████████████████████████████████████████████████| 14000/14000 [14:39<00:00, 15.91it/s]\n"
     ]
    },
    {
     "name": "stdout",
     "output_type": "stream",
     "text": [
      "Saving results in \\\\mpfi.org\\public\\sb-lab\\DLC-analyses\\new-video-analyses\\Files_For_Analysis\\10242022\\STOP-1_CL_FreqSampling\\N12\\Ball...\n",
      "Saving csv poses!\n",
      "The videos are analyzed. Now your research can truly start! \n",
      " You can create labeled videos with 'create_labeled_video'\n",
      "If the tracking is not satisfactory for some videos, consider expanding the training set. You can use the function 'extract_outlier_frames' to extract a few representative outlier frames.\n",
      "Filtering with median model \\\\mpfi.org\\public\\sb-lab\\DLC-analyses\\new-video-analyses\\Files_For_Analysis\\10242022\\STOP-1_CL_FreqSampling\\N12\\Ball\\A-10192022170220-0000.mp4\n",
      "Saving filtered csv poses!\n",
      "idx: 1\n",
      "model_paths[idx]: C:\\DLC\\3D_8cam_vid\\3cam_BEH-BidayeLab-2022-09-16\n",
      "single_folder[idx]: \\\\mpfi.org\\public\\sb-lab\\DLC-analyses\\new-video-analyses\\Files_For_Analysis\\10242022\\STOP-1_CL_FreqSampling\\N12\\Ball\\B-10192022170223-0000.mp4\n",
      "Using snapshot-500000 for model C:\\DLC\\3D_8cam_vid\\3cam_BEH-BidayeLab-2022-09-16\\dlc-models\\iteration-0\\3cam_BEHSep16-trainset95shuffle1\n",
      "Switching to numpy-based keypoint extraction code, as multiple point extraction is not supported by TF code currently.\n",
      "Extracting  20 instances per bodypart\n"
     ]
    },
    {
     "name": "stderr",
     "output_type": "stream",
     "text": [
      "C:\\ProgramData\\Anaconda3\\envs\\deeplabcut\\lib\\site-packages\\tensorflow\\python\\keras\\engine\\base_layer_v1.py:1694: UserWarning: `layer.apply` is deprecated and will be removed in a future version. Please use `layer.__call__` method instead.\n",
      "  warnings.warn('`layer.apply` is deprecated and '\n",
      "C:\\ProgramData\\Anaconda3\\envs\\deeplabcut\\lib\\site-packages\\tf_slim\\layers\\layers.py:684: UserWarning: `layer.apply` is deprecated and will be removed in a future version. Please use `layer.__call__` method instead.\n",
      "  outputs = layer.apply(inputs, training=is_training)\n"
     ]
    },
    {
     "name": "stdout",
     "output_type": "stream",
     "text": [
      "Starting to analyze %  \\\\mpfi.org\\public\\sb-lab\\DLC-analyses\\new-video-analyses\\Files_For_Analysis\\10242022\\STOP-1_CL_FreqSampling\\N12\\Ball\\B-10192022170223-0000.mp4\n",
      "Loading  \\\\mpfi.org\\public\\sb-lab\\DLC-analyses\\new-video-analyses\\Files_For_Analysis\\10242022\\STOP-1_CL_FreqSampling\\N12\\Ball\\B-10192022170223-0000.mp4\n",
      "Duration of video [s]:  70.0 , recorded with  200.0 fps!\n",
      "Overall # of frames:  14000  found with (before cropping) frame dimensions:  1440 1080\n",
      "Starting to extract posture\n"
     ]
    },
    {
     "name": "stderr",
     "output_type": "stream",
     "text": [
      "100%|████████████████████████████████████████████████████████████████████████████| 14000/14000 [16:21<00:00, 14.26it/s]\n"
     ]
    },
    {
     "name": "stdout",
     "output_type": "stream",
     "text": [
      "Saving results in \\\\mpfi.org\\public\\sb-lab\\DLC-analyses\\new-video-analyses\\Files_For_Analysis\\10242022\\STOP-1_CL_FreqSampling\\N12\\Ball...\n",
      "Saving csv poses!\n",
      "The videos are analyzed. Now your research can truly start! \n",
      " You can create labeled videos with 'create_labeled_video'\n",
      "If the tracking is not satisfactory for some videos, consider expanding the training set. You can use the function 'extract_outlier_frames' to extract a few representative outlier frames.\n",
      "Filtering with median model \\\\mpfi.org\\public\\sb-lab\\DLC-analyses\\new-video-analyses\\Files_For_Analysis\\10242022\\STOP-1_CL_FreqSampling\\N12\\Ball\\B-10192022170223-0000.mp4\n",
      "Saving filtered csv poses!\n",
      "idx: 2\n",
      "model_paths[idx]: C:\\DLC\\3D_8cam_vid\\camC_FS34_RN101-BidayeLab-2022-10-01\n",
      "single_folder[idx]: \\\\mpfi.org\\public\\sb-lab\\DLC-analyses\\new-video-analyses\\Files_For_Analysis\\10242022\\STOP-1_CL_FreqSampling\\N12\\Ball\\C-10192022170229-0000.mp4\n",
      "Using snapshot-500000 for model C:\\DLC\\3D_8cam_vid\\camC_FS34_RN101-BidayeLab-2022-10-01\\dlc-models\\iteration-0\\camC_FS34_RN101Oct1-trainset95shuffle1\n",
      "Switching to numpy-based keypoint extraction code, as multiple point extraction is not supported by TF code currently.\n",
      "Extracting  20 instances per bodypart\n"
     ]
    },
    {
     "name": "stderr",
     "output_type": "stream",
     "text": [
      "C:\\ProgramData\\Anaconda3\\envs\\deeplabcut\\lib\\site-packages\\tensorflow\\python\\keras\\engine\\base_layer_v1.py:1694: UserWarning: `layer.apply` is deprecated and will be removed in a future version. Please use `layer.__call__` method instead.\n",
      "  warnings.warn('`layer.apply` is deprecated and '\n",
      "C:\\ProgramData\\Anaconda3\\envs\\deeplabcut\\lib\\site-packages\\tf_slim\\layers\\layers.py:684: UserWarning: `layer.apply` is deprecated and will be removed in a future version. Please use `layer.__call__` method instead.\n",
      "  outputs = layer.apply(inputs, training=is_training)\n"
     ]
    },
    {
     "name": "stdout",
     "output_type": "stream",
     "text": [
      "Starting to analyze %  \\\\mpfi.org\\public\\sb-lab\\DLC-analyses\\new-video-analyses\\Files_For_Analysis\\10242022\\STOP-1_CL_FreqSampling\\N12\\Ball\\C-10192022170229-0000.mp4\n",
      "Loading  \\\\mpfi.org\\public\\sb-lab\\DLC-analyses\\new-video-analyses\\Files_For_Analysis\\10242022\\STOP-1_CL_FreqSampling\\N12\\Ball\\C-10192022170229-0000.mp4\n",
      "Duration of video [s]:  70.0 , recorded with  200.0 fps!\n",
      "Overall # of frames:  14000  found with (before cropping) frame dimensions:  1440 1080\n",
      "Starting to extract posture\n"
     ]
    },
    {
     "name": "stderr",
     "output_type": "stream",
     "text": [
      "100%|████████████████████████████████████████████████████████████████████████████| 14000/14000 [14:28<00:00, 16.12it/s]\n"
     ]
    },
    {
     "name": "stdout",
     "output_type": "stream",
     "text": [
      "Saving results in \\\\mpfi.org\\public\\sb-lab\\DLC-analyses\\new-video-analyses\\Files_For_Analysis\\10242022\\STOP-1_CL_FreqSampling\\N12\\Ball...\n",
      "Saving csv poses!\n",
      "The videos are analyzed. Now your research can truly start! \n",
      " You can create labeled videos with 'create_labeled_video'\n",
      "If the tracking is not satisfactory for some videos, consider expanding the training set. You can use the function 'extract_outlier_frames' to extract a few representative outlier frames.\n",
      "Filtering with median model \\\\mpfi.org\\public\\sb-lab\\DLC-analyses\\new-video-analyses\\Files_For_Analysis\\10242022\\STOP-1_CL_FreqSampling\\N12\\Ball\\C-10192022170229-0000.mp4\n",
      "Saving filtered csv poses!\n",
      "idx: 3\n",
      "model_paths[idx]: C:\\DLC\\3D_8cam_vid\\camD_FS34_RN101-BidayeLab-2022-09-20\n",
      "single_folder[idx]: \\\\mpfi.org\\public\\sb-lab\\DLC-analyses\\new-video-analyses\\Files_For_Analysis\\10242022\\STOP-1_CL_FreqSampling\\N12\\Ball\\D-10192022170221-0000.mp4\n",
      "Using snapshot-500000 for model C:\\DLC\\3D_8cam_vid\\camD_FS34_RN101-BidayeLab-2022-09-20\\dlc-models\\iteration-0\\camD_FS34_RN101Sep20-trainset95shuffle1\n",
      "Switching to numpy-based keypoint extraction code, as multiple point extraction is not supported by TF code currently.\n",
      "Extracting  20 instances per bodypart\n"
     ]
    },
    {
     "name": "stderr",
     "output_type": "stream",
     "text": [
      "C:\\ProgramData\\Anaconda3\\envs\\deeplabcut\\lib\\site-packages\\tensorflow\\python\\keras\\engine\\base_layer_v1.py:1694: UserWarning: `layer.apply` is deprecated and will be removed in a future version. Please use `layer.__call__` method instead.\n",
      "  warnings.warn('`layer.apply` is deprecated and '\n",
      "C:\\ProgramData\\Anaconda3\\envs\\deeplabcut\\lib\\site-packages\\tf_slim\\layers\\layers.py:684: UserWarning: `layer.apply` is deprecated and will be removed in a future version. Please use `layer.__call__` method instead.\n",
      "  outputs = layer.apply(inputs, training=is_training)\n"
     ]
    },
    {
     "name": "stdout",
     "output_type": "stream",
     "text": [
      "Starting to analyze %  \\\\mpfi.org\\public\\sb-lab\\DLC-analyses\\new-video-analyses\\Files_For_Analysis\\10242022\\STOP-1_CL_FreqSampling\\N12\\Ball\\D-10192022170221-0000.mp4\n",
      "Loading  \\\\mpfi.org\\public\\sb-lab\\DLC-analyses\\new-video-analyses\\Files_For_Analysis\\10242022\\STOP-1_CL_FreqSampling\\N12\\Ball\\D-10192022170221-0000.mp4\n",
      "Duration of video [s]:  70.0 , recorded with  200.0 fps!\n",
      "Overall # of frames:  14000  found with (before cropping) frame dimensions:  1440 1080\n",
      "Starting to extract posture\n"
     ]
    },
    {
     "name": "stderr",
     "output_type": "stream",
     "text": [
      "100%|████████████████████████████████████████████████████████████████████████████| 14000/14000 [14:23<00:00, 16.21it/s]\n"
     ]
    },
    {
     "name": "stdout",
     "output_type": "stream",
     "text": [
      "Saving results in \\\\mpfi.org\\public\\sb-lab\\DLC-analyses\\new-video-analyses\\Files_For_Analysis\\10242022\\STOP-1_CL_FreqSampling\\N12\\Ball...\n",
      "Saving csv poses!\n",
      "The videos are analyzed. Now your research can truly start! \n",
      " You can create labeled videos with 'create_labeled_video'\n",
      "If the tracking is not satisfactory for some videos, consider expanding the training set. You can use the function 'extract_outlier_frames' to extract a few representative outlier frames.\n",
      "Filtering with median model \\\\mpfi.org\\public\\sb-lab\\DLC-analyses\\new-video-analyses\\Files_For_Analysis\\10242022\\STOP-1_CL_FreqSampling\\N12\\Ball\\D-10192022170221-0000.mp4\n",
      "Saving filtered csv poses!\n",
      "idx: 4\n",
      "model_paths[idx]: C:\\DLC\\3D_8cam_vid\\3cam_BEH-BidayeLab-2022-09-16\n",
      "single_folder[idx]: \\\\mpfi.org\\public\\sb-lab\\DLC-analyses\\new-video-analyses\\Files_For_Analysis\\10242022\\STOP-1_CL_FreqSampling\\N12\\Ball\\E-10192022170224-0000.mp4\n",
      "Using snapshot-500000 for model C:\\DLC\\3D_8cam_vid\\3cam_BEH-BidayeLab-2022-09-16\\dlc-models\\iteration-0\\3cam_BEHSep16-trainset95shuffle1\n",
      "Switching to numpy-based keypoint extraction code, as multiple point extraction is not supported by TF code currently.\n",
      "Extracting  20 instances per bodypart\n"
     ]
    },
    {
     "name": "stderr",
     "output_type": "stream",
     "text": [
      "C:\\ProgramData\\Anaconda3\\envs\\deeplabcut\\lib\\site-packages\\tensorflow\\python\\keras\\engine\\base_layer_v1.py:1694: UserWarning: `layer.apply` is deprecated and will be removed in a future version. Please use `layer.__call__` method instead.\n",
      "  warnings.warn('`layer.apply` is deprecated and '\n",
      "C:\\ProgramData\\Anaconda3\\envs\\deeplabcut\\lib\\site-packages\\tf_slim\\layers\\layers.py:684: UserWarning: `layer.apply` is deprecated and will be removed in a future version. Please use `layer.__call__` method instead.\n",
      "  outputs = layer.apply(inputs, training=is_training)\n"
     ]
    },
    {
     "name": "stdout",
     "output_type": "stream",
     "text": [
      "Starting to analyze %  \\\\mpfi.org\\public\\sb-lab\\DLC-analyses\\new-video-analyses\\Files_For_Analysis\\10242022\\STOP-1_CL_FreqSampling\\N12\\Ball\\E-10192022170224-0000.mp4\n",
      "Loading  \\\\mpfi.org\\public\\sb-lab\\DLC-analyses\\new-video-analyses\\Files_For_Analysis\\10242022\\STOP-1_CL_FreqSampling\\N12\\Ball\\E-10192022170224-0000.mp4\n",
      "Duration of video [s]:  70.0 , recorded with  200.0 fps!\n",
      "Overall # of frames:  14000  found with (before cropping) frame dimensions:  1440 1080\n",
      "Starting to extract posture\n"
     ]
    },
    {
     "name": "stderr",
     "output_type": "stream",
     "text": [
      "100%|████████████████████████████████████████████████████████████████████████████| 14000/14000 [16:34<00:00, 14.08it/s]\n"
     ]
    },
    {
     "name": "stdout",
     "output_type": "stream",
     "text": [
      "Saving results in \\\\mpfi.org\\public\\sb-lab\\DLC-analyses\\new-video-analyses\\Files_For_Analysis\\10242022\\STOP-1_CL_FreqSampling\\N12\\Ball...\n",
      "Saving csv poses!\n",
      "The videos are analyzed. Now your research can truly start! \n",
      " You can create labeled videos with 'create_labeled_video'\n",
      "If the tracking is not satisfactory for some videos, consider expanding the training set. You can use the function 'extract_outlier_frames' to extract a few representative outlier frames.\n",
      "Filtering with median model \\\\mpfi.org\\public\\sb-lab\\DLC-analyses\\new-video-analyses\\Files_For_Analysis\\10242022\\STOP-1_CL_FreqSampling\\N12\\Ball\\E-10192022170224-0000.mp4\n",
      "Saving filtered csv poses!\n",
      "idx: 5\n",
      "model_paths[idx]: C:\\DLC\\3D_8cam_vid\\camF_FS34_RN101-BidayeLab-2022-10-01\n",
      "single_folder[idx]: \\\\mpfi.org\\public\\sb-lab\\DLC-analyses\\new-video-analyses\\Files_For_Analysis\\10242022\\STOP-1_CL_FreqSampling\\N12\\Ball\\F-10192022170230-0000.mp4\n",
      "Using snapshot-500000 for model C:\\DLC\\3D_8cam_vid\\camF_FS34_RN101-BidayeLab-2022-10-01\\dlc-models\\iteration-0\\camF_FS34_RN101Oct1-trainset95shuffle1\n",
      "Switching to numpy-based keypoint extraction code, as multiple point extraction is not supported by TF code currently.\n",
      "Extracting  20 instances per bodypart\n"
     ]
    },
    {
     "name": "stderr",
     "output_type": "stream",
     "text": [
      "C:\\ProgramData\\Anaconda3\\envs\\deeplabcut\\lib\\site-packages\\tensorflow\\python\\keras\\engine\\base_layer_v1.py:1694: UserWarning: `layer.apply` is deprecated and will be removed in a future version. Please use `layer.__call__` method instead.\n",
      "  warnings.warn('`layer.apply` is deprecated and '\n",
      "C:\\ProgramData\\Anaconda3\\envs\\deeplabcut\\lib\\site-packages\\tf_slim\\layers\\layers.py:684: UserWarning: `layer.apply` is deprecated and will be removed in a future version. Please use `layer.__call__` method instead.\n",
      "  outputs = layer.apply(inputs, training=is_training)\n"
     ]
    },
    {
     "name": "stdout",
     "output_type": "stream",
     "text": [
      "Starting to analyze %  \\\\mpfi.org\\public\\sb-lab\\DLC-analyses\\new-video-analyses\\Files_For_Analysis\\10242022\\STOP-1_CL_FreqSampling\\N12\\Ball\\F-10192022170230-0000.mp4\n",
      "Loading  \\\\mpfi.org\\public\\sb-lab\\DLC-analyses\\new-video-analyses\\Files_For_Analysis\\10242022\\STOP-1_CL_FreqSampling\\N12\\Ball\\F-10192022170230-0000.mp4\n",
      "Duration of video [s]:  70.0 , recorded with  200.0 fps!\n",
      "Overall # of frames:  14000  found with (before cropping) frame dimensions:  1440 1080\n",
      "Starting to extract posture\n"
     ]
    },
    {
     "name": "stderr",
     "output_type": "stream",
     "text": [
      "100%|████████████████████████████████████████████████████████████████████████████| 14000/14000 [14:31<00:00, 16.07it/s]\n"
     ]
    },
    {
     "name": "stdout",
     "output_type": "stream",
     "text": [
      "Saving results in \\\\mpfi.org\\public\\sb-lab\\DLC-analyses\\new-video-analyses\\Files_For_Analysis\\10242022\\STOP-1_CL_FreqSampling\\N12\\Ball...\n",
      "Saving csv poses!\n",
      "The videos are analyzed. Now your research can truly start! \n",
      " You can create labeled videos with 'create_labeled_video'\n",
      "If the tracking is not satisfactory for some videos, consider expanding the training set. You can use the function 'extract_outlier_frames' to extract a few representative outlier frames.\n",
      "Filtering with median model \\\\mpfi.org\\public\\sb-lab\\DLC-analyses\\new-video-analyses\\Files_For_Analysis\\10242022\\STOP-1_CL_FreqSampling\\N12\\Ball\\F-10192022170230-0000.mp4\n",
      "Saving filtered csv poses!\n",
      "idx: 6\n",
      "idx: 7\n",
      "model_paths[idx]: C:\\DLC\\3D_8cam_vid\\3cam_BEH-BidayeLab-2022-09-16\n",
      "single_folder[idx]: \\\\mpfi.org\\public\\sb-lab\\DLC-analyses\\new-video-analyses\\Files_For_Analysis\\10242022\\STOP-1_CL_FreqSampling\\N12\\Ball\\H-10192022170234-0000.mp4\n",
      "Using snapshot-500000 for model C:\\DLC\\3D_8cam_vid\\3cam_BEH-BidayeLab-2022-09-16\\dlc-models\\iteration-0\\3cam_BEHSep16-trainset95shuffle1\n",
      "Switching to numpy-based keypoint extraction code, as multiple point extraction is not supported by TF code currently.\n",
      "Extracting  20 instances per bodypart\n"
     ]
    },
    {
     "name": "stderr",
     "output_type": "stream",
     "text": [
      "C:\\ProgramData\\Anaconda3\\envs\\deeplabcut\\lib\\site-packages\\tensorflow\\python\\keras\\engine\\base_layer_v1.py:1694: UserWarning: `layer.apply` is deprecated and will be removed in a future version. Please use `layer.__call__` method instead.\n",
      "  warnings.warn('`layer.apply` is deprecated and '\n",
      "C:\\ProgramData\\Anaconda3\\envs\\deeplabcut\\lib\\site-packages\\tf_slim\\layers\\layers.py:684: UserWarning: `layer.apply` is deprecated and will be removed in a future version. Please use `layer.__call__` method instead.\n",
      "  outputs = layer.apply(inputs, training=is_training)\n"
     ]
    },
    {
     "name": "stdout",
     "output_type": "stream",
     "text": [
      "Starting to analyze %  \\\\mpfi.org\\public\\sb-lab\\DLC-analyses\\new-video-analyses\\Files_For_Analysis\\10242022\\STOP-1_CL_FreqSampling\\N12\\Ball\\H-10192022170234-0000.mp4\n",
      "Loading  \\\\mpfi.org\\public\\sb-lab\\DLC-analyses\\new-video-analyses\\Files_For_Analysis\\10242022\\STOP-1_CL_FreqSampling\\N12\\Ball\\H-10192022170234-0000.mp4\n",
      "Duration of video [s]:  70.0 , recorded with  200.0 fps!\n",
      "Overall # of frames:  14000  found with (before cropping) frame dimensions:  1440 1080\n",
      "Starting to extract posture\n"
     ]
    },
    {
     "name": "stderr",
     "output_type": "stream",
     "text": [
      "100%|████████████████████████████████████████████████████████████████████████████| 14000/14000 [16:07<00:00, 14.47it/s]\n"
     ]
    },
    {
     "name": "stdout",
     "output_type": "stream",
     "text": [
      "Saving results in \\\\mpfi.org\\public\\sb-lab\\DLC-analyses\\new-video-analyses\\Files_For_Analysis\\10242022\\STOP-1_CL_FreqSampling\\N12\\Ball...\n",
      "Saving csv poses!\n",
      "The videos are analyzed. Now your research can truly start! \n",
      " You can create labeled videos with 'create_labeled_video'\n",
      "If the tracking is not satisfactory for some videos, consider expanding the training set. You can use the function 'extract_outlier_frames' to extract a few representative outlier frames.\n",
      "Filtering with median model \\\\mpfi.org\\public\\sb-lab\\DLC-analyses\\new-video-analyses\\Files_For_Analysis\\10242022\\STOP-1_CL_FreqSampling\\N12\\Ball\\H-10192022170234-0000.mp4\n",
      "Saving filtered csv poses!\n",
      "idx: 0\n",
      "model_paths[idx]: C:\\DLC\\3D_8cam_vid\\camA_FS34_RN101-BidayeLab-2022-09-20\n",
      "single_folder[idx]: \\\\mpfi.org\\public\\sb-lab\\DLC-analyses\\new-video-analyses\\Files_For_Analysis\\10242022\\STOP-1_CL_FreqSampling\\N13\\Ball\\A-10192022173157-0000.mp4\n",
      "Using snapshot-500000 for model C:\\DLC\\3D_8cam_vid\\camA_FS34_RN101-BidayeLab-2022-09-20\\dlc-models\\iteration-1\\camA_FS34_RN101Sep20-trainset95shuffle1\n",
      "Switching to numpy-based keypoint extraction code, as multiple point extraction is not supported by TF code currently.\n",
      "Extracting  20 instances per bodypart\n"
     ]
    },
    {
     "name": "stderr",
     "output_type": "stream",
     "text": [
      "C:\\ProgramData\\Anaconda3\\envs\\deeplabcut\\lib\\site-packages\\tensorflow\\python\\keras\\engine\\base_layer_v1.py:1694: UserWarning: `layer.apply` is deprecated and will be removed in a future version. Please use `layer.__call__` method instead.\n",
      "  warnings.warn('`layer.apply` is deprecated and '\n",
      "C:\\ProgramData\\Anaconda3\\envs\\deeplabcut\\lib\\site-packages\\tf_slim\\layers\\layers.py:684: UserWarning: `layer.apply` is deprecated and will be removed in a future version. Please use `layer.__call__` method instead.\n",
      "  outputs = layer.apply(inputs, training=is_training)\n"
     ]
    },
    {
     "name": "stdout",
     "output_type": "stream",
     "text": [
      "Starting to analyze %  \\\\mpfi.org\\public\\sb-lab\\DLC-analyses\\new-video-analyses\\Files_For_Analysis\\10242022\\STOP-1_CL_FreqSampling\\N13\\Ball\\A-10192022173157-0000.mp4\n",
      "Loading  \\\\mpfi.org\\public\\sb-lab\\DLC-analyses\\new-video-analyses\\Files_For_Analysis\\10242022\\STOP-1_CL_FreqSampling\\N13\\Ball\\A-10192022173157-0000.mp4\n",
      "Duration of video [s]:  70.0 , recorded with  200.0 fps!\n",
      "Overall # of frames:  14000  found with (before cropping) frame dimensions:  1440 1080\n",
      "Starting to extract posture\n"
     ]
    },
    {
     "name": "stderr",
     "output_type": "stream",
     "text": [
      "100%|████████████████████████████████████████████████████████████████████████████| 14000/14000 [14:25<00:00, 16.18it/s]\n"
     ]
    },
    {
     "name": "stdout",
     "output_type": "stream",
     "text": [
      "Saving results in \\\\mpfi.org\\public\\sb-lab\\DLC-analyses\\new-video-analyses\\Files_For_Analysis\\10242022\\STOP-1_CL_FreqSampling\\N13\\Ball...\n",
      "Saving csv poses!\n",
      "The videos are analyzed. Now your research can truly start! \n",
      " You can create labeled videos with 'create_labeled_video'\n",
      "If the tracking is not satisfactory for some videos, consider expanding the training set. You can use the function 'extract_outlier_frames' to extract a few representative outlier frames.\n",
      "Filtering with median model \\\\mpfi.org\\public\\sb-lab\\DLC-analyses\\new-video-analyses\\Files_For_Analysis\\10242022\\STOP-1_CL_FreqSampling\\N13\\Ball\\A-10192022173157-0000.mp4\n",
      "Saving filtered csv poses!\n",
      "idx: 1\n",
      "model_paths[idx]: C:\\DLC\\3D_8cam_vid\\3cam_BEH-BidayeLab-2022-09-16\n",
      "single_folder[idx]: \\\\mpfi.org\\public\\sb-lab\\DLC-analyses\\new-video-analyses\\Files_For_Analysis\\10242022\\STOP-1_CL_FreqSampling\\N13\\Ball\\B-10192022173200-0000.mp4\n",
      "Using snapshot-500000 for model C:\\DLC\\3D_8cam_vid\\3cam_BEH-BidayeLab-2022-09-16\\dlc-models\\iteration-0\\3cam_BEHSep16-trainset95shuffle1\n",
      "Switching to numpy-based keypoint extraction code, as multiple point extraction is not supported by TF code currently.\n",
      "Extracting  20 instances per bodypart\n"
     ]
    },
    {
     "name": "stderr",
     "output_type": "stream",
     "text": [
      "C:\\ProgramData\\Anaconda3\\envs\\deeplabcut\\lib\\site-packages\\tensorflow\\python\\keras\\engine\\base_layer_v1.py:1694: UserWarning: `layer.apply` is deprecated and will be removed in a future version. Please use `layer.__call__` method instead.\n",
      "  warnings.warn('`layer.apply` is deprecated and '\n",
      "C:\\ProgramData\\Anaconda3\\envs\\deeplabcut\\lib\\site-packages\\tf_slim\\layers\\layers.py:684: UserWarning: `layer.apply` is deprecated and will be removed in a future version. Please use `layer.__call__` method instead.\n",
      "  outputs = layer.apply(inputs, training=is_training)\n"
     ]
    },
    {
     "name": "stdout",
     "output_type": "stream",
     "text": [
      "Starting to analyze %  \\\\mpfi.org\\public\\sb-lab\\DLC-analyses\\new-video-analyses\\Files_For_Analysis\\10242022\\STOP-1_CL_FreqSampling\\N13\\Ball\\B-10192022173200-0000.mp4\n",
      "Loading  \\\\mpfi.org\\public\\sb-lab\\DLC-analyses\\new-video-analyses\\Files_For_Analysis\\10242022\\STOP-1_CL_FreqSampling\\N13\\Ball\\B-10192022173200-0000.mp4\n",
      "Duration of video [s]:  70.0 , recorded with  200.0 fps!\n",
      "Overall # of frames:  14000  found with (before cropping) frame dimensions:  1440 1080\n",
      "Starting to extract posture\n"
     ]
    },
    {
     "name": "stderr",
     "output_type": "stream",
     "text": [
      "100%|████████████████████████████████████████████████████████████████████████████| 14000/14000 [16:02<00:00, 14.54it/s]\n"
     ]
    },
    {
     "name": "stdout",
     "output_type": "stream",
     "text": [
      "Saving results in \\\\mpfi.org\\public\\sb-lab\\DLC-analyses\\new-video-analyses\\Files_For_Analysis\\10242022\\STOP-1_CL_FreqSampling\\N13\\Ball...\n",
      "Saving csv poses!\n",
      "The videos are analyzed. Now your research can truly start! \n",
      " You can create labeled videos with 'create_labeled_video'\n",
      "If the tracking is not satisfactory for some videos, consider expanding the training set. You can use the function 'extract_outlier_frames' to extract a few representative outlier frames.\n",
      "Filtering with median model \\\\mpfi.org\\public\\sb-lab\\DLC-analyses\\new-video-analyses\\Files_For_Analysis\\10242022\\STOP-1_CL_FreqSampling\\N13\\Ball\\B-10192022173200-0000.mp4\n",
      "Saving filtered csv poses!\n",
      "idx: 2\n",
      "model_paths[idx]: C:\\DLC\\3D_8cam_vid\\camC_FS34_RN101-BidayeLab-2022-10-01\n",
      "single_folder[idx]: \\\\mpfi.org\\public\\sb-lab\\DLC-analyses\\new-video-analyses\\Files_For_Analysis\\10242022\\STOP-1_CL_FreqSampling\\N13\\Ball\\C-10192022173202-0000.mp4\n",
      "Using snapshot-500000 for model C:\\DLC\\3D_8cam_vid\\camC_FS34_RN101-BidayeLab-2022-10-01\\dlc-models\\iteration-0\\camC_FS34_RN101Oct1-trainset95shuffle1\n",
      "Switching to numpy-based keypoint extraction code, as multiple point extraction is not supported by TF code currently.\n",
      "Extracting  20 instances per bodypart\n"
     ]
    },
    {
     "name": "stderr",
     "output_type": "stream",
     "text": [
      "C:\\ProgramData\\Anaconda3\\envs\\deeplabcut\\lib\\site-packages\\tensorflow\\python\\keras\\engine\\base_layer_v1.py:1694: UserWarning: `layer.apply` is deprecated and will be removed in a future version. Please use `layer.__call__` method instead.\n",
      "  warnings.warn('`layer.apply` is deprecated and '\n",
      "C:\\ProgramData\\Anaconda3\\envs\\deeplabcut\\lib\\site-packages\\tf_slim\\layers\\layers.py:684: UserWarning: `layer.apply` is deprecated and will be removed in a future version. Please use `layer.__call__` method instead.\n",
      "  outputs = layer.apply(inputs, training=is_training)\n"
     ]
    },
    {
     "name": "stdout",
     "output_type": "stream",
     "text": [
      "Starting to analyze %  \\\\mpfi.org\\public\\sb-lab\\DLC-analyses\\new-video-analyses\\Files_For_Analysis\\10242022\\STOP-1_CL_FreqSampling\\N13\\Ball\\C-10192022173202-0000.mp4\n",
      "Loading  \\\\mpfi.org\\public\\sb-lab\\DLC-analyses\\new-video-analyses\\Files_For_Analysis\\10242022\\STOP-1_CL_FreqSampling\\N13\\Ball\\C-10192022173202-0000.mp4\n",
      "Duration of video [s]:  70.0 , recorded with  200.0 fps!\n",
      "Overall # of frames:  14000  found with (before cropping) frame dimensions:  1440 1080\n",
      "Starting to extract posture\n"
     ]
    },
    {
     "name": "stderr",
     "output_type": "stream",
     "text": [
      "100%|████████████████████████████████████████████████████████████████████████████| 14000/14000 [14:28<00:00, 16.12it/s]\n"
     ]
    },
    {
     "name": "stdout",
     "output_type": "stream",
     "text": [
      "Saving results in \\\\mpfi.org\\public\\sb-lab\\DLC-analyses\\new-video-analyses\\Files_For_Analysis\\10242022\\STOP-1_CL_FreqSampling\\N13\\Ball...\n",
      "Saving csv poses!\n",
      "The videos are analyzed. Now your research can truly start! \n",
      " You can create labeled videos with 'create_labeled_video'\n",
      "If the tracking is not satisfactory for some videos, consider expanding the training set. You can use the function 'extract_outlier_frames' to extract a few representative outlier frames.\n",
      "Filtering with median model \\\\mpfi.org\\public\\sb-lab\\DLC-analyses\\new-video-analyses\\Files_For_Analysis\\10242022\\STOP-1_CL_FreqSampling\\N13\\Ball\\C-10192022173202-0000.mp4\n",
      "Saving filtered csv poses!\n",
      "idx: 3\n",
      "model_paths[idx]: C:\\DLC\\3D_8cam_vid\\camD_FS34_RN101-BidayeLab-2022-09-20\n",
      "single_folder[idx]: \\\\mpfi.org\\public\\sb-lab\\DLC-analyses\\new-video-analyses\\Files_For_Analysis\\10242022\\STOP-1_CL_FreqSampling\\N13\\Ball\\D-10192022173158-0000.mp4\n",
      "Using snapshot-500000 for model C:\\DLC\\3D_8cam_vid\\camD_FS34_RN101-BidayeLab-2022-09-20\\dlc-models\\iteration-0\\camD_FS34_RN101Sep20-trainset95shuffle1\n",
      "Switching to numpy-based keypoint extraction code, as multiple point extraction is not supported by TF code currently.\n",
      "Extracting  20 instances per bodypart\n"
     ]
    },
    {
     "name": "stderr",
     "output_type": "stream",
     "text": [
      "C:\\ProgramData\\Anaconda3\\envs\\deeplabcut\\lib\\site-packages\\tensorflow\\python\\keras\\engine\\base_layer_v1.py:1694: UserWarning: `layer.apply` is deprecated and will be removed in a future version. Please use `layer.__call__` method instead.\n",
      "  warnings.warn('`layer.apply` is deprecated and '\n",
      "C:\\ProgramData\\Anaconda3\\envs\\deeplabcut\\lib\\site-packages\\tf_slim\\layers\\layers.py:684: UserWarning: `layer.apply` is deprecated and will be removed in a future version. Please use `layer.__call__` method instead.\n",
      "  outputs = layer.apply(inputs, training=is_training)\n"
     ]
    },
    {
     "name": "stdout",
     "output_type": "stream",
     "text": [
      "Starting to analyze %  \\\\mpfi.org\\public\\sb-lab\\DLC-analyses\\new-video-analyses\\Files_For_Analysis\\10242022\\STOP-1_CL_FreqSampling\\N13\\Ball\\D-10192022173158-0000.mp4\n",
      "Loading  \\\\mpfi.org\\public\\sb-lab\\DLC-analyses\\new-video-analyses\\Files_For_Analysis\\10242022\\STOP-1_CL_FreqSampling\\N13\\Ball\\D-10192022173158-0000.mp4\n",
      "Duration of video [s]:  70.0 , recorded with  200.0 fps!\n",
      "Overall # of frames:  14000  found with (before cropping) frame dimensions:  1440 1080\n",
      "Starting to extract posture\n"
     ]
    },
    {
     "name": "stderr",
     "output_type": "stream",
     "text": [
      "100%|████████████████████████████████████████████████████████████████████████████| 14000/14000 [14:30<00:00, 16.09it/s]\n"
     ]
    },
    {
     "name": "stdout",
     "output_type": "stream",
     "text": [
      "Saving results in \\\\mpfi.org\\public\\sb-lab\\DLC-analyses\\new-video-analyses\\Files_For_Analysis\\10242022\\STOP-1_CL_FreqSampling\\N13\\Ball...\n",
      "Saving csv poses!\n",
      "The videos are analyzed. Now your research can truly start! \n",
      " You can create labeled videos with 'create_labeled_video'\n",
      "If the tracking is not satisfactory for some videos, consider expanding the training set. You can use the function 'extract_outlier_frames' to extract a few representative outlier frames.\n",
      "Filtering with median model \\\\mpfi.org\\public\\sb-lab\\DLC-analyses\\new-video-analyses\\Files_For_Analysis\\10242022\\STOP-1_CL_FreqSampling\\N13\\Ball\\D-10192022173158-0000.mp4\n",
      "Saving filtered csv poses!\n",
      "idx: 4\n",
      "model_paths[idx]: C:\\DLC\\3D_8cam_vid\\3cam_BEH-BidayeLab-2022-09-16\n",
      "single_folder[idx]: \\\\mpfi.org\\public\\sb-lab\\DLC-analyses\\new-video-analyses\\Files_For_Analysis\\10242022\\STOP-1_CL_FreqSampling\\N13\\Ball\\E-10192022173159-0000.mp4\n",
      "Using snapshot-500000 for model C:\\DLC\\3D_8cam_vid\\3cam_BEH-BidayeLab-2022-09-16\\dlc-models\\iteration-0\\3cam_BEHSep16-trainset95shuffle1\n",
      "Switching to numpy-based keypoint extraction code, as multiple point extraction is not supported by TF code currently.\n",
      "Extracting  20 instances per bodypart\n"
     ]
    },
    {
     "name": "stderr",
     "output_type": "stream",
     "text": [
      "C:\\ProgramData\\Anaconda3\\envs\\deeplabcut\\lib\\site-packages\\tensorflow\\python\\keras\\engine\\base_layer_v1.py:1694: UserWarning: `layer.apply` is deprecated and will be removed in a future version. Please use `layer.__call__` method instead.\n",
      "  warnings.warn('`layer.apply` is deprecated and '\n",
      "C:\\ProgramData\\Anaconda3\\envs\\deeplabcut\\lib\\site-packages\\tf_slim\\layers\\layers.py:684: UserWarning: `layer.apply` is deprecated and will be removed in a future version. Please use `layer.__call__` method instead.\n",
      "  outputs = layer.apply(inputs, training=is_training)\n"
     ]
    },
    {
     "name": "stdout",
     "output_type": "stream",
     "text": [
      "Starting to analyze %  \\\\mpfi.org\\public\\sb-lab\\DLC-analyses\\new-video-analyses\\Files_For_Analysis\\10242022\\STOP-1_CL_FreqSampling\\N13\\Ball\\E-10192022173159-0000.mp4\n",
      "Loading  \\\\mpfi.org\\public\\sb-lab\\DLC-analyses\\new-video-analyses\\Files_For_Analysis\\10242022\\STOP-1_CL_FreqSampling\\N13\\Ball\\E-10192022173159-0000.mp4\n",
      "Duration of video [s]:  70.0 , recorded with  200.0 fps!\n",
      "Overall # of frames:  14000  found with (before cropping) frame dimensions:  1440 1080\n",
      "Starting to extract posture\n"
     ]
    },
    {
     "name": "stderr",
     "output_type": "stream",
     "text": [
      "100%|████████████████████████████████████████████████████████████████████████████| 14000/14000 [16:37<00:00, 14.04it/s]\n"
     ]
    },
    {
     "name": "stdout",
     "output_type": "stream",
     "text": [
      "Saving results in \\\\mpfi.org\\public\\sb-lab\\DLC-analyses\\new-video-analyses\\Files_For_Analysis\\10242022\\STOP-1_CL_FreqSampling\\N13\\Ball...\n",
      "Saving csv poses!\n",
      "The videos are analyzed. Now your research can truly start! \n",
      " You can create labeled videos with 'create_labeled_video'\n",
      "If the tracking is not satisfactory for some videos, consider expanding the training set. You can use the function 'extract_outlier_frames' to extract a few representative outlier frames.\n",
      "Filtering with median model \\\\mpfi.org\\public\\sb-lab\\DLC-analyses\\new-video-analyses\\Files_For_Analysis\\10242022\\STOP-1_CL_FreqSampling\\N13\\Ball\\E-10192022173159-0000.mp4\n",
      "Saving filtered csv poses!\n",
      "idx: 5\n",
      "model_paths[idx]: C:\\DLC\\3D_8cam_vid\\camF_FS34_RN101-BidayeLab-2022-10-01\n",
      "single_folder[idx]: \\\\mpfi.org\\public\\sb-lab\\DLC-analyses\\new-video-analyses\\Files_For_Analysis\\10242022\\STOP-1_CL_FreqSampling\\N13\\Ball\\F-10192022173203-0000.mp4\n",
      "Using snapshot-500000 for model C:\\DLC\\3D_8cam_vid\\camF_FS34_RN101-BidayeLab-2022-10-01\\dlc-models\\iteration-0\\camF_FS34_RN101Oct1-trainset95shuffle1\n",
      "Switching to numpy-based keypoint extraction code, as multiple point extraction is not supported by TF code currently.\n",
      "Extracting  20 instances per bodypart\n"
     ]
    },
    {
     "name": "stderr",
     "output_type": "stream",
     "text": [
      "C:\\ProgramData\\Anaconda3\\envs\\deeplabcut\\lib\\site-packages\\tensorflow\\python\\keras\\engine\\base_layer_v1.py:1694: UserWarning: `layer.apply` is deprecated and will be removed in a future version. Please use `layer.__call__` method instead.\n",
      "  warnings.warn('`layer.apply` is deprecated and '\n",
      "C:\\ProgramData\\Anaconda3\\envs\\deeplabcut\\lib\\site-packages\\tf_slim\\layers\\layers.py:684: UserWarning: `layer.apply` is deprecated and will be removed in a future version. Please use `layer.__call__` method instead.\n",
      "  outputs = layer.apply(inputs, training=is_training)\n"
     ]
    },
    {
     "name": "stdout",
     "output_type": "stream",
     "text": [
      "Starting to analyze %  \\\\mpfi.org\\public\\sb-lab\\DLC-analyses\\new-video-analyses\\Files_For_Analysis\\10242022\\STOP-1_CL_FreqSampling\\N13\\Ball\\F-10192022173203-0000.mp4\n",
      "Loading  \\\\mpfi.org\\public\\sb-lab\\DLC-analyses\\new-video-analyses\\Files_For_Analysis\\10242022\\STOP-1_CL_FreqSampling\\N13\\Ball\\F-10192022173203-0000.mp4\n",
      "Duration of video [s]:  70.0 , recorded with  200.0 fps!\n",
      "Overall # of frames:  14000  found with (before cropping) frame dimensions:  1440 1080\n",
      "Starting to extract posture\n"
     ]
    },
    {
     "name": "stderr",
     "output_type": "stream",
     "text": [
      "100%|████████████████████████████████████████████████████████████████████████████| 14000/14000 [14:29<00:00, 16.10it/s]\n"
     ]
    },
    {
     "name": "stdout",
     "output_type": "stream",
     "text": [
      "Saving results in \\\\mpfi.org\\public\\sb-lab\\DLC-analyses\\new-video-analyses\\Files_For_Analysis\\10242022\\STOP-1_CL_FreqSampling\\N13\\Ball...\n",
      "Saving csv poses!\n",
      "The videos are analyzed. Now your research can truly start! \n",
      " You can create labeled videos with 'create_labeled_video'\n",
      "If the tracking is not satisfactory for some videos, consider expanding the training set. You can use the function 'extract_outlier_frames' to extract a few representative outlier frames.\n",
      "Filtering with median model \\\\mpfi.org\\public\\sb-lab\\DLC-analyses\\new-video-analyses\\Files_For_Analysis\\10242022\\STOP-1_CL_FreqSampling\\N13\\Ball\\F-10192022173203-0000.mp4\n",
      "Saving filtered csv poses!\n",
      "idx: 6\n",
      "idx: 7\n",
      "model_paths[idx]: C:\\DLC\\3D_8cam_vid\\3cam_BEH-BidayeLab-2022-09-16\n",
      "single_folder[idx]: \\\\mpfi.org\\public\\sb-lab\\DLC-analyses\\new-video-analyses\\Files_For_Analysis\\10242022\\STOP-1_CL_FreqSampling\\N13\\Ball\\H-10192022173205-0000.mp4\n",
      "Using snapshot-500000 for model C:\\DLC\\3D_8cam_vid\\3cam_BEH-BidayeLab-2022-09-16\\dlc-models\\iteration-0\\3cam_BEHSep16-trainset95shuffle1\n",
      "Switching to numpy-based keypoint extraction code, as multiple point extraction is not supported by TF code currently.\n",
      "Extracting  20 instances per bodypart\n"
     ]
    },
    {
     "name": "stderr",
     "output_type": "stream",
     "text": [
      "C:\\ProgramData\\Anaconda3\\envs\\deeplabcut\\lib\\site-packages\\tensorflow\\python\\keras\\engine\\base_layer_v1.py:1694: UserWarning: `layer.apply` is deprecated and will be removed in a future version. Please use `layer.__call__` method instead.\n",
      "  warnings.warn('`layer.apply` is deprecated and '\n",
      "C:\\ProgramData\\Anaconda3\\envs\\deeplabcut\\lib\\site-packages\\tf_slim\\layers\\layers.py:684: UserWarning: `layer.apply` is deprecated and will be removed in a future version. Please use `layer.__call__` method instead.\n",
      "  outputs = layer.apply(inputs, training=is_training)\n"
     ]
    },
    {
     "name": "stdout",
     "output_type": "stream",
     "text": [
      "Starting to analyze %  \\\\mpfi.org\\public\\sb-lab\\DLC-analyses\\new-video-analyses\\Files_For_Analysis\\10242022\\STOP-1_CL_FreqSampling\\N13\\Ball\\H-10192022173205-0000.mp4\n",
      "Loading  \\\\mpfi.org\\public\\sb-lab\\DLC-analyses\\new-video-analyses\\Files_For_Analysis\\10242022\\STOP-1_CL_FreqSampling\\N13\\Ball\\H-10192022173205-0000.mp4\n",
      "Duration of video [s]:  70.0 , recorded with  200.0 fps!\n",
      "Overall # of frames:  14000  found with (before cropping) frame dimensions:  1440 1080\n",
      "Starting to extract posture\n"
     ]
    },
    {
     "name": "stderr",
     "output_type": "stream",
     "text": [
      "100%|████████████████████████████████████████████████████████████████████████████| 14000/14000 [16:17<00:00, 14.33it/s]\n"
     ]
    },
    {
     "name": "stdout",
     "output_type": "stream",
     "text": [
      "Saving results in \\\\mpfi.org\\public\\sb-lab\\DLC-analyses\\new-video-analyses\\Files_For_Analysis\\10242022\\STOP-1_CL_FreqSampling\\N13\\Ball...\n",
      "Saving csv poses!\n",
      "The videos are analyzed. Now your research can truly start! \n",
      " You can create labeled videos with 'create_labeled_video'\n",
      "If the tracking is not satisfactory for some videos, consider expanding the training set. You can use the function 'extract_outlier_frames' to extract a few representative outlier frames.\n",
      "Filtering with median model \\\\mpfi.org\\public\\sb-lab\\DLC-analyses\\new-video-analyses\\Files_For_Analysis\\10242022\\STOP-1_CL_FreqSampling\\N13\\Ball\\H-10192022173205-0000.mp4\n",
      "Saving filtered csv poses!\n",
      "idx: 0\n",
      "model_paths[idx]: C:\\DLC\\3D_8cam_vid\\camA_FS34_RN101-BidayeLab-2022-09-20\n",
      "single_folder[idx]: \\\\mpfi.org\\public\\sb-lab\\DLC-analyses\\new-video-analyses\\Files_For_Analysis\\10242022\\STOP-1_CL_FreqSampling\\N2\\Ball\\A-10132022185421-0000.mp4\n",
      "Using snapshot-500000 for model C:\\DLC\\3D_8cam_vid\\camA_FS34_RN101-BidayeLab-2022-09-20\\dlc-models\\iteration-1\\camA_FS34_RN101Sep20-trainset95shuffle1\n",
      "Switching to numpy-based keypoint extraction code, as multiple point extraction is not supported by TF code currently.\n",
      "Extracting  20 instances per bodypart\n"
     ]
    },
    {
     "name": "stderr",
     "output_type": "stream",
     "text": [
      "C:\\ProgramData\\Anaconda3\\envs\\deeplabcut\\lib\\site-packages\\tensorflow\\python\\keras\\engine\\base_layer_v1.py:1694: UserWarning: `layer.apply` is deprecated and will be removed in a future version. Please use `layer.__call__` method instead.\n",
      "  warnings.warn('`layer.apply` is deprecated and '\n",
      "C:\\ProgramData\\Anaconda3\\envs\\deeplabcut\\lib\\site-packages\\tf_slim\\layers\\layers.py:684: UserWarning: `layer.apply` is deprecated and will be removed in a future version. Please use `layer.__call__` method instead.\n",
      "  outputs = layer.apply(inputs, training=is_training)\n"
     ]
    },
    {
     "name": "stdout",
     "output_type": "stream",
     "text": [
      "Starting to analyze %  \\\\mpfi.org\\public\\sb-lab\\DLC-analyses\\new-video-analyses\\Files_For_Analysis\\10242022\\STOP-1_CL_FreqSampling\\N2\\Ball\\A-10132022185421-0000.mp4\n",
      "Loading  \\\\mpfi.org\\public\\sb-lab\\DLC-analyses\\new-video-analyses\\Files_For_Analysis\\10242022\\STOP-1_CL_FreqSampling\\N2\\Ball\\A-10132022185421-0000.mp4\n",
      "Duration of video [s]:  82.22 , recorded with  200.0 fps!\n",
      "Overall # of frames:  16445  found with (before cropping) frame dimensions:  1440 1080\n",
      "Starting to extract posture\n"
     ]
    },
    {
     "name": "stderr",
     "output_type": "stream",
     "text": [
      "100%|███████████████████████████████████████████████████████████████████████████▊| 16400/16445 [16:54<00:02, 16.16it/s]\n"
     ]
    },
    {
     "name": "stdout",
     "output_type": "stream",
     "text": [
      "Saving results in \\\\mpfi.org\\public\\sb-lab\\DLC-analyses\\new-video-analyses\\Files_For_Analysis\\10242022\\STOP-1_CL_FreqSampling\\N2\\Ball...\n",
      "Saving csv poses!\n",
      "The videos are analyzed. Now your research can truly start! \n",
      " You can create labeled videos with 'create_labeled_video'\n",
      "If the tracking is not satisfactory for some videos, consider expanding the training set. You can use the function 'extract_outlier_frames' to extract a few representative outlier frames.\n",
      "Filtering with median model \\\\mpfi.org\\public\\sb-lab\\DLC-analyses\\new-video-analyses\\Files_For_Analysis\\10242022\\STOP-1_CL_FreqSampling\\N2\\Ball\\A-10132022185421-0000.mp4\n",
      "Saving filtered csv poses!\n",
      "idx: 1\n",
      "model_paths[idx]: C:\\DLC\\3D_8cam_vid\\3cam_BEH-BidayeLab-2022-09-16\n",
      "single_folder[idx]: \\\\mpfi.org\\public\\sb-lab\\DLC-analyses\\new-video-analyses\\Files_For_Analysis\\10242022\\STOP-1_CL_FreqSampling\\N2\\Ball\\B-10132022185424-0000.mp4\n",
      "Using snapshot-500000 for model C:\\DLC\\3D_8cam_vid\\3cam_BEH-BidayeLab-2022-09-16\\dlc-models\\iteration-0\\3cam_BEHSep16-trainset95shuffle1\n",
      "Switching to numpy-based keypoint extraction code, as multiple point extraction is not supported by TF code currently.\n",
      "Extracting  20 instances per bodypart\n"
     ]
    },
    {
     "name": "stderr",
     "output_type": "stream",
     "text": [
      "C:\\ProgramData\\Anaconda3\\envs\\deeplabcut\\lib\\site-packages\\tensorflow\\python\\keras\\engine\\base_layer_v1.py:1694: UserWarning: `layer.apply` is deprecated and will be removed in a future version. Please use `layer.__call__` method instead.\n",
      "  warnings.warn('`layer.apply` is deprecated and '\n",
      "C:\\ProgramData\\Anaconda3\\envs\\deeplabcut\\lib\\site-packages\\tf_slim\\layers\\layers.py:684: UserWarning: `layer.apply` is deprecated and will be removed in a future version. Please use `layer.__call__` method instead.\n",
      "  outputs = layer.apply(inputs, training=is_training)\n"
     ]
    },
    {
     "name": "stdout",
     "output_type": "stream",
     "text": [
      "Starting to analyze %  \\\\mpfi.org\\public\\sb-lab\\DLC-analyses\\new-video-analyses\\Files_For_Analysis\\10242022\\STOP-1_CL_FreqSampling\\N2\\Ball\\B-10132022185424-0000.mp4\n",
      "Loading  \\\\mpfi.org\\public\\sb-lab\\DLC-analyses\\new-video-analyses\\Files_For_Analysis\\10242022\\STOP-1_CL_FreqSampling\\N2\\Ball\\B-10132022185424-0000.mp4\n",
      "Duration of video [s]:  82.22 , recorded with  200.0 fps!\n",
      "Overall # of frames:  16445  found with (before cropping) frame dimensions:  1440 1080\n",
      "Starting to extract posture\n"
     ]
    },
    {
     "name": "stderr",
     "output_type": "stream",
     "text": [
      "100%|███████████████████████████████████████████████████████████████████████████▊| 16400/16445 [19:05<00:03, 14.32it/s]\n"
     ]
    },
    {
     "name": "stdout",
     "output_type": "stream",
     "text": [
      "Saving results in \\\\mpfi.org\\public\\sb-lab\\DLC-analyses\\new-video-analyses\\Files_For_Analysis\\10242022\\STOP-1_CL_FreqSampling\\N2\\Ball...\n",
      "Saving csv poses!\n",
      "The videos are analyzed. Now your research can truly start! \n",
      " You can create labeled videos with 'create_labeled_video'\n",
      "If the tracking is not satisfactory for some videos, consider expanding the training set. You can use the function 'extract_outlier_frames' to extract a few representative outlier frames.\n",
      "Filtering with median model \\\\mpfi.org\\public\\sb-lab\\DLC-analyses\\new-video-analyses\\Files_For_Analysis\\10242022\\STOP-1_CL_FreqSampling\\N2\\Ball\\B-10132022185424-0000.mp4\n",
      "Saving filtered csv poses!\n",
      "idx: 2\n",
      "model_paths[idx]: C:\\DLC\\3D_8cam_vid\\camC_FS34_RN101-BidayeLab-2022-10-01\n",
      "single_folder[idx]: \\\\mpfi.org\\public\\sb-lab\\DLC-analyses\\new-video-analyses\\Files_For_Analysis\\10242022\\STOP-1_CL_FreqSampling\\N2\\Ball\\C-10132022185415-0000.mp4\n",
      "Using snapshot-500000 for model C:\\DLC\\3D_8cam_vid\\camC_FS34_RN101-BidayeLab-2022-10-01\\dlc-models\\iteration-0\\camC_FS34_RN101Oct1-trainset95shuffle1\n",
      "Switching to numpy-based keypoint extraction code, as multiple point extraction is not supported by TF code currently.\n",
      "Extracting  20 instances per bodypart\n"
     ]
    },
    {
     "name": "stderr",
     "output_type": "stream",
     "text": [
      "C:\\ProgramData\\Anaconda3\\envs\\deeplabcut\\lib\\site-packages\\tensorflow\\python\\keras\\engine\\base_layer_v1.py:1694: UserWarning: `layer.apply` is deprecated and will be removed in a future version. Please use `layer.__call__` method instead.\n",
      "  warnings.warn('`layer.apply` is deprecated and '\n",
      "C:\\ProgramData\\Anaconda3\\envs\\deeplabcut\\lib\\site-packages\\tf_slim\\layers\\layers.py:684: UserWarning: `layer.apply` is deprecated and will be removed in a future version. Please use `layer.__call__` method instead.\n",
      "  outputs = layer.apply(inputs, training=is_training)\n"
     ]
    },
    {
     "name": "stdout",
     "output_type": "stream",
     "text": [
      "Starting to analyze %  \\\\mpfi.org\\public\\sb-lab\\DLC-analyses\\new-video-analyses\\Files_For_Analysis\\10242022\\STOP-1_CL_FreqSampling\\N2\\Ball\\C-10132022185415-0000.mp4\n",
      "Loading  \\\\mpfi.org\\public\\sb-lab\\DLC-analyses\\new-video-analyses\\Files_For_Analysis\\10242022\\STOP-1_CL_FreqSampling\\N2\\Ball\\C-10132022185415-0000.mp4\n",
      "Duration of video [s]:  82.22 , recorded with  200.0 fps!\n",
      "Overall # of frames:  16445  found with (before cropping) frame dimensions:  1440 1080\n",
      "Starting to extract posture\n"
     ]
    },
    {
     "name": "stderr",
     "output_type": "stream",
     "text": [
      "100%|███████████████████████████████████████████████████████████████████████████▊| 16400/16445 [17:09<00:02, 15.93it/s]\n"
     ]
    },
    {
     "name": "stdout",
     "output_type": "stream",
     "text": [
      "Saving results in \\\\mpfi.org\\public\\sb-lab\\DLC-analyses\\new-video-analyses\\Files_For_Analysis\\10242022\\STOP-1_CL_FreqSampling\\N2\\Ball...\n",
      "Saving csv poses!\n",
      "The videos are analyzed. Now your research can truly start! \n",
      " You can create labeled videos with 'create_labeled_video'\n",
      "If the tracking is not satisfactory for some videos, consider expanding the training set. You can use the function 'extract_outlier_frames' to extract a few representative outlier frames.\n",
      "Filtering with median model \\\\mpfi.org\\public\\sb-lab\\DLC-analyses\\new-video-analyses\\Files_For_Analysis\\10242022\\STOP-1_CL_FreqSampling\\N2\\Ball\\C-10132022185415-0000.mp4\n",
      "Saving filtered csv poses!\n",
      "idx: 3\n",
      "model_paths[idx]: C:\\DLC\\3D_8cam_vid\\camD_FS34_RN101-BidayeLab-2022-09-20\n",
      "single_folder[idx]: \\\\mpfi.org\\public\\sb-lab\\DLC-analyses\\new-video-analyses\\Files_For_Analysis\\10242022\\STOP-1_CL_FreqSampling\\N2\\Ball\\D-10132022185423-0000.mp4\n",
      "Using snapshot-500000 for model C:\\DLC\\3D_8cam_vid\\camD_FS34_RN101-BidayeLab-2022-09-20\\dlc-models\\iteration-0\\camD_FS34_RN101Sep20-trainset95shuffle1\n",
      "Switching to numpy-based keypoint extraction code, as multiple point extraction is not supported by TF code currently.\n",
      "Extracting  20 instances per bodypart\n"
     ]
    },
    {
     "name": "stderr",
     "output_type": "stream",
     "text": [
      "C:\\ProgramData\\Anaconda3\\envs\\deeplabcut\\lib\\site-packages\\tensorflow\\python\\keras\\engine\\base_layer_v1.py:1694: UserWarning: `layer.apply` is deprecated and will be removed in a future version. Please use `layer.__call__` method instead.\n",
      "  warnings.warn('`layer.apply` is deprecated and '\n",
      "C:\\ProgramData\\Anaconda3\\envs\\deeplabcut\\lib\\site-packages\\tf_slim\\layers\\layers.py:684: UserWarning: `layer.apply` is deprecated and will be removed in a future version. Please use `layer.__call__` method instead.\n",
      "  outputs = layer.apply(inputs, training=is_training)\n"
     ]
    },
    {
     "name": "stdout",
     "output_type": "stream",
     "text": [
      "Starting to analyze %  \\\\mpfi.org\\public\\sb-lab\\DLC-analyses\\new-video-analyses\\Files_For_Analysis\\10242022\\STOP-1_CL_FreqSampling\\N2\\Ball\\D-10132022185423-0000.mp4\n",
      "Loading  \\\\mpfi.org\\public\\sb-lab\\DLC-analyses\\new-video-analyses\\Files_For_Analysis\\10242022\\STOP-1_CL_FreqSampling\\N2\\Ball\\D-10132022185423-0000.mp4\n",
      "Duration of video [s]:  82.22 , recorded with  200.0 fps!\n",
      "Overall # of frames:  16445  found with (before cropping) frame dimensions:  1440 1080\n",
      "Starting to extract posture\n"
     ]
    },
    {
     "name": "stderr",
     "output_type": "stream",
     "text": [
      "100%|███████████████████████████████████████████████████████████████████████████▊| 16400/16445 [16:55<00:02, 16.15it/s]\n"
     ]
    },
    {
     "name": "stdout",
     "output_type": "stream",
     "text": [
      "Saving results in \\\\mpfi.org\\public\\sb-lab\\DLC-analyses\\new-video-analyses\\Files_For_Analysis\\10242022\\STOP-1_CL_FreqSampling\\N2\\Ball...\n",
      "Saving csv poses!\n",
      "The videos are analyzed. Now your research can truly start! \n",
      " You can create labeled videos with 'create_labeled_video'\n",
      "If the tracking is not satisfactory for some videos, consider expanding the training set. You can use the function 'extract_outlier_frames' to extract a few representative outlier frames.\n",
      "Filtering with median model \\\\mpfi.org\\public\\sb-lab\\DLC-analyses\\new-video-analyses\\Files_For_Analysis\\10242022\\STOP-1_CL_FreqSampling\\N2\\Ball\\D-10132022185423-0000.mp4\n",
      "Saving filtered csv poses!\n",
      "idx: 4\n",
      "model_paths[idx]: C:\\DLC\\3D_8cam_vid\\3cam_BEH-BidayeLab-2022-09-16\n",
      "single_folder[idx]: \\\\mpfi.org\\public\\sb-lab\\DLC-analyses\\new-video-analyses\\Files_For_Analysis\\10242022\\STOP-1_CL_FreqSampling\\N2\\Ball\\E-10132022185425-0000.mp4\n",
      "Using snapshot-500000 for model C:\\DLC\\3D_8cam_vid\\3cam_BEH-BidayeLab-2022-09-16\\dlc-models\\iteration-0\\3cam_BEHSep16-trainset95shuffle1\n",
      "Switching to numpy-based keypoint extraction code, as multiple point extraction is not supported by TF code currently.\n",
      "Extracting  20 instances per bodypart\n"
     ]
    },
    {
     "name": "stderr",
     "output_type": "stream",
     "text": [
      "C:\\ProgramData\\Anaconda3\\envs\\deeplabcut\\lib\\site-packages\\tensorflow\\python\\keras\\engine\\base_layer_v1.py:1694: UserWarning: `layer.apply` is deprecated and will be removed in a future version. Please use `layer.__call__` method instead.\n",
      "  warnings.warn('`layer.apply` is deprecated and '\n",
      "C:\\ProgramData\\Anaconda3\\envs\\deeplabcut\\lib\\site-packages\\tf_slim\\layers\\layers.py:684: UserWarning: `layer.apply` is deprecated and will be removed in a future version. Please use `layer.__call__` method instead.\n",
      "  outputs = layer.apply(inputs, training=is_training)\n"
     ]
    },
    {
     "name": "stdout",
     "output_type": "stream",
     "text": [
      "Starting to analyze %  \\\\mpfi.org\\public\\sb-lab\\DLC-analyses\\new-video-analyses\\Files_For_Analysis\\10242022\\STOP-1_CL_FreqSampling\\N2\\Ball\\E-10132022185425-0000.mp4\n",
      "Loading  \\\\mpfi.org\\public\\sb-lab\\DLC-analyses\\new-video-analyses\\Files_For_Analysis\\10242022\\STOP-1_CL_FreqSampling\\N2\\Ball\\E-10132022185425-0000.mp4\n",
      "Duration of video [s]:  82.22 , recorded with  200.0 fps!\n",
      "Overall # of frames:  16445  found with (before cropping) frame dimensions:  1440 1080\n",
      "Starting to extract posture\n"
     ]
    },
    {
     "name": "stderr",
     "output_type": "stream",
     "text": [
      "100%|███████████████████████████████████████████████████████████████████████████▊| 16400/16445 [19:29<00:03, 14.03it/s]\n"
     ]
    },
    {
     "name": "stdout",
     "output_type": "stream",
     "text": [
      "Saving results in \\\\mpfi.org\\public\\sb-lab\\DLC-analyses\\new-video-analyses\\Files_For_Analysis\\10242022\\STOP-1_CL_FreqSampling\\N2\\Ball...\n",
      "Saving csv poses!\n",
      "The videos are analyzed. Now your research can truly start! \n",
      " You can create labeled videos with 'create_labeled_video'\n",
      "If the tracking is not satisfactory for some videos, consider expanding the training set. You can use the function 'extract_outlier_frames' to extract a few representative outlier frames.\n",
      "Filtering with median model \\\\mpfi.org\\public\\sb-lab\\DLC-analyses\\new-video-analyses\\Files_For_Analysis\\10242022\\STOP-1_CL_FreqSampling\\N2\\Ball\\E-10132022185425-0000.mp4\n",
      "Saving filtered csv poses!\n",
      "idx: 5\n",
      "model_paths[idx]: C:\\DLC\\3D_8cam_vid\\camF_FS34_RN101-BidayeLab-2022-10-01\n",
      "single_folder[idx]: \\\\mpfi.org\\public\\sb-lab\\DLC-analyses\\new-video-analyses\\Files_For_Analysis\\10242022\\STOP-1_CL_FreqSampling\\N2\\Ball\\F-10132022185417-0000.mp4\n",
      "Using snapshot-500000 for model C:\\DLC\\3D_8cam_vid\\camF_FS34_RN101-BidayeLab-2022-10-01\\dlc-models\\iteration-0\\camF_FS34_RN101Oct1-trainset95shuffle1\n",
      "Switching to numpy-based keypoint extraction code, as multiple point extraction is not supported by TF code currently.\n",
      "Extracting  20 instances per bodypart\n"
     ]
    },
    {
     "name": "stderr",
     "output_type": "stream",
     "text": [
      "C:\\ProgramData\\Anaconda3\\envs\\deeplabcut\\lib\\site-packages\\tensorflow\\python\\keras\\engine\\base_layer_v1.py:1694: UserWarning: `layer.apply` is deprecated and will be removed in a future version. Please use `layer.__call__` method instead.\n",
      "  warnings.warn('`layer.apply` is deprecated and '\n",
      "C:\\ProgramData\\Anaconda3\\envs\\deeplabcut\\lib\\site-packages\\tf_slim\\layers\\layers.py:684: UserWarning: `layer.apply` is deprecated and will be removed in a future version. Please use `layer.__call__` method instead.\n",
      "  outputs = layer.apply(inputs, training=is_training)\n"
     ]
    },
    {
     "name": "stdout",
     "output_type": "stream",
     "text": [
      "Starting to analyze %  \\\\mpfi.org\\public\\sb-lab\\DLC-analyses\\new-video-analyses\\Files_For_Analysis\\10242022\\STOP-1_CL_FreqSampling\\N2\\Ball\\F-10132022185417-0000.mp4\n",
      "Loading  \\\\mpfi.org\\public\\sb-lab\\DLC-analyses\\new-video-analyses\\Files_For_Analysis\\10242022\\STOP-1_CL_FreqSampling\\N2\\Ball\\F-10132022185417-0000.mp4\n",
      "Duration of video [s]:  82.22 , recorded with  200.0 fps!\n",
      "Overall # of frames:  16445  found with (before cropping) frame dimensions:  1440 1080\n",
      "Starting to extract posture\n"
     ]
    },
    {
     "name": "stderr",
     "output_type": "stream",
     "text": [
      "100%|███████████████████████████████████████████████████████████████████████████▊| 16400/16445 [16:58<00:02, 16.11it/s]\n"
     ]
    },
    {
     "name": "stdout",
     "output_type": "stream",
     "text": [
      "Saving results in \\\\mpfi.org\\public\\sb-lab\\DLC-analyses\\new-video-analyses\\Files_For_Analysis\\10242022\\STOP-1_CL_FreqSampling\\N2\\Ball...\n",
      "Saving csv poses!\n",
      "The videos are analyzed. Now your research can truly start! \n",
      " You can create labeled videos with 'create_labeled_video'\n",
      "If the tracking is not satisfactory for some videos, consider expanding the training set. You can use the function 'extract_outlier_frames' to extract a few representative outlier frames.\n",
      "Filtering with median model \\\\mpfi.org\\public\\sb-lab\\DLC-analyses\\new-video-analyses\\Files_For_Analysis\\10242022\\STOP-1_CL_FreqSampling\\N2\\Ball\\F-10132022185417-0000.mp4\n",
      "Saving filtered csv poses!\n",
      "idx: 6\n",
      "idx: 7\n",
      "model_paths[idx]: C:\\DLC\\3D_8cam_vid\\3cam_BEH-BidayeLab-2022-09-16\n",
      "single_folder[idx]: \\\\mpfi.org\\public\\sb-lab\\DLC-analyses\\new-video-analyses\\Files_For_Analysis\\10242022\\STOP-1_CL_FreqSampling\\N2\\Ball\\H-10132022185418-0000.mp4\n",
      "Using snapshot-500000 for model C:\\DLC\\3D_8cam_vid\\3cam_BEH-BidayeLab-2022-09-16\\dlc-models\\iteration-0\\3cam_BEHSep16-trainset95shuffle1\n",
      "Switching to numpy-based keypoint extraction code, as multiple point extraction is not supported by TF code currently.\n",
      "Extracting  20 instances per bodypart\n"
     ]
    },
    {
     "name": "stderr",
     "output_type": "stream",
     "text": [
      "C:\\ProgramData\\Anaconda3\\envs\\deeplabcut\\lib\\site-packages\\tensorflow\\python\\keras\\engine\\base_layer_v1.py:1694: UserWarning: `layer.apply` is deprecated and will be removed in a future version. Please use `layer.__call__` method instead.\n",
      "  warnings.warn('`layer.apply` is deprecated and '\n",
      "C:\\ProgramData\\Anaconda3\\envs\\deeplabcut\\lib\\site-packages\\tf_slim\\layers\\layers.py:684: UserWarning: `layer.apply` is deprecated and will be removed in a future version. Please use `layer.__call__` method instead.\n",
      "  outputs = layer.apply(inputs, training=is_training)\n"
     ]
    },
    {
     "name": "stdout",
     "output_type": "stream",
     "text": [
      "Starting to analyze %  \\\\mpfi.org\\public\\sb-lab\\DLC-analyses\\new-video-analyses\\Files_For_Analysis\\10242022\\STOP-1_CL_FreqSampling\\N2\\Ball\\H-10132022185418-0000.mp4\n",
      "Loading  \\\\mpfi.org\\public\\sb-lab\\DLC-analyses\\new-video-analyses\\Files_For_Analysis\\10242022\\STOP-1_CL_FreqSampling\\N2\\Ball\\H-10132022185418-0000.mp4\n",
      "Duration of video [s]:  82.22 , recorded with  200.0 fps!\n",
      "Overall # of frames:  16445  found with (before cropping) frame dimensions:  1440 1080\n",
      "Starting to extract posture\n"
     ]
    },
    {
     "name": "stderr",
     "output_type": "stream",
     "text": [
      "100%|███████████████████████████████████████████████████████████████████████████▊| 16400/16445 [19:07<00:03, 14.29it/s]\n"
     ]
    },
    {
     "name": "stdout",
     "output_type": "stream",
     "text": [
      "Saving results in \\\\mpfi.org\\public\\sb-lab\\DLC-analyses\\new-video-analyses\\Files_For_Analysis\\10242022\\STOP-1_CL_FreqSampling\\N2\\Ball...\n",
      "Saving csv poses!\n",
      "The videos are analyzed. Now your research can truly start! \n",
      " You can create labeled videos with 'create_labeled_video'\n",
      "If the tracking is not satisfactory for some videos, consider expanding the training set. You can use the function 'extract_outlier_frames' to extract a few representative outlier frames.\n",
      "Filtering with median model \\\\mpfi.org\\public\\sb-lab\\DLC-analyses\\new-video-analyses\\Files_For_Analysis\\10242022\\STOP-1_CL_FreqSampling\\N2\\Ball\\H-10132022185418-0000.mp4\n",
      "Saving filtered csv poses!\n",
      "idx: 0\n",
      "model_paths[idx]: C:\\DLC\\3D_8cam_vid\\camA_FS34_RN101-BidayeLab-2022-09-20\n",
      "single_folder[idx]: \\\\mpfi.org\\public\\sb-lab\\DLC-analyses\\new-video-analyses\\Files_For_Analysis\\10242022\\STOP-1_CL_FreqSampling\\N3\\Ball\\A-10132022194258-0000.mp4\n",
      "Using snapshot-500000 for model C:\\DLC\\3D_8cam_vid\\camA_FS34_RN101-BidayeLab-2022-09-20\\dlc-models\\iteration-1\\camA_FS34_RN101Sep20-trainset95shuffle1\n",
      "Switching to numpy-based keypoint extraction code, as multiple point extraction is not supported by TF code currently.\n",
      "Extracting  20 instances per bodypart\n"
     ]
    },
    {
     "name": "stderr",
     "output_type": "stream",
     "text": [
      "C:\\ProgramData\\Anaconda3\\envs\\deeplabcut\\lib\\site-packages\\tensorflow\\python\\keras\\engine\\base_layer_v1.py:1694: UserWarning: `layer.apply` is deprecated and will be removed in a future version. Please use `layer.__call__` method instead.\n",
      "  warnings.warn('`layer.apply` is deprecated and '\n",
      "C:\\ProgramData\\Anaconda3\\envs\\deeplabcut\\lib\\site-packages\\tf_slim\\layers\\layers.py:684: UserWarning: `layer.apply` is deprecated and will be removed in a future version. Please use `layer.__call__` method instead.\n",
      "  outputs = layer.apply(inputs, training=is_training)\n"
     ]
    },
    {
     "name": "stdout",
     "output_type": "stream",
     "text": [
      "Starting to analyze %  \\\\mpfi.org\\public\\sb-lab\\DLC-analyses\\new-video-analyses\\Files_For_Analysis\\10242022\\STOP-1_CL_FreqSampling\\N3\\Ball\\A-10132022194258-0000.mp4\n",
      "Loading  \\\\mpfi.org\\public\\sb-lab\\DLC-analyses\\new-video-analyses\\Files_For_Analysis\\10242022\\STOP-1_CL_FreqSampling\\N3\\Ball\\A-10132022194258-0000.mp4\n",
      "Duration of video [s]:  71.39 , recorded with  200.0 fps!\n",
      "Overall # of frames:  14277  found with (before cropping) frame dimensions:  1440 1080\n",
      "Starting to extract posture\n"
     ]
    },
    {
     "name": "stderr",
     "output_type": "stream",
     "text": [
      " 99%|███████████████████████████████████████████████████████████████████████████▌| 14200/14277 [14:52<00:04, 15.91it/s]\n"
     ]
    },
    {
     "name": "stdout",
     "output_type": "stream",
     "text": [
      "Saving results in \\\\mpfi.org\\public\\sb-lab\\DLC-analyses\\new-video-analyses\\Files_For_Analysis\\10242022\\STOP-1_CL_FreqSampling\\N3\\Ball...\n",
      "Saving csv poses!\n",
      "The videos are analyzed. Now your research can truly start! \n",
      " You can create labeled videos with 'create_labeled_video'\n",
      "If the tracking is not satisfactory for some videos, consider expanding the training set. You can use the function 'extract_outlier_frames' to extract a few representative outlier frames.\n",
      "Filtering with median model \\\\mpfi.org\\public\\sb-lab\\DLC-analyses\\new-video-analyses\\Files_For_Analysis\\10242022\\STOP-1_CL_FreqSampling\\N3\\Ball\\A-10132022194258-0000.mp4\n",
      "Saving filtered csv poses!\n",
      "idx: 1\n",
      "model_paths[idx]: C:\\DLC\\3D_8cam_vid\\3cam_BEH-BidayeLab-2022-09-16\n",
      "single_folder[idx]: \\\\mpfi.org\\public\\sb-lab\\DLC-analyses\\new-video-analyses\\Files_For_Analysis\\10242022\\STOP-1_CL_FreqSampling\\N3\\Ball\\B-10132022194302-0000.mp4\n",
      "Using snapshot-500000 for model C:\\DLC\\3D_8cam_vid\\3cam_BEH-BidayeLab-2022-09-16\\dlc-models\\iteration-0\\3cam_BEHSep16-trainset95shuffle1\n",
      "Switching to numpy-based keypoint extraction code, as multiple point extraction is not supported by TF code currently.\n",
      "Extracting  20 instances per bodypart\n"
     ]
    },
    {
     "name": "stderr",
     "output_type": "stream",
     "text": [
      "C:\\ProgramData\\Anaconda3\\envs\\deeplabcut\\lib\\site-packages\\tensorflow\\python\\keras\\engine\\base_layer_v1.py:1694: UserWarning: `layer.apply` is deprecated and will be removed in a future version. Please use `layer.__call__` method instead.\n",
      "  warnings.warn('`layer.apply` is deprecated and '\n",
      "C:\\ProgramData\\Anaconda3\\envs\\deeplabcut\\lib\\site-packages\\tf_slim\\layers\\layers.py:684: UserWarning: `layer.apply` is deprecated and will be removed in a future version. Please use `layer.__call__` method instead.\n",
      "  outputs = layer.apply(inputs, training=is_training)\n"
     ]
    },
    {
     "name": "stdout",
     "output_type": "stream",
     "text": [
      "Starting to analyze %  \\\\mpfi.org\\public\\sb-lab\\DLC-analyses\\new-video-analyses\\Files_For_Analysis\\10242022\\STOP-1_CL_FreqSampling\\N3\\Ball\\B-10132022194302-0000.mp4\n",
      "Loading  \\\\mpfi.org\\public\\sb-lab\\DLC-analyses\\new-video-analyses\\Files_For_Analysis\\10242022\\STOP-1_CL_FreqSampling\\N3\\Ball\\B-10132022194302-0000.mp4\n",
      "Duration of video [s]:  71.39 , recorded with  200.0 fps!\n",
      "Overall # of frames:  14277  found with (before cropping) frame dimensions:  1440 1080\n",
      "Starting to extract posture\n"
     ]
    },
    {
     "name": "stderr",
     "output_type": "stream",
     "text": [
      " 99%|███████████████████████████████████████████████████████████████████████████▌| 14200/14277 [16:46<00:05, 14.11it/s]\n"
     ]
    },
    {
     "name": "stdout",
     "output_type": "stream",
     "text": [
      "Saving results in \\\\mpfi.org\\public\\sb-lab\\DLC-analyses\\new-video-analyses\\Files_For_Analysis\\10242022\\STOP-1_CL_FreqSampling\\N3\\Ball...\n",
      "Saving csv poses!\n",
      "The videos are analyzed. Now your research can truly start! \n",
      " You can create labeled videos with 'create_labeled_video'\n",
      "If the tracking is not satisfactory for some videos, consider expanding the training set. You can use the function 'extract_outlier_frames' to extract a few representative outlier frames.\n",
      "Filtering with median model \\\\mpfi.org\\public\\sb-lab\\DLC-analyses\\new-video-analyses\\Files_For_Analysis\\10242022\\STOP-1_CL_FreqSampling\\N3\\Ball\\B-10132022194302-0000.mp4\n",
      "Saving filtered csv poses!\n",
      "idx: 2\n",
      "model_paths[idx]: C:\\DLC\\3D_8cam_vid\\camC_FS34_RN101-BidayeLab-2022-10-01\n",
      "single_folder[idx]: \\\\mpfi.org\\public\\sb-lab\\DLC-analyses\\new-video-analyses\\Files_For_Analysis\\10242022\\STOP-1_CL_FreqSampling\\N3\\Ball\\C-10132022194253-0000.mp4\n",
      "Using snapshot-500000 for model C:\\DLC\\3D_8cam_vid\\camC_FS34_RN101-BidayeLab-2022-10-01\\dlc-models\\iteration-0\\camC_FS34_RN101Oct1-trainset95shuffle1\n",
      "Switching to numpy-based keypoint extraction code, as multiple point extraction is not supported by TF code currently.\n",
      "Extracting  20 instances per bodypart\n"
     ]
    },
    {
     "name": "stderr",
     "output_type": "stream",
     "text": [
      "C:\\ProgramData\\Anaconda3\\envs\\deeplabcut\\lib\\site-packages\\tensorflow\\python\\keras\\engine\\base_layer_v1.py:1694: UserWarning: `layer.apply` is deprecated and will be removed in a future version. Please use `layer.__call__` method instead.\n",
      "  warnings.warn('`layer.apply` is deprecated and '\n",
      "C:\\ProgramData\\Anaconda3\\envs\\deeplabcut\\lib\\site-packages\\tf_slim\\layers\\layers.py:684: UserWarning: `layer.apply` is deprecated and will be removed in a future version. Please use `layer.__call__` method instead.\n",
      "  outputs = layer.apply(inputs, training=is_training)\n"
     ]
    },
    {
     "name": "stdout",
     "output_type": "stream",
     "text": [
      "Starting to analyze %  \\\\mpfi.org\\public\\sb-lab\\DLC-analyses\\new-video-analyses\\Files_For_Analysis\\10242022\\STOP-1_CL_FreqSampling\\N3\\Ball\\C-10132022194253-0000.mp4\n",
      "Loading  \\\\mpfi.org\\public\\sb-lab\\DLC-analyses\\new-video-analyses\\Files_For_Analysis\\10242022\\STOP-1_CL_FreqSampling\\N3\\Ball\\C-10132022194253-0000.mp4\n",
      "Duration of video [s]:  71.39 , recorded with  200.0 fps!\n",
      "Overall # of frames:  14277  found with (before cropping) frame dimensions:  1440 1080\n",
      "Starting to extract posture\n"
     ]
    },
    {
     "name": "stderr",
     "output_type": "stream",
     "text": [
      " 99%|███████████████████████████████████████████████████████████████████████████▌| 14200/14277 [14:43<00:04, 16.07it/s]\n"
     ]
    },
    {
     "name": "stdout",
     "output_type": "stream",
     "text": [
      "Saving results in \\\\mpfi.org\\public\\sb-lab\\DLC-analyses\\new-video-analyses\\Files_For_Analysis\\10242022\\STOP-1_CL_FreqSampling\\N3\\Ball...\n",
      "Saving csv poses!\n",
      "The videos are analyzed. Now your research can truly start! \n",
      " You can create labeled videos with 'create_labeled_video'\n",
      "If the tracking is not satisfactory for some videos, consider expanding the training set. You can use the function 'extract_outlier_frames' to extract a few representative outlier frames.\n",
      "Filtering with median model \\\\mpfi.org\\public\\sb-lab\\DLC-analyses\\new-video-analyses\\Files_For_Analysis\\10242022\\STOP-1_CL_FreqSampling\\N3\\Ball\\C-10132022194253-0000.mp4\n",
      "Saving filtered csv poses!\n",
      "idx: 3\n",
      "model_paths[idx]: C:\\DLC\\3D_8cam_vid\\camD_FS34_RN101-BidayeLab-2022-09-20\n",
      "single_folder[idx]: \\\\mpfi.org\\public\\sb-lab\\DLC-analyses\\new-video-analyses\\Files_For_Analysis\\10242022\\STOP-1_CL_FreqSampling\\N3\\Ball\\D-10132022194300-0000.mp4\n",
      "Using snapshot-500000 for model C:\\DLC\\3D_8cam_vid\\camD_FS34_RN101-BidayeLab-2022-09-20\\dlc-models\\iteration-0\\camD_FS34_RN101Sep20-trainset95shuffle1\n",
      "Switching to numpy-based keypoint extraction code, as multiple point extraction is not supported by TF code currently.\n",
      "Extracting  20 instances per bodypart\n"
     ]
    },
    {
     "name": "stderr",
     "output_type": "stream",
     "text": [
      "C:\\ProgramData\\Anaconda3\\envs\\deeplabcut\\lib\\site-packages\\tensorflow\\python\\keras\\engine\\base_layer_v1.py:1694: UserWarning: `layer.apply` is deprecated and will be removed in a future version. Please use `layer.__call__` method instead.\n",
      "  warnings.warn('`layer.apply` is deprecated and '\n",
      "C:\\ProgramData\\Anaconda3\\envs\\deeplabcut\\lib\\site-packages\\tf_slim\\layers\\layers.py:684: UserWarning: `layer.apply` is deprecated and will be removed in a future version. Please use `layer.__call__` method instead.\n",
      "  outputs = layer.apply(inputs, training=is_training)\n"
     ]
    },
    {
     "name": "stdout",
     "output_type": "stream",
     "text": [
      "Starting to analyze %  \\\\mpfi.org\\public\\sb-lab\\DLC-analyses\\new-video-analyses\\Files_For_Analysis\\10242022\\STOP-1_CL_FreqSampling\\N3\\Ball\\D-10132022194300-0000.mp4\n",
      "Loading  \\\\mpfi.org\\public\\sb-lab\\DLC-analyses\\new-video-analyses\\Files_For_Analysis\\10242022\\STOP-1_CL_FreqSampling\\N3\\Ball\\D-10132022194300-0000.mp4\n",
      "Duration of video [s]:  71.39 , recorded with  200.0 fps!\n",
      "Overall # of frames:  14277  found with (before cropping) frame dimensions:  1440 1080\n",
      "Starting to extract posture\n"
     ]
    },
    {
     "name": "stderr",
     "output_type": "stream",
     "text": [
      " 99%|███████████████████████████████████████████████████████████████████████████▌| 14200/14277 [14:55<00:04, 15.85it/s]\n"
     ]
    },
    {
     "name": "stdout",
     "output_type": "stream",
     "text": [
      "Saving results in \\\\mpfi.org\\public\\sb-lab\\DLC-analyses\\new-video-analyses\\Files_For_Analysis\\10242022\\STOP-1_CL_FreqSampling\\N3\\Ball...\n",
      "Saving csv poses!\n",
      "The videos are analyzed. Now your research can truly start! \n",
      " You can create labeled videos with 'create_labeled_video'\n",
      "If the tracking is not satisfactory for some videos, consider expanding the training set. You can use the function 'extract_outlier_frames' to extract a few representative outlier frames.\n",
      "Filtering with median model \\\\mpfi.org\\public\\sb-lab\\DLC-analyses\\new-video-analyses\\Files_For_Analysis\\10242022\\STOP-1_CL_FreqSampling\\N3\\Ball\\D-10132022194300-0000.mp4\n",
      "Saving filtered csv poses!\n",
      "idx: 4\n",
      "model_paths[idx]: C:\\DLC\\3D_8cam_vid\\3cam_BEH-BidayeLab-2022-09-16\n",
      "single_folder[idx]: \\\\mpfi.org\\public\\sb-lab\\DLC-analyses\\new-video-analyses\\Files_For_Analysis\\10242022\\STOP-1_CL_FreqSampling\\N3\\Ball\\E-10132022194303-0000.mp4\n",
      "Using snapshot-500000 for model C:\\DLC\\3D_8cam_vid\\3cam_BEH-BidayeLab-2022-09-16\\dlc-models\\iteration-0\\3cam_BEHSep16-trainset95shuffle1\n",
      "Switching to numpy-based keypoint extraction code, as multiple point extraction is not supported by TF code currently.\n",
      "Extracting  20 instances per bodypart\n"
     ]
    },
    {
     "name": "stderr",
     "output_type": "stream",
     "text": [
      "C:\\ProgramData\\Anaconda3\\envs\\deeplabcut\\lib\\site-packages\\tensorflow\\python\\keras\\engine\\base_layer_v1.py:1694: UserWarning: `layer.apply` is deprecated and will be removed in a future version. Please use `layer.__call__` method instead.\n",
      "  warnings.warn('`layer.apply` is deprecated and '\n",
      "C:\\ProgramData\\Anaconda3\\envs\\deeplabcut\\lib\\site-packages\\tf_slim\\layers\\layers.py:684: UserWarning: `layer.apply` is deprecated and will be removed in a future version. Please use `layer.__call__` method instead.\n",
      "  outputs = layer.apply(inputs, training=is_training)\n"
     ]
    },
    {
     "name": "stdout",
     "output_type": "stream",
     "text": [
      "Starting to analyze %  \\\\mpfi.org\\public\\sb-lab\\DLC-analyses\\new-video-analyses\\Files_For_Analysis\\10242022\\STOP-1_CL_FreqSampling\\N3\\Ball\\E-10132022194303-0000.mp4\n",
      "Loading  \\\\mpfi.org\\public\\sb-lab\\DLC-analyses\\new-video-analyses\\Files_For_Analysis\\10242022\\STOP-1_CL_FreqSampling\\N3\\Ball\\E-10132022194303-0000.mp4\n",
      "Duration of video [s]:  71.39 , recorded with  200.0 fps!\n",
      "Overall # of frames:  14277  found with (before cropping) frame dimensions:  1440 1080\n",
      "Starting to extract posture\n"
     ]
    },
    {
     "name": "stderr",
     "output_type": "stream",
     "text": [
      " 99%|███████████████████████████████████████████████████████████████████████████▌| 14200/14277 [16:24<00:05, 14.43it/s]\n"
     ]
    },
    {
     "name": "stdout",
     "output_type": "stream",
     "text": [
      "Saving results in \\\\mpfi.org\\public\\sb-lab\\DLC-analyses\\new-video-analyses\\Files_For_Analysis\\10242022\\STOP-1_CL_FreqSampling\\N3\\Ball...\n",
      "Saving csv poses!\n",
      "The videos are analyzed. Now your research can truly start! \n",
      " You can create labeled videos with 'create_labeled_video'\n",
      "If the tracking is not satisfactory for some videos, consider expanding the training set. You can use the function 'extract_outlier_frames' to extract a few representative outlier frames.\n",
      "Filtering with median model \\\\mpfi.org\\public\\sb-lab\\DLC-analyses\\new-video-analyses\\Files_For_Analysis\\10242022\\STOP-1_CL_FreqSampling\\N3\\Ball\\E-10132022194303-0000.mp4\n",
      "Saving filtered csv poses!\n",
      "idx: 5\n",
      "model_paths[idx]: C:\\DLC\\3D_8cam_vid\\camF_FS34_RN101-BidayeLab-2022-10-01\n",
      "single_folder[idx]: \\\\mpfi.org\\public\\sb-lab\\DLC-analyses\\new-video-analyses\\Files_For_Analysis\\10242022\\STOP-1_CL_FreqSampling\\N3\\Ball\\F-10132022194252-0000.mp4\n",
      "Using snapshot-500000 for model C:\\DLC\\3D_8cam_vid\\camF_FS34_RN101-BidayeLab-2022-10-01\\dlc-models\\iteration-0\\camF_FS34_RN101Oct1-trainset95shuffle1\n",
      "Switching to numpy-based keypoint extraction code, as multiple point extraction is not supported by TF code currently.\n",
      "Extracting  20 instances per bodypart\n"
     ]
    },
    {
     "name": "stderr",
     "output_type": "stream",
     "text": [
      "C:\\ProgramData\\Anaconda3\\envs\\deeplabcut\\lib\\site-packages\\tensorflow\\python\\keras\\engine\\base_layer_v1.py:1694: UserWarning: `layer.apply` is deprecated and will be removed in a future version. Please use `layer.__call__` method instead.\n",
      "  warnings.warn('`layer.apply` is deprecated and '\n",
      "C:\\ProgramData\\Anaconda3\\envs\\deeplabcut\\lib\\site-packages\\tf_slim\\layers\\layers.py:684: UserWarning: `layer.apply` is deprecated and will be removed in a future version. Please use `layer.__call__` method instead.\n",
      "  outputs = layer.apply(inputs, training=is_training)\n"
     ]
    },
    {
     "name": "stdout",
     "output_type": "stream",
     "text": [
      "Starting to analyze %  \\\\mpfi.org\\public\\sb-lab\\DLC-analyses\\new-video-analyses\\Files_For_Analysis\\10242022\\STOP-1_CL_FreqSampling\\N3\\Ball\\F-10132022194252-0000.mp4\n",
      "Loading  \\\\mpfi.org\\public\\sb-lab\\DLC-analyses\\new-video-analyses\\Files_For_Analysis\\10242022\\STOP-1_CL_FreqSampling\\N3\\Ball\\F-10132022194252-0000.mp4\n",
      "Duration of video [s]:  71.39 , recorded with  200.0 fps!\n",
      "Overall # of frames:  14277  found with (before cropping) frame dimensions:  1440 1080\n",
      "Starting to extract posture\n"
     ]
    },
    {
     "name": "stderr",
     "output_type": "stream",
     "text": [
      " 99%|███████████████████████████████████████████████████████████████████████████▌| 14200/14277 [14:48<00:04, 15.98it/s]\n"
     ]
    },
    {
     "name": "stdout",
     "output_type": "stream",
     "text": [
      "Saving results in \\\\mpfi.org\\public\\sb-lab\\DLC-analyses\\new-video-analyses\\Files_For_Analysis\\10242022\\STOP-1_CL_FreqSampling\\N3\\Ball...\n",
      "Saving csv poses!\n",
      "The videos are analyzed. Now your research can truly start! \n",
      " You can create labeled videos with 'create_labeled_video'\n",
      "If the tracking is not satisfactory for some videos, consider expanding the training set. You can use the function 'extract_outlier_frames' to extract a few representative outlier frames.\n",
      "Filtering with median model \\\\mpfi.org\\public\\sb-lab\\DLC-analyses\\new-video-analyses\\Files_For_Analysis\\10242022\\STOP-1_CL_FreqSampling\\N3\\Ball\\F-10132022194252-0000.mp4\n",
      "Saving filtered csv poses!\n",
      "idx: 6\n",
      "idx: 7\n",
      "model_paths[idx]: C:\\DLC\\3D_8cam_vid\\3cam_BEH-BidayeLab-2022-09-16\n",
      "single_folder[idx]: \\\\mpfi.org\\public\\sb-lab\\DLC-analyses\\new-video-analyses\\Files_For_Analysis\\10242022\\STOP-1_CL_FreqSampling\\N3\\Ball\\H-10132022194256-0000.mp4\n",
      "Using snapshot-500000 for model C:\\DLC\\3D_8cam_vid\\3cam_BEH-BidayeLab-2022-09-16\\dlc-models\\iteration-0\\3cam_BEHSep16-trainset95shuffle1\n",
      "Switching to numpy-based keypoint extraction code, as multiple point extraction is not supported by TF code currently.\n",
      "Extracting  20 instances per bodypart\n"
     ]
    },
    {
     "name": "stderr",
     "output_type": "stream",
     "text": [
      "C:\\ProgramData\\Anaconda3\\envs\\deeplabcut\\lib\\site-packages\\tensorflow\\python\\keras\\engine\\base_layer_v1.py:1694: UserWarning: `layer.apply` is deprecated and will be removed in a future version. Please use `layer.__call__` method instead.\n",
      "  warnings.warn('`layer.apply` is deprecated and '\n",
      "C:\\ProgramData\\Anaconda3\\envs\\deeplabcut\\lib\\site-packages\\tf_slim\\layers\\layers.py:684: UserWarning: `layer.apply` is deprecated and will be removed in a future version. Please use `layer.__call__` method instead.\n",
      "  outputs = layer.apply(inputs, training=is_training)\n"
     ]
    },
    {
     "name": "stdout",
     "output_type": "stream",
     "text": [
      "Starting to analyze %  \\\\mpfi.org\\public\\sb-lab\\DLC-analyses\\new-video-analyses\\Files_For_Analysis\\10242022\\STOP-1_CL_FreqSampling\\N3\\Ball\\H-10132022194256-0000.mp4\n",
      "Loading  \\\\mpfi.org\\public\\sb-lab\\DLC-analyses\\new-video-analyses\\Files_For_Analysis\\10242022\\STOP-1_CL_FreqSampling\\N3\\Ball\\H-10132022194256-0000.mp4\n",
      "Duration of video [s]:  71.39 , recorded with  200.0 fps!\n",
      "Overall # of frames:  14277  found with (before cropping) frame dimensions:  1440 1080\n",
      "Starting to extract posture\n"
     ]
    },
    {
     "name": "stderr",
     "output_type": "stream",
     "text": [
      " 99%|███████████████████████████████████████████████████████████████████████████▌| 14200/14277 [16:24<00:05, 14.42it/s]\n"
     ]
    },
    {
     "name": "stdout",
     "output_type": "stream",
     "text": [
      "Saving results in \\\\mpfi.org\\public\\sb-lab\\DLC-analyses\\new-video-analyses\\Files_For_Analysis\\10242022\\STOP-1_CL_FreqSampling\\N3\\Ball...\n",
      "Saving csv poses!\n",
      "The videos are analyzed. Now your research can truly start! \n",
      " You can create labeled videos with 'create_labeled_video'\n",
      "If the tracking is not satisfactory for some videos, consider expanding the training set. You can use the function 'extract_outlier_frames' to extract a few representative outlier frames.\n",
      "Filtering with median model \\\\mpfi.org\\public\\sb-lab\\DLC-analyses\\new-video-analyses\\Files_For_Analysis\\10242022\\STOP-1_CL_FreqSampling\\N3\\Ball\\H-10132022194256-0000.mp4\n",
      "Saving filtered csv poses!\n",
      "idx: 0\n",
      "model_paths[idx]: C:\\DLC\\3D_8cam_vid\\camA_FS34_RN101-BidayeLab-2022-09-20\n",
      "single_folder[idx]: \\\\mpfi.org\\public\\sb-lab\\DLC-analyses\\new-video-analyses\\Files_For_Analysis\\10242022\\STOP-1_CL_FreqSampling\\N4\\Ball\\A-10182022171613-0000.mp4\n",
      "Using snapshot-500000 for model C:\\DLC\\3D_8cam_vid\\camA_FS34_RN101-BidayeLab-2022-09-20\\dlc-models\\iteration-1\\camA_FS34_RN101Sep20-trainset95shuffle1\n",
      "Switching to numpy-based keypoint extraction code, as multiple point extraction is not supported by TF code currently.\n",
      "Extracting  20 instances per bodypart\n"
     ]
    },
    {
     "name": "stderr",
     "output_type": "stream",
     "text": [
      "C:\\ProgramData\\Anaconda3\\envs\\deeplabcut\\lib\\site-packages\\tensorflow\\python\\keras\\engine\\base_layer_v1.py:1694: UserWarning: `layer.apply` is deprecated and will be removed in a future version. Please use `layer.__call__` method instead.\n",
      "  warnings.warn('`layer.apply` is deprecated and '\n",
      "C:\\ProgramData\\Anaconda3\\envs\\deeplabcut\\lib\\site-packages\\tf_slim\\layers\\layers.py:684: UserWarning: `layer.apply` is deprecated and will be removed in a future version. Please use `layer.__call__` method instead.\n",
      "  outputs = layer.apply(inputs, training=is_training)\n"
     ]
    },
    {
     "name": "stdout",
     "output_type": "stream",
     "text": [
      "Starting to analyze %  \\\\mpfi.org\\public\\sb-lab\\DLC-analyses\\new-video-analyses\\Files_For_Analysis\\10242022\\STOP-1_CL_FreqSampling\\N4\\Ball\\A-10182022171613-0000.mp4\n",
      "Loading  \\\\mpfi.org\\public\\sb-lab\\DLC-analyses\\new-video-analyses\\Files_For_Analysis\\10242022\\STOP-1_CL_FreqSampling\\N4\\Ball\\A-10182022171613-0000.mp4\n",
      "Duration of video [s]:  70.0 , recorded with  200.0 fps!\n",
      "Overall # of frames:  14000  found with (before cropping) frame dimensions:  1440 1080\n",
      "Starting to extract posture\n"
     ]
    },
    {
     "name": "stderr",
     "output_type": "stream",
     "text": [
      "100%|████████████████████████████████████████████████████████████████████████████| 14000/14000 [14:44<00:00, 15.83it/s]\n"
     ]
    },
    {
     "name": "stdout",
     "output_type": "stream",
     "text": [
      "Saving results in \\\\mpfi.org\\public\\sb-lab\\DLC-analyses\\new-video-analyses\\Files_For_Analysis\\10242022\\STOP-1_CL_FreqSampling\\N4\\Ball...\n",
      "Saving csv poses!\n",
      "The videos are analyzed. Now your research can truly start! \n",
      " You can create labeled videos with 'create_labeled_video'\n",
      "If the tracking is not satisfactory for some videos, consider expanding the training set. You can use the function 'extract_outlier_frames' to extract a few representative outlier frames.\n",
      "Filtering with median model \\\\mpfi.org\\public\\sb-lab\\DLC-analyses\\new-video-analyses\\Files_For_Analysis\\10242022\\STOP-1_CL_FreqSampling\\N4\\Ball\\A-10182022171613-0000.mp4\n",
      "Saving filtered csv poses!\n",
      "idx: 1\n",
      "model_paths[idx]: C:\\DLC\\3D_8cam_vid\\3cam_BEH-BidayeLab-2022-09-16\n",
      "single_folder[idx]: \\\\mpfi.org\\public\\sb-lab\\DLC-analyses\\new-video-analyses\\Files_For_Analysis\\10242022\\STOP-1_CL_FreqSampling\\N4\\Ball\\B-10182022171614-0000.mp4\n",
      "Using snapshot-500000 for model C:\\DLC\\3D_8cam_vid\\3cam_BEH-BidayeLab-2022-09-16\\dlc-models\\iteration-0\\3cam_BEHSep16-trainset95shuffle1\n",
      "Switching to numpy-based keypoint extraction code, as multiple point extraction is not supported by TF code currently.\n",
      "Extracting  20 instances per bodypart\n"
     ]
    },
    {
     "name": "stderr",
     "output_type": "stream",
     "text": [
      "C:\\ProgramData\\Anaconda3\\envs\\deeplabcut\\lib\\site-packages\\tensorflow\\python\\keras\\engine\\base_layer_v1.py:1694: UserWarning: `layer.apply` is deprecated and will be removed in a future version. Please use `layer.__call__` method instead.\n",
      "  warnings.warn('`layer.apply` is deprecated and '\n",
      "C:\\ProgramData\\Anaconda3\\envs\\deeplabcut\\lib\\site-packages\\tf_slim\\layers\\layers.py:684: UserWarning: `layer.apply` is deprecated and will be removed in a future version. Please use `layer.__call__` method instead.\n",
      "  outputs = layer.apply(inputs, training=is_training)\n"
     ]
    },
    {
     "name": "stdout",
     "output_type": "stream",
     "text": [
      "Starting to analyze %  \\\\mpfi.org\\public\\sb-lab\\DLC-analyses\\new-video-analyses\\Files_For_Analysis\\10242022\\STOP-1_CL_FreqSampling\\N4\\Ball\\B-10182022171614-0000.mp4\n",
      "Loading  \\\\mpfi.org\\public\\sb-lab\\DLC-analyses\\new-video-analyses\\Files_For_Analysis\\10242022\\STOP-1_CL_FreqSampling\\N4\\Ball\\B-10182022171614-0000.mp4\n",
      "Duration of video [s]:  70.0 , recorded with  200.0 fps!\n",
      "Overall # of frames:  14000  found with (before cropping) frame dimensions:  1440 1080\n",
      "Starting to extract posture\n"
     ]
    },
    {
     "name": "stderr",
     "output_type": "stream",
     "text": [
      "100%|████████████████████████████████████████████████████████████████████████████| 14000/14000 [16:15<00:00, 14.35it/s]\n"
     ]
    },
    {
     "name": "stdout",
     "output_type": "stream",
     "text": [
      "Saving results in \\\\mpfi.org\\public\\sb-lab\\DLC-analyses\\new-video-analyses\\Files_For_Analysis\\10242022\\STOP-1_CL_FreqSampling\\N4\\Ball...\n",
      "Saving csv poses!\n",
      "The videos are analyzed. Now your research can truly start! \n",
      " You can create labeled videos with 'create_labeled_video'\n",
      "If the tracking is not satisfactory for some videos, consider expanding the training set. You can use the function 'extract_outlier_frames' to extract a few representative outlier frames.\n",
      "Filtering with median model \\\\mpfi.org\\public\\sb-lab\\DLC-analyses\\new-video-analyses\\Files_For_Analysis\\10242022\\STOP-1_CL_FreqSampling\\N4\\Ball\\B-10182022171614-0000.mp4\n",
      "Saving filtered csv poses!\n",
      "idx: 2\n",
      "model_paths[idx]: C:\\DLC\\3D_8cam_vid\\camC_FS34_RN101-BidayeLab-2022-10-01\n",
      "single_folder[idx]: \\\\mpfi.org\\public\\sb-lab\\DLC-analyses\\new-video-analyses\\Files_For_Analysis\\10242022\\STOP-1_CL_FreqSampling\\N4\\Ball\\C-10182022171610-0000.mp4\n",
      "Using snapshot-500000 for model C:\\DLC\\3D_8cam_vid\\camC_FS34_RN101-BidayeLab-2022-10-01\\dlc-models\\iteration-0\\camC_FS34_RN101Oct1-trainset95shuffle1\n",
      "Switching to numpy-based keypoint extraction code, as multiple point extraction is not supported by TF code currently.\n",
      "Extracting  20 instances per bodypart\n"
     ]
    },
    {
     "name": "stderr",
     "output_type": "stream",
     "text": [
      "C:\\ProgramData\\Anaconda3\\envs\\deeplabcut\\lib\\site-packages\\tensorflow\\python\\keras\\engine\\base_layer_v1.py:1694: UserWarning: `layer.apply` is deprecated and will be removed in a future version. Please use `layer.__call__` method instead.\n",
      "  warnings.warn('`layer.apply` is deprecated and '\n",
      "C:\\ProgramData\\Anaconda3\\envs\\deeplabcut\\lib\\site-packages\\tf_slim\\layers\\layers.py:684: UserWarning: `layer.apply` is deprecated and will be removed in a future version. Please use `layer.__call__` method instead.\n",
      "  outputs = layer.apply(inputs, training=is_training)\n"
     ]
    },
    {
     "name": "stdout",
     "output_type": "stream",
     "text": [
      "Starting to analyze %  \\\\mpfi.org\\public\\sb-lab\\DLC-analyses\\new-video-analyses\\Files_For_Analysis\\10242022\\STOP-1_CL_FreqSampling\\N4\\Ball\\C-10182022171610-0000.mp4\n",
      "Loading  \\\\mpfi.org\\public\\sb-lab\\DLC-analyses\\new-video-analyses\\Files_For_Analysis\\10242022\\STOP-1_CL_FreqSampling\\N4\\Ball\\C-10182022171610-0000.mp4\n",
      "Duration of video [s]:  70.0 , recorded with  200.0 fps!\n",
      "Overall # of frames:  14000  found with (before cropping) frame dimensions:  1440 1080\n",
      "Starting to extract posture\n"
     ]
    },
    {
     "name": "stderr",
     "output_type": "stream",
     "text": [
      "100%|████████████████████████████████████████████████████████████████████████████| 14000/14000 [14:24<00:00, 16.19it/s]\n"
     ]
    },
    {
     "name": "stdout",
     "output_type": "stream",
     "text": [
      "Saving results in \\\\mpfi.org\\public\\sb-lab\\DLC-analyses\\new-video-analyses\\Files_For_Analysis\\10242022\\STOP-1_CL_FreqSampling\\N4\\Ball...\n",
      "Saving csv poses!\n",
      "The videos are analyzed. Now your research can truly start! \n",
      " You can create labeled videos with 'create_labeled_video'\n",
      "If the tracking is not satisfactory for some videos, consider expanding the training set. You can use the function 'extract_outlier_frames' to extract a few representative outlier frames.\n",
      "Filtering with median model \\\\mpfi.org\\public\\sb-lab\\DLC-analyses\\new-video-analyses\\Files_For_Analysis\\10242022\\STOP-1_CL_FreqSampling\\N4\\Ball\\C-10182022171610-0000.mp4\n",
      "Saving filtered csv poses!\n",
      "idx: 3\n",
      "model_paths[idx]: C:\\DLC\\3D_8cam_vid\\camD_FS34_RN101-BidayeLab-2022-09-20\n",
      "single_folder[idx]: \\\\mpfi.org\\public\\sb-lab\\DLC-analyses\\new-video-analyses\\Files_For_Analysis\\10242022\\STOP-1_CL_FreqSampling\\N4\\Ball\\D-10182022171612-0000.mp4\n",
      "Using snapshot-500000 for model C:\\DLC\\3D_8cam_vid\\camD_FS34_RN101-BidayeLab-2022-09-20\\dlc-models\\iteration-0\\camD_FS34_RN101Sep20-trainset95shuffle1\n",
      "Switching to numpy-based keypoint extraction code, as multiple point extraction is not supported by TF code currently.\n",
      "Extracting  20 instances per bodypart\n"
     ]
    },
    {
     "name": "stderr",
     "output_type": "stream",
     "text": [
      "C:\\ProgramData\\Anaconda3\\envs\\deeplabcut\\lib\\site-packages\\tensorflow\\python\\keras\\engine\\base_layer_v1.py:1694: UserWarning: `layer.apply` is deprecated and will be removed in a future version. Please use `layer.__call__` method instead.\n",
      "  warnings.warn('`layer.apply` is deprecated and '\n",
      "C:\\ProgramData\\Anaconda3\\envs\\deeplabcut\\lib\\site-packages\\tf_slim\\layers\\layers.py:684: UserWarning: `layer.apply` is deprecated and will be removed in a future version. Please use `layer.__call__` method instead.\n",
      "  outputs = layer.apply(inputs, training=is_training)\n"
     ]
    },
    {
     "name": "stdout",
     "output_type": "stream",
     "text": [
      "Starting to analyze %  \\\\mpfi.org\\public\\sb-lab\\DLC-analyses\\new-video-analyses\\Files_For_Analysis\\10242022\\STOP-1_CL_FreqSampling\\N4\\Ball\\D-10182022171612-0000.mp4\n",
      "Loading  \\\\mpfi.org\\public\\sb-lab\\DLC-analyses\\new-video-analyses\\Files_For_Analysis\\10242022\\STOP-1_CL_FreqSampling\\N4\\Ball\\D-10182022171612-0000.mp4\n",
      "Duration of video [s]:  70.0 , recorded with  200.0 fps!\n",
      "Overall # of frames:  14000  found with (before cropping) frame dimensions:  1440 1080\n",
      "Starting to extract posture\n"
     ]
    },
    {
     "name": "stderr",
     "output_type": "stream",
     "text": [
      "100%|████████████████████████████████████████████████████████████████████████████| 14000/14000 [14:37<00:00, 15.95it/s]\n"
     ]
    },
    {
     "name": "stdout",
     "output_type": "stream",
     "text": [
      "Saving results in \\\\mpfi.org\\public\\sb-lab\\DLC-analyses\\new-video-analyses\\Files_For_Analysis\\10242022\\STOP-1_CL_FreqSampling\\N4\\Ball...\n",
      "Saving csv poses!\n",
      "The videos are analyzed. Now your research can truly start! \n",
      " You can create labeled videos with 'create_labeled_video'\n",
      "If the tracking is not satisfactory for some videos, consider expanding the training set. You can use the function 'extract_outlier_frames' to extract a few representative outlier frames.\n",
      "Filtering with median model \\\\mpfi.org\\public\\sb-lab\\DLC-analyses\\new-video-analyses\\Files_For_Analysis\\10242022\\STOP-1_CL_FreqSampling\\N4\\Ball\\D-10182022171612-0000.mp4\n",
      "Saving filtered csv poses!\n",
      "idx: 4\n",
      "model_paths[idx]: C:\\DLC\\3D_8cam_vid\\3cam_BEH-BidayeLab-2022-09-16\n",
      "single_folder[idx]: \\\\mpfi.org\\public\\sb-lab\\DLC-analyses\\new-video-analyses\\Files_For_Analysis\\10242022\\STOP-1_CL_FreqSampling\\N4\\Ball\\E-10182022171615-0000.mp4\n",
      "Using snapshot-500000 for model C:\\DLC\\3D_8cam_vid\\3cam_BEH-BidayeLab-2022-09-16\\dlc-models\\iteration-0\\3cam_BEHSep16-trainset95shuffle1\n",
      "Switching to numpy-based keypoint extraction code, as multiple point extraction is not supported by TF code currently.\n",
      "Extracting  20 instances per bodypart\n"
     ]
    },
    {
     "name": "stderr",
     "output_type": "stream",
     "text": [
      "C:\\ProgramData\\Anaconda3\\envs\\deeplabcut\\lib\\site-packages\\tensorflow\\python\\keras\\engine\\base_layer_v1.py:1694: UserWarning: `layer.apply` is deprecated and will be removed in a future version. Please use `layer.__call__` method instead.\n",
      "  warnings.warn('`layer.apply` is deprecated and '\n",
      "C:\\ProgramData\\Anaconda3\\envs\\deeplabcut\\lib\\site-packages\\tf_slim\\layers\\layers.py:684: UserWarning: `layer.apply` is deprecated and will be removed in a future version. Please use `layer.__call__` method instead.\n",
      "  outputs = layer.apply(inputs, training=is_training)\n"
     ]
    },
    {
     "name": "stdout",
     "output_type": "stream",
     "text": [
      "Starting to analyze %  \\\\mpfi.org\\public\\sb-lab\\DLC-analyses\\new-video-analyses\\Files_For_Analysis\\10242022\\STOP-1_CL_FreqSampling\\N4\\Ball\\E-10182022171615-0000.mp4\n",
      "Loading  \\\\mpfi.org\\public\\sb-lab\\DLC-analyses\\new-video-analyses\\Files_For_Analysis\\10242022\\STOP-1_CL_FreqSampling\\N4\\Ball\\E-10182022171615-0000.mp4\n",
      "Duration of video [s]:  70.0 , recorded with  200.0 fps!\n",
      "Overall # of frames:  14000  found with (before cropping) frame dimensions:  1440 1080\n",
      "Starting to extract posture\n"
     ]
    },
    {
     "name": "stderr",
     "output_type": "stream",
     "text": [
      "100%|████████████████████████████████████████████████████████████████████████████| 14000/14000 [16:12<00:00, 14.40it/s]\n"
     ]
    },
    {
     "name": "stdout",
     "output_type": "stream",
     "text": [
      "Saving results in \\\\mpfi.org\\public\\sb-lab\\DLC-analyses\\new-video-analyses\\Files_For_Analysis\\10242022\\STOP-1_CL_FreqSampling\\N4\\Ball...\n",
      "Saving csv poses!\n",
      "The videos are analyzed. Now your research can truly start! \n",
      " You can create labeled videos with 'create_labeled_video'\n",
      "If the tracking is not satisfactory for some videos, consider expanding the training set. You can use the function 'extract_outlier_frames' to extract a few representative outlier frames.\n",
      "Filtering with median model \\\\mpfi.org\\public\\sb-lab\\DLC-analyses\\new-video-analyses\\Files_For_Analysis\\10242022\\STOP-1_CL_FreqSampling\\N4\\Ball\\E-10182022171615-0000.mp4\n",
      "Saving filtered csv poses!\n",
      "idx: 5\n",
      "model_paths[idx]: C:\\DLC\\3D_8cam_vid\\camF_FS34_RN101-BidayeLab-2022-10-01\n",
      "single_folder[idx]: \\\\mpfi.org\\public\\sb-lab\\DLC-analyses\\new-video-analyses\\Files_For_Analysis\\10242022\\STOP-1_CL_FreqSampling\\N4\\Ball\\F-10182022171609-0000.mp4\n",
      "Using snapshot-500000 for model C:\\DLC\\3D_8cam_vid\\camF_FS34_RN101-BidayeLab-2022-10-01\\dlc-models\\iteration-0\\camF_FS34_RN101Oct1-trainset95shuffle1\n",
      "Switching to numpy-based keypoint extraction code, as multiple point extraction is not supported by TF code currently.\n",
      "Extracting  20 instances per bodypart\n"
     ]
    },
    {
     "name": "stderr",
     "output_type": "stream",
     "text": [
      "C:\\ProgramData\\Anaconda3\\envs\\deeplabcut\\lib\\site-packages\\tensorflow\\python\\keras\\engine\\base_layer_v1.py:1694: UserWarning: `layer.apply` is deprecated and will be removed in a future version. Please use `layer.__call__` method instead.\n",
      "  warnings.warn('`layer.apply` is deprecated and '\n",
      "C:\\ProgramData\\Anaconda3\\envs\\deeplabcut\\lib\\site-packages\\tf_slim\\layers\\layers.py:684: UserWarning: `layer.apply` is deprecated and will be removed in a future version. Please use `layer.__call__` method instead.\n",
      "  outputs = layer.apply(inputs, training=is_training)\n"
     ]
    },
    {
     "name": "stdout",
     "output_type": "stream",
     "text": [
      "Starting to analyze %  \\\\mpfi.org\\public\\sb-lab\\DLC-analyses\\new-video-analyses\\Files_For_Analysis\\10242022\\STOP-1_CL_FreqSampling\\N4\\Ball\\F-10182022171609-0000.mp4\n",
      "Loading  \\\\mpfi.org\\public\\sb-lab\\DLC-analyses\\new-video-analyses\\Files_For_Analysis\\10242022\\STOP-1_CL_FreqSampling\\N4\\Ball\\F-10182022171609-0000.mp4\n",
      "Duration of video [s]:  70.0 , recorded with  200.0 fps!\n",
      "Overall # of frames:  14000  found with (before cropping) frame dimensions:  1440 1080\n",
      "Starting to extract posture\n"
     ]
    },
    {
     "name": "stderr",
     "output_type": "stream",
     "text": [
      "100%|████████████████████████████████████████████████████████████████████████████| 14000/14000 [14:51<00:00, 15.71it/s]\n"
     ]
    },
    {
     "name": "stdout",
     "output_type": "stream",
     "text": [
      "Saving results in \\\\mpfi.org\\public\\sb-lab\\DLC-analyses\\new-video-analyses\\Files_For_Analysis\\10242022\\STOP-1_CL_FreqSampling\\N4\\Ball...\n",
      "Saving csv poses!\n",
      "The videos are analyzed. Now your research can truly start! \n",
      " You can create labeled videos with 'create_labeled_video'\n",
      "If the tracking is not satisfactory for some videos, consider expanding the training set. You can use the function 'extract_outlier_frames' to extract a few representative outlier frames.\n",
      "Filtering with median model \\\\mpfi.org\\public\\sb-lab\\DLC-analyses\\new-video-analyses\\Files_For_Analysis\\10242022\\STOP-1_CL_FreqSampling\\N4\\Ball\\F-10182022171609-0000.mp4\n",
      "Saving filtered csv poses!\n",
      "idx: 6\n",
      "idx: 7\n",
      "model_paths[idx]: C:\\DLC\\3D_8cam_vid\\3cam_BEH-BidayeLab-2022-09-16\n",
      "single_folder[idx]: \\\\mpfi.org\\public\\sb-lab\\DLC-analyses\\new-video-analyses\\Files_For_Analysis\\10242022\\STOP-1_CL_FreqSampling\\N4\\Ball\\H-10182022171608-0000.mp4\n",
      "Using snapshot-500000 for model C:\\DLC\\3D_8cam_vid\\3cam_BEH-BidayeLab-2022-09-16\\dlc-models\\iteration-0\\3cam_BEHSep16-trainset95shuffle1\n",
      "Switching to numpy-based keypoint extraction code, as multiple point extraction is not supported by TF code currently.\n",
      "Extracting  20 instances per bodypart\n"
     ]
    },
    {
     "name": "stderr",
     "output_type": "stream",
     "text": [
      "C:\\ProgramData\\Anaconda3\\envs\\deeplabcut\\lib\\site-packages\\tensorflow\\python\\keras\\engine\\base_layer_v1.py:1694: UserWarning: `layer.apply` is deprecated and will be removed in a future version. Please use `layer.__call__` method instead.\n",
      "  warnings.warn('`layer.apply` is deprecated and '\n",
      "C:\\ProgramData\\Anaconda3\\envs\\deeplabcut\\lib\\site-packages\\tf_slim\\layers\\layers.py:684: UserWarning: `layer.apply` is deprecated and will be removed in a future version. Please use `layer.__call__` method instead.\n",
      "  outputs = layer.apply(inputs, training=is_training)\n"
     ]
    },
    {
     "name": "stdout",
     "output_type": "stream",
     "text": [
      "Starting to analyze %  \\\\mpfi.org\\public\\sb-lab\\DLC-analyses\\new-video-analyses\\Files_For_Analysis\\10242022\\STOP-1_CL_FreqSampling\\N4\\Ball\\H-10182022171608-0000.mp4\n",
      "Loading  \\\\mpfi.org\\public\\sb-lab\\DLC-analyses\\new-video-analyses\\Files_For_Analysis\\10242022\\STOP-1_CL_FreqSampling\\N4\\Ball\\H-10182022171608-0000.mp4\n",
      "Duration of video [s]:  70.0 , recorded with  200.0 fps!\n",
      "Overall # of frames:  14000  found with (before cropping) frame dimensions:  1440 1080\n",
      "Starting to extract posture\n"
     ]
    },
    {
     "name": "stderr",
     "output_type": "stream",
     "text": [
      "100%|████████████████████████████████████████████████████████████████████████████| 14000/14000 [16:19<00:00, 14.30it/s]\n"
     ]
    },
    {
     "name": "stdout",
     "output_type": "stream",
     "text": [
      "Saving results in \\\\mpfi.org\\public\\sb-lab\\DLC-analyses\\new-video-analyses\\Files_For_Analysis\\10242022\\STOP-1_CL_FreqSampling\\N4\\Ball...\n",
      "Saving csv poses!\n",
      "The videos are analyzed. Now your research can truly start! \n",
      " You can create labeled videos with 'create_labeled_video'\n",
      "If the tracking is not satisfactory for some videos, consider expanding the training set. You can use the function 'extract_outlier_frames' to extract a few representative outlier frames.\n",
      "Filtering with median model \\\\mpfi.org\\public\\sb-lab\\DLC-analyses\\new-video-analyses\\Files_For_Analysis\\10242022\\STOP-1_CL_FreqSampling\\N4\\Ball\\H-10182022171608-0000.mp4\n",
      "Saving filtered csv poses!\n",
      "idx: 0\n",
      "model_paths[idx]: C:\\DLC\\3D_8cam_vid\\camA_FS34_RN101-BidayeLab-2022-09-20\n",
      "single_folder[idx]: \\\\mpfi.org\\public\\sb-lab\\DLC-analyses\\new-video-analyses\\Files_For_Analysis\\10242022\\STOP-1_CL_FreqSampling\\N5\\Ball\\A-10182022174303-0000.mp4\n",
      "Using snapshot-500000 for model C:\\DLC\\3D_8cam_vid\\camA_FS34_RN101-BidayeLab-2022-09-20\\dlc-models\\iteration-1\\camA_FS34_RN101Sep20-trainset95shuffle1\n",
      "Switching to numpy-based keypoint extraction code, as multiple point extraction is not supported by TF code currently.\n",
      "Extracting  20 instances per bodypart\n"
     ]
    },
    {
     "name": "stderr",
     "output_type": "stream",
     "text": [
      "C:\\ProgramData\\Anaconda3\\envs\\deeplabcut\\lib\\site-packages\\tensorflow\\python\\keras\\engine\\base_layer_v1.py:1694: UserWarning: `layer.apply` is deprecated and will be removed in a future version. Please use `layer.__call__` method instead.\n",
      "  warnings.warn('`layer.apply` is deprecated and '\n",
      "C:\\ProgramData\\Anaconda3\\envs\\deeplabcut\\lib\\site-packages\\tf_slim\\layers\\layers.py:684: UserWarning: `layer.apply` is deprecated and will be removed in a future version. Please use `layer.__call__` method instead.\n",
      "  outputs = layer.apply(inputs, training=is_training)\n"
     ]
    },
    {
     "name": "stdout",
     "output_type": "stream",
     "text": [
      "Starting to analyze %  \\\\mpfi.org\\public\\sb-lab\\DLC-analyses\\new-video-analyses\\Files_For_Analysis\\10242022\\STOP-1_CL_FreqSampling\\N5\\Ball\\A-10182022174303-0000.mp4\n",
      "Loading  \\\\mpfi.org\\public\\sb-lab\\DLC-analyses\\new-video-analyses\\Files_For_Analysis\\10242022\\STOP-1_CL_FreqSampling\\N5\\Ball\\A-10182022174303-0000.mp4\n",
      "Duration of video [s]:  73.39 , recorded with  200.0 fps!\n",
      "Overall # of frames:  14678  found with (before cropping) frame dimensions:  1440 1080\n",
      "Starting to extract posture\n"
     ]
    },
    {
     "name": "stderr",
     "output_type": "stream",
     "text": [
      " 99%|███████████████████████████████████████████████████████████████████████████▌| 14600/14678 [15:13<00:04, 15.98it/s]\n"
     ]
    },
    {
     "name": "stdout",
     "output_type": "stream",
     "text": [
      "Saving results in \\\\mpfi.org\\public\\sb-lab\\DLC-analyses\\new-video-analyses\\Files_For_Analysis\\10242022\\STOP-1_CL_FreqSampling\\N5\\Ball...\n",
      "Saving csv poses!\n",
      "The videos are analyzed. Now your research can truly start! \n",
      " You can create labeled videos with 'create_labeled_video'\n",
      "If the tracking is not satisfactory for some videos, consider expanding the training set. You can use the function 'extract_outlier_frames' to extract a few representative outlier frames.\n",
      "Filtering with median model \\\\mpfi.org\\public\\sb-lab\\DLC-analyses\\new-video-analyses\\Files_For_Analysis\\10242022\\STOP-1_CL_FreqSampling\\N5\\Ball\\A-10182022174303-0000.mp4\n",
      "Saving filtered csv poses!\n",
      "idx: 1\n",
      "model_paths[idx]: C:\\DLC\\3D_8cam_vid\\3cam_BEH-BidayeLab-2022-09-16\n",
      "single_folder[idx]: \\\\mpfi.org\\public\\sb-lab\\DLC-analyses\\new-video-analyses\\Files_For_Analysis\\10242022\\STOP-1_CL_FreqSampling\\N5\\Ball\\B-10182022174307-0000.mp4\n",
      "Using snapshot-500000 for model C:\\DLC\\3D_8cam_vid\\3cam_BEH-BidayeLab-2022-09-16\\dlc-models\\iteration-0\\3cam_BEHSep16-trainset95shuffle1\n",
      "Switching to numpy-based keypoint extraction code, as multiple point extraction is not supported by TF code currently.\n",
      "Extracting  20 instances per bodypart\n"
     ]
    },
    {
     "name": "stderr",
     "output_type": "stream",
     "text": [
      "C:\\ProgramData\\Anaconda3\\envs\\deeplabcut\\lib\\site-packages\\tensorflow\\python\\keras\\engine\\base_layer_v1.py:1694: UserWarning: `layer.apply` is deprecated and will be removed in a future version. Please use `layer.__call__` method instead.\n",
      "  warnings.warn('`layer.apply` is deprecated and '\n",
      "C:\\ProgramData\\Anaconda3\\envs\\deeplabcut\\lib\\site-packages\\tf_slim\\layers\\layers.py:684: UserWarning: `layer.apply` is deprecated and will be removed in a future version. Please use `layer.__call__` method instead.\n",
      "  outputs = layer.apply(inputs, training=is_training)\n"
     ]
    },
    {
     "name": "stdout",
     "output_type": "stream",
     "text": [
      "Starting to analyze %  \\\\mpfi.org\\public\\sb-lab\\DLC-analyses\\new-video-analyses\\Files_For_Analysis\\10242022\\STOP-1_CL_FreqSampling\\N5\\Ball\\B-10182022174307-0000.mp4\n",
      "Loading  \\\\mpfi.org\\public\\sb-lab\\DLC-analyses\\new-video-analyses\\Files_For_Analysis\\10242022\\STOP-1_CL_FreqSampling\\N5\\Ball\\B-10182022174307-0000.mp4\n",
      "Duration of video [s]:  73.39 , recorded with  200.0 fps!\n",
      "Overall # of frames:  14678  found with (before cropping) frame dimensions:  1440 1080\n",
      "Starting to extract posture\n"
     ]
    },
    {
     "name": "stderr",
     "output_type": "stream",
     "text": [
      " 99%|███████████████████████████████████████████████████████████████████████████▌| 14600/14678 [17:06<00:05, 14.23it/s]\n"
     ]
    },
    {
     "name": "stdout",
     "output_type": "stream",
     "text": [
      "Saving results in \\\\mpfi.org\\public\\sb-lab\\DLC-analyses\\new-video-analyses\\Files_For_Analysis\\10242022\\STOP-1_CL_FreqSampling\\N5\\Ball...\n",
      "Saving csv poses!\n",
      "The videos are analyzed. Now your research can truly start! \n",
      " You can create labeled videos with 'create_labeled_video'\n",
      "If the tracking is not satisfactory for some videos, consider expanding the training set. You can use the function 'extract_outlier_frames' to extract a few representative outlier frames.\n",
      "Filtering with median model \\\\mpfi.org\\public\\sb-lab\\DLC-analyses\\new-video-analyses\\Files_For_Analysis\\10242022\\STOP-1_CL_FreqSampling\\N5\\Ball\\B-10182022174307-0000.mp4\n",
      "Saving filtered csv poses!\n",
      "idx: 2\n",
      "model_paths[idx]: C:\\DLC\\3D_8cam_vid\\camC_FS34_RN101-BidayeLab-2022-10-01\n",
      "single_folder[idx]: \\\\mpfi.org\\public\\sb-lab\\DLC-analyses\\new-video-analyses\\Files_For_Analysis\\10242022\\STOP-1_CL_FreqSampling\\N5\\Ball\\C-10182022174334-0000.mp4\n",
      "Using snapshot-500000 for model C:\\DLC\\3D_8cam_vid\\camC_FS34_RN101-BidayeLab-2022-10-01\\dlc-models\\iteration-0\\camC_FS34_RN101Oct1-trainset95shuffle1\n",
      "Switching to numpy-based keypoint extraction code, as multiple point extraction is not supported by TF code currently.\n",
      "Extracting  20 instances per bodypart\n"
     ]
    },
    {
     "name": "stderr",
     "output_type": "stream",
     "text": [
      "C:\\ProgramData\\Anaconda3\\envs\\deeplabcut\\lib\\site-packages\\tensorflow\\python\\keras\\engine\\base_layer_v1.py:1694: UserWarning: `layer.apply` is deprecated and will be removed in a future version. Please use `layer.__call__` method instead.\n",
      "  warnings.warn('`layer.apply` is deprecated and '\n",
      "C:\\ProgramData\\Anaconda3\\envs\\deeplabcut\\lib\\site-packages\\tf_slim\\layers\\layers.py:684: UserWarning: `layer.apply` is deprecated and will be removed in a future version. Please use `layer.__call__` method instead.\n",
      "  outputs = layer.apply(inputs, training=is_training)\n"
     ]
    },
    {
     "name": "stdout",
     "output_type": "stream",
     "text": [
      "Starting to analyze %  \\\\mpfi.org\\public\\sb-lab\\DLC-analyses\\new-video-analyses\\Files_For_Analysis\\10242022\\STOP-1_CL_FreqSampling\\N5\\Ball\\C-10182022174334-0000.mp4\n",
      "Loading  \\\\mpfi.org\\public\\sb-lab\\DLC-analyses\\new-video-analyses\\Files_For_Analysis\\10242022\\STOP-1_CL_FreqSampling\\N5\\Ball\\C-10182022174334-0000.mp4\n",
      "Duration of video [s]:  73.39 , recorded with  200.0 fps!\n",
      "Overall # of frames:  14678  found with (before cropping) frame dimensions:  1440 1080\n",
      "Starting to extract posture\n"
     ]
    },
    {
     "name": "stderr",
     "output_type": "stream",
     "text": [
      " 99%|███████████████████████████████████████████████████████████████████████████▌| 14600/14678 [15:03<00:04, 16.16it/s]\n"
     ]
    },
    {
     "name": "stdout",
     "output_type": "stream",
     "text": [
      "Saving results in \\\\mpfi.org\\public\\sb-lab\\DLC-analyses\\new-video-analyses\\Files_For_Analysis\\10242022\\STOP-1_CL_FreqSampling\\N5\\Ball...\n",
      "Saving csv poses!\n",
      "The videos are analyzed. Now your research can truly start! \n",
      " You can create labeled videos with 'create_labeled_video'\n",
      "If the tracking is not satisfactory for some videos, consider expanding the training set. You can use the function 'extract_outlier_frames' to extract a few representative outlier frames.\n",
      "Filtering with median model \\\\mpfi.org\\public\\sb-lab\\DLC-analyses\\new-video-analyses\\Files_For_Analysis\\10242022\\STOP-1_CL_FreqSampling\\N5\\Ball\\C-10182022174334-0000.mp4\n",
      "Saving filtered csv poses!\n",
      "idx: 3\n",
      "model_paths[idx]: C:\\DLC\\3D_8cam_vid\\camD_FS34_RN101-BidayeLab-2022-09-20\n",
      "single_folder[idx]: \\\\mpfi.org\\public\\sb-lab\\DLC-analyses\\new-video-analyses\\Files_For_Analysis\\10242022\\STOP-1_CL_FreqSampling\\N5\\Ball\\D-10182022174305-0000.mp4\n",
      "Using snapshot-500000 for model C:\\DLC\\3D_8cam_vid\\camD_FS34_RN101-BidayeLab-2022-09-20\\dlc-models\\iteration-0\\camD_FS34_RN101Sep20-trainset95shuffle1\n",
      "Switching to numpy-based keypoint extraction code, as multiple point extraction is not supported by TF code currently.\n",
      "Extracting  20 instances per bodypart\n"
     ]
    },
    {
     "name": "stderr",
     "output_type": "stream",
     "text": [
      "C:\\ProgramData\\Anaconda3\\envs\\deeplabcut\\lib\\site-packages\\tensorflow\\python\\keras\\engine\\base_layer_v1.py:1694: UserWarning: `layer.apply` is deprecated and will be removed in a future version. Please use `layer.__call__` method instead.\n",
      "  warnings.warn('`layer.apply` is deprecated and '\n",
      "C:\\ProgramData\\Anaconda3\\envs\\deeplabcut\\lib\\site-packages\\tf_slim\\layers\\layers.py:684: UserWarning: `layer.apply` is deprecated and will be removed in a future version. Please use `layer.__call__` method instead.\n",
      "  outputs = layer.apply(inputs, training=is_training)\n"
     ]
    },
    {
     "name": "stdout",
     "output_type": "stream",
     "text": [
      "Starting to analyze %  \\\\mpfi.org\\public\\sb-lab\\DLC-analyses\\new-video-analyses\\Files_For_Analysis\\10242022\\STOP-1_CL_FreqSampling\\N5\\Ball\\D-10182022174305-0000.mp4\n",
      "Loading  \\\\mpfi.org\\public\\sb-lab\\DLC-analyses\\new-video-analyses\\Files_For_Analysis\\10242022\\STOP-1_CL_FreqSampling\\N5\\Ball\\D-10182022174305-0000.mp4\n",
      "Duration of video [s]:  73.39 , recorded with  200.0 fps!\n",
      "Overall # of frames:  14678  found with (before cropping) frame dimensions:  1440 1080\n",
      "Starting to extract posture\n"
     ]
    },
    {
     "name": "stderr",
     "output_type": "stream",
     "text": [
      " 99%|███████████████████████████████████████████████████████████████████████████▌| 14600/14678 [15:26<00:04, 15.77it/s]\n"
     ]
    },
    {
     "name": "stdout",
     "output_type": "stream",
     "text": [
      "Saving results in \\\\mpfi.org\\public\\sb-lab\\DLC-analyses\\new-video-analyses\\Files_For_Analysis\\10242022\\STOP-1_CL_FreqSampling\\N5\\Ball...\n",
      "Saving csv poses!\n",
      "The videos are analyzed. Now your research can truly start! \n",
      " You can create labeled videos with 'create_labeled_video'\n",
      "If the tracking is not satisfactory for some videos, consider expanding the training set. You can use the function 'extract_outlier_frames' to extract a few representative outlier frames.\n",
      "Filtering with median model \\\\mpfi.org\\public\\sb-lab\\DLC-analyses\\new-video-analyses\\Files_For_Analysis\\10242022\\STOP-1_CL_FreqSampling\\N5\\Ball\\D-10182022174305-0000.mp4\n",
      "Saving filtered csv poses!\n",
      "idx: 4\n",
      "model_paths[idx]: C:\\DLC\\3D_8cam_vid\\3cam_BEH-BidayeLab-2022-09-16\n",
      "single_folder[idx]: \\\\mpfi.org\\public\\sb-lab\\DLC-analyses\\new-video-analyses\\Files_For_Analysis\\10242022\\STOP-1_CL_FreqSampling\\N5\\Ball\\E-10182022174308-0000.mp4\n",
      "Using snapshot-500000 for model C:\\DLC\\3D_8cam_vid\\3cam_BEH-BidayeLab-2022-09-16\\dlc-models\\iteration-0\\3cam_BEHSep16-trainset95shuffle1\n",
      "Switching to numpy-based keypoint extraction code, as multiple point extraction is not supported by TF code currently.\n",
      "Extracting  20 instances per bodypart\n"
     ]
    },
    {
     "name": "stderr",
     "output_type": "stream",
     "text": [
      "C:\\ProgramData\\Anaconda3\\envs\\deeplabcut\\lib\\site-packages\\tensorflow\\python\\keras\\engine\\base_layer_v1.py:1694: UserWarning: `layer.apply` is deprecated and will be removed in a future version. Please use `layer.__call__` method instead.\n",
      "  warnings.warn('`layer.apply` is deprecated and '\n",
      "C:\\ProgramData\\Anaconda3\\envs\\deeplabcut\\lib\\site-packages\\tf_slim\\layers\\layers.py:684: UserWarning: `layer.apply` is deprecated and will be removed in a future version. Please use `layer.__call__` method instead.\n",
      "  outputs = layer.apply(inputs, training=is_training)\n"
     ]
    },
    {
     "name": "stdout",
     "output_type": "stream",
     "text": [
      "Starting to analyze %  \\\\mpfi.org\\public\\sb-lab\\DLC-analyses\\new-video-analyses\\Files_For_Analysis\\10242022\\STOP-1_CL_FreqSampling\\N5\\Ball\\E-10182022174308-0000.mp4\n",
      "Loading  \\\\mpfi.org\\public\\sb-lab\\DLC-analyses\\new-video-analyses\\Files_For_Analysis\\10242022\\STOP-1_CL_FreqSampling\\N5\\Ball\\E-10182022174308-0000.mp4\n",
      "Duration of video [s]:  73.39 , recorded with  200.0 fps!\n",
      "Overall # of frames:  14678  found with (before cropping) frame dimensions:  1440 1080\n",
      "Starting to extract posture\n"
     ]
    },
    {
     "name": "stderr",
     "output_type": "stream",
     "text": [
      " 99%|███████████████████████████████████████████████████████████████████████████▌| 14600/14678 [16:53<00:05, 14.41it/s]\n"
     ]
    },
    {
     "name": "stdout",
     "output_type": "stream",
     "text": [
      "Saving results in \\\\mpfi.org\\public\\sb-lab\\DLC-analyses\\new-video-analyses\\Files_For_Analysis\\10242022\\STOP-1_CL_FreqSampling\\N5\\Ball...\n",
      "Saving csv poses!\n",
      "The videos are analyzed. Now your research can truly start! \n",
      " You can create labeled videos with 'create_labeled_video'\n",
      "If the tracking is not satisfactory for some videos, consider expanding the training set. You can use the function 'extract_outlier_frames' to extract a few representative outlier frames.\n",
      "Filtering with median model \\\\mpfi.org\\public\\sb-lab\\DLC-analyses\\new-video-analyses\\Files_For_Analysis\\10242022\\STOP-1_CL_FreqSampling\\N5\\Ball\\E-10182022174308-0000.mp4\n",
      "Saving filtered csv poses!\n",
      "idx: 5\n",
      "model_paths[idx]: C:\\DLC\\3D_8cam_vid\\camF_FS34_RN101-BidayeLab-2022-10-01\n",
      "single_folder[idx]: \\\\mpfi.org\\public\\sb-lab\\DLC-analyses\\new-video-analyses\\Files_For_Analysis\\10242022\\STOP-1_CL_FreqSampling\\N5\\Ball\\F-10182022174332-0000.mp4\n",
      "Using snapshot-500000 for model C:\\DLC\\3D_8cam_vid\\camF_FS34_RN101-BidayeLab-2022-10-01\\dlc-models\\iteration-0\\camF_FS34_RN101Oct1-trainset95shuffle1\n",
      "Switching to numpy-based keypoint extraction code, as multiple point extraction is not supported by TF code currently.\n",
      "Extracting  20 instances per bodypart\n"
     ]
    },
    {
     "name": "stderr",
     "output_type": "stream",
     "text": [
      "C:\\ProgramData\\Anaconda3\\envs\\deeplabcut\\lib\\site-packages\\tensorflow\\python\\keras\\engine\\base_layer_v1.py:1694: UserWarning: `layer.apply` is deprecated and will be removed in a future version. Please use `layer.__call__` method instead.\n",
      "  warnings.warn('`layer.apply` is deprecated and '\n",
      "C:\\ProgramData\\Anaconda3\\envs\\deeplabcut\\lib\\site-packages\\tf_slim\\layers\\layers.py:684: UserWarning: `layer.apply` is deprecated and will be removed in a future version. Please use `layer.__call__` method instead.\n",
      "  outputs = layer.apply(inputs, training=is_training)\n"
     ]
    },
    {
     "name": "stdout",
     "output_type": "stream",
     "text": [
      "Starting to analyze %  \\\\mpfi.org\\public\\sb-lab\\DLC-analyses\\new-video-analyses\\Files_For_Analysis\\10242022\\STOP-1_CL_FreqSampling\\N5\\Ball\\F-10182022174332-0000.mp4\n",
      "Loading  \\\\mpfi.org\\public\\sb-lab\\DLC-analyses\\new-video-analyses\\Files_For_Analysis\\10242022\\STOP-1_CL_FreqSampling\\N5\\Ball\\F-10182022174332-0000.mp4\n",
      "Duration of video [s]:  73.39 , recorded with  200.0 fps!\n",
      "Overall # of frames:  14678  found with (before cropping) frame dimensions:  1440 1080\n",
      "Starting to extract posture\n"
     ]
    },
    {
     "name": "stderr",
     "output_type": "stream",
     "text": [
      " 99%|███████████████████████████████████████████████████████████████████████████▌| 14600/14678 [15:16<00:04, 15.92it/s]\n"
     ]
    },
    {
     "name": "stdout",
     "output_type": "stream",
     "text": [
      "Saving results in \\\\mpfi.org\\public\\sb-lab\\DLC-analyses\\new-video-analyses\\Files_For_Analysis\\10242022\\STOP-1_CL_FreqSampling\\N5\\Ball...\n",
      "Saving csv poses!\n",
      "The videos are analyzed. Now your research can truly start! \n",
      " You can create labeled videos with 'create_labeled_video'\n",
      "If the tracking is not satisfactory for some videos, consider expanding the training set. You can use the function 'extract_outlier_frames' to extract a few representative outlier frames.\n",
      "Filtering with median model \\\\mpfi.org\\public\\sb-lab\\DLC-analyses\\new-video-analyses\\Files_For_Analysis\\10242022\\STOP-1_CL_FreqSampling\\N5\\Ball\\F-10182022174332-0000.mp4\n",
      "Saving filtered csv poses!\n",
      "idx: 6\n",
      "idx: 7\n",
      "model_paths[idx]: C:\\DLC\\3D_8cam_vid\\3cam_BEH-BidayeLab-2022-09-16\n",
      "single_folder[idx]: \\\\mpfi.org\\public\\sb-lab\\DLC-analyses\\new-video-analyses\\Files_For_Analysis\\10242022\\STOP-1_CL_FreqSampling\\N5\\Ball\\H-10182022174331-0000.mp4\n",
      "Using snapshot-500000 for model C:\\DLC\\3D_8cam_vid\\3cam_BEH-BidayeLab-2022-09-16\\dlc-models\\iteration-0\\3cam_BEHSep16-trainset95shuffle1\n",
      "Switching to numpy-based keypoint extraction code, as multiple point extraction is not supported by TF code currently.\n",
      "Extracting  20 instances per bodypart\n"
     ]
    },
    {
     "name": "stderr",
     "output_type": "stream",
     "text": [
      "C:\\ProgramData\\Anaconda3\\envs\\deeplabcut\\lib\\site-packages\\tensorflow\\python\\keras\\engine\\base_layer_v1.py:1694: UserWarning: `layer.apply` is deprecated and will be removed in a future version. Please use `layer.__call__` method instead.\n",
      "  warnings.warn('`layer.apply` is deprecated and '\n",
      "C:\\ProgramData\\Anaconda3\\envs\\deeplabcut\\lib\\site-packages\\tf_slim\\layers\\layers.py:684: UserWarning: `layer.apply` is deprecated and will be removed in a future version. Please use `layer.__call__` method instead.\n",
      "  outputs = layer.apply(inputs, training=is_training)\n"
     ]
    },
    {
     "name": "stdout",
     "output_type": "stream",
     "text": [
      "Starting to analyze %  \\\\mpfi.org\\public\\sb-lab\\DLC-analyses\\new-video-analyses\\Files_For_Analysis\\10242022\\STOP-1_CL_FreqSampling\\N5\\Ball\\H-10182022174331-0000.mp4\n",
      "Loading  \\\\mpfi.org\\public\\sb-lab\\DLC-analyses\\new-video-analyses\\Files_For_Analysis\\10242022\\STOP-1_CL_FreqSampling\\N5\\Ball\\H-10182022174331-0000.mp4\n",
      "Duration of video [s]:  73.39 , recorded with  200.0 fps!\n",
      "Overall # of frames:  14678  found with (before cropping) frame dimensions:  1440 1080\n",
      "Starting to extract posture\n"
     ]
    },
    {
     "name": "stderr",
     "output_type": "stream",
     "text": [
      " 99%|███████████████████████████████████████████████████████████████████████████▌| 14600/14678 [17:15<00:05, 14.10it/s]\n"
     ]
    },
    {
     "name": "stdout",
     "output_type": "stream",
     "text": [
      "Saving results in \\\\mpfi.org\\public\\sb-lab\\DLC-analyses\\new-video-analyses\\Files_For_Analysis\\10242022\\STOP-1_CL_FreqSampling\\N5\\Ball...\n",
      "Saving csv poses!\n",
      "The videos are analyzed. Now your research can truly start! \n",
      " You can create labeled videos with 'create_labeled_video'\n",
      "If the tracking is not satisfactory for some videos, consider expanding the training set. You can use the function 'extract_outlier_frames' to extract a few representative outlier frames.\n",
      "Filtering with median model \\\\mpfi.org\\public\\sb-lab\\DLC-analyses\\new-video-analyses\\Files_For_Analysis\\10242022\\STOP-1_CL_FreqSampling\\N5\\Ball\\H-10182022174331-0000.mp4\n",
      "Saving filtered csv poses!\n",
      "idx: 0\n",
      "model_paths[idx]: C:\\DLC\\3D_8cam_vid\\camA_FS34_RN101-BidayeLab-2022-09-20\n",
      "single_folder[idx]: \\\\mpfi.org\\public\\sb-lab\\DLC-analyses\\new-video-analyses\\Files_For_Analysis\\10242022\\STOP-1_CL_FreqSampling\\N6\\Ball\\A-10182022181635-0000.mp4\n",
      "Using snapshot-500000 for model C:\\DLC\\3D_8cam_vid\\camA_FS34_RN101-BidayeLab-2022-09-20\\dlc-models\\iteration-1\\camA_FS34_RN101Sep20-trainset95shuffle1\n",
      "Switching to numpy-based keypoint extraction code, as multiple point extraction is not supported by TF code currently.\n",
      "Extracting  20 instances per bodypart\n"
     ]
    },
    {
     "name": "stderr",
     "output_type": "stream",
     "text": [
      "C:\\ProgramData\\Anaconda3\\envs\\deeplabcut\\lib\\site-packages\\tensorflow\\python\\keras\\engine\\base_layer_v1.py:1694: UserWarning: `layer.apply` is deprecated and will be removed in a future version. Please use `layer.__call__` method instead.\n",
      "  warnings.warn('`layer.apply` is deprecated and '\n",
      "C:\\ProgramData\\Anaconda3\\envs\\deeplabcut\\lib\\site-packages\\tf_slim\\layers\\layers.py:684: UserWarning: `layer.apply` is deprecated and will be removed in a future version. Please use `layer.__call__` method instead.\n",
      "  outputs = layer.apply(inputs, training=is_training)\n"
     ]
    },
    {
     "name": "stdout",
     "output_type": "stream",
     "text": [
      "Starting to analyze %  \\\\mpfi.org\\public\\sb-lab\\DLC-analyses\\new-video-analyses\\Files_For_Analysis\\10242022\\STOP-1_CL_FreqSampling\\N6\\Ball\\A-10182022181635-0000.mp4\n",
      "Loading  \\\\mpfi.org\\public\\sb-lab\\DLC-analyses\\new-video-analyses\\Files_For_Analysis\\10242022\\STOP-1_CL_FreqSampling\\N6\\Ball\\A-10182022181635-0000.mp4\n",
      "Duration of video [s]:  70.23 , recorded with  200.0 fps!\n",
      "Overall # of frames:  14046  found with (before cropping) frame dimensions:  1440 1080\n",
      "Starting to extract posture\n"
     ]
    },
    {
     "name": "stderr",
     "output_type": "stream",
     "text": [
      "100%|███████████████████████████████████████████████████████████████████████████▊| 14000/14046 [14:41<00:02, 15.89it/s]\n"
     ]
    },
    {
     "name": "stdout",
     "output_type": "stream",
     "text": [
      "Saving results in \\\\mpfi.org\\public\\sb-lab\\DLC-analyses\\new-video-analyses\\Files_For_Analysis\\10242022\\STOP-1_CL_FreqSampling\\N6\\Ball...\n",
      "Saving csv poses!\n",
      "The videos are analyzed. Now your research can truly start! \n",
      " You can create labeled videos with 'create_labeled_video'\n",
      "If the tracking is not satisfactory for some videos, consider expanding the training set. You can use the function 'extract_outlier_frames' to extract a few representative outlier frames.\n",
      "Filtering with median model \\\\mpfi.org\\public\\sb-lab\\DLC-analyses\\new-video-analyses\\Files_For_Analysis\\10242022\\STOP-1_CL_FreqSampling\\N6\\Ball\\A-10182022181635-0000.mp4\n",
      "Saving filtered csv poses!\n",
      "idx: 1\n",
      "model_paths[idx]: C:\\DLC\\3D_8cam_vid\\3cam_BEH-BidayeLab-2022-09-16\n",
      "single_folder[idx]: \\\\mpfi.org\\public\\sb-lab\\DLC-analyses\\new-video-analyses\\Files_For_Analysis\\10242022\\STOP-1_CL_FreqSampling\\N6\\Ball\\B-10182022181638-0000.mp4\n",
      "Using snapshot-500000 for model C:\\DLC\\3D_8cam_vid\\3cam_BEH-BidayeLab-2022-09-16\\dlc-models\\iteration-0\\3cam_BEHSep16-trainset95shuffle1\n",
      "Switching to numpy-based keypoint extraction code, as multiple point extraction is not supported by TF code currently.\n",
      "Extracting  20 instances per bodypart\n"
     ]
    },
    {
     "name": "stderr",
     "output_type": "stream",
     "text": [
      "C:\\ProgramData\\Anaconda3\\envs\\deeplabcut\\lib\\site-packages\\tensorflow\\python\\keras\\engine\\base_layer_v1.py:1694: UserWarning: `layer.apply` is deprecated and will be removed in a future version. Please use `layer.__call__` method instead.\n",
      "  warnings.warn('`layer.apply` is deprecated and '\n",
      "C:\\ProgramData\\Anaconda3\\envs\\deeplabcut\\lib\\site-packages\\tf_slim\\layers\\layers.py:684: UserWarning: `layer.apply` is deprecated and will be removed in a future version. Please use `layer.__call__` method instead.\n",
      "  outputs = layer.apply(inputs, training=is_training)\n"
     ]
    },
    {
     "name": "stdout",
     "output_type": "stream",
     "text": [
      "Starting to analyze %  \\\\mpfi.org\\public\\sb-lab\\DLC-analyses\\new-video-analyses\\Files_For_Analysis\\10242022\\STOP-1_CL_FreqSampling\\N6\\Ball\\B-10182022181638-0000.mp4\n",
      "Loading  \\\\mpfi.org\\public\\sb-lab\\DLC-analyses\\new-video-analyses\\Files_For_Analysis\\10242022\\STOP-1_CL_FreqSampling\\N6\\Ball\\B-10182022181638-0000.mp4\n",
      "Duration of video [s]:  70.23 , recorded with  200.0 fps!\n",
      "Overall # of frames:  14046  found with (before cropping) frame dimensions:  1440 1080\n",
      "Starting to extract posture\n"
     ]
    },
    {
     "name": "stderr",
     "output_type": "stream",
     "text": [
      "100%|███████████████████████████████████████████████████████████████████████████▊| 14000/14046 [16:36<00:03, 14.04it/s]\n"
     ]
    },
    {
     "name": "stdout",
     "output_type": "stream",
     "text": [
      "Saving results in \\\\mpfi.org\\public\\sb-lab\\DLC-analyses\\new-video-analyses\\Files_For_Analysis\\10242022\\STOP-1_CL_FreqSampling\\N6\\Ball...\n",
      "Saving csv poses!\n",
      "The videos are analyzed. Now your research can truly start! \n",
      " You can create labeled videos with 'create_labeled_video'\n",
      "If the tracking is not satisfactory for some videos, consider expanding the training set. You can use the function 'extract_outlier_frames' to extract a few representative outlier frames.\n",
      "Filtering with median model \\\\mpfi.org\\public\\sb-lab\\DLC-analyses\\new-video-analyses\\Files_For_Analysis\\10242022\\STOP-1_CL_FreqSampling\\N6\\Ball\\B-10182022181638-0000.mp4\n",
      "Saving filtered csv poses!\n",
      "idx: 2\n",
      "model_paths[idx]: C:\\DLC\\3D_8cam_vid\\camC_FS34_RN101-BidayeLab-2022-10-01\n",
      "single_folder[idx]: \\\\mpfi.org\\public\\sb-lab\\DLC-analyses\\new-video-analyses\\Files_For_Analysis\\10242022\\STOP-1_CL_FreqSampling\\N6\\Ball\\C-10182022181641-0000.mp4\n",
      "Using snapshot-500000 for model C:\\DLC\\3D_8cam_vid\\camC_FS34_RN101-BidayeLab-2022-10-01\\dlc-models\\iteration-0\\camC_FS34_RN101Oct1-trainset95shuffle1\n",
      "Switching to numpy-based keypoint extraction code, as multiple point extraction is not supported by TF code currently.\n",
      "Extracting  20 instances per bodypart\n"
     ]
    },
    {
     "name": "stderr",
     "output_type": "stream",
     "text": [
      "C:\\ProgramData\\Anaconda3\\envs\\deeplabcut\\lib\\site-packages\\tensorflow\\python\\keras\\engine\\base_layer_v1.py:1694: UserWarning: `layer.apply` is deprecated and will be removed in a future version. Please use `layer.__call__` method instead.\n",
      "  warnings.warn('`layer.apply` is deprecated and '\n",
      "C:\\ProgramData\\Anaconda3\\envs\\deeplabcut\\lib\\site-packages\\tf_slim\\layers\\layers.py:684: UserWarning: `layer.apply` is deprecated and will be removed in a future version. Please use `layer.__call__` method instead.\n",
      "  outputs = layer.apply(inputs, training=is_training)\n"
     ]
    },
    {
     "name": "stdout",
     "output_type": "stream",
     "text": [
      "Starting to analyze %  \\\\mpfi.org\\public\\sb-lab\\DLC-analyses\\new-video-analyses\\Files_For_Analysis\\10242022\\STOP-1_CL_FreqSampling\\N6\\Ball\\C-10182022181641-0000.mp4\n",
      "Loading  \\\\mpfi.org\\public\\sb-lab\\DLC-analyses\\new-video-analyses\\Files_For_Analysis\\10242022\\STOP-1_CL_FreqSampling\\N6\\Ball\\C-10182022181641-0000.mp4\n",
      "Duration of video [s]:  70.23 , recorded with  200.0 fps!\n",
      "Overall # of frames:  14046  found with (before cropping) frame dimensions:  1440 1080\n",
      "Starting to extract posture\n"
     ]
    },
    {
     "name": "stderr",
     "output_type": "stream",
     "text": [
      "100%|███████████████████████████████████████████████████████████████████████████▊| 14000/14046 [14:34<00:02, 16.02it/s]\n"
     ]
    },
    {
     "name": "stdout",
     "output_type": "stream",
     "text": [
      "Saving results in \\\\mpfi.org\\public\\sb-lab\\DLC-analyses\\new-video-analyses\\Files_For_Analysis\\10242022\\STOP-1_CL_FreqSampling\\N6\\Ball...\n",
      "Saving csv poses!\n",
      "The videos are analyzed. Now your research can truly start! \n",
      " You can create labeled videos with 'create_labeled_video'\n",
      "If the tracking is not satisfactory for some videos, consider expanding the training set. You can use the function 'extract_outlier_frames' to extract a few representative outlier frames.\n",
      "Filtering with median model \\\\mpfi.org\\public\\sb-lab\\DLC-analyses\\new-video-analyses\\Files_For_Analysis\\10242022\\STOP-1_CL_FreqSampling\\N6\\Ball\\C-10182022181641-0000.mp4\n",
      "Saving filtered csv poses!\n",
      "idx: 3\n",
      "model_paths[idx]: C:\\DLC\\3D_8cam_vid\\camD_FS34_RN101-BidayeLab-2022-09-20\n",
      "single_folder[idx]: \\\\mpfi.org\\public\\sb-lab\\DLC-analyses\\new-video-analyses\\Files_For_Analysis\\10242022\\STOP-1_CL_FreqSampling\\N6\\Ball\\D-10182022181637-0000.mp4\n",
      "Using snapshot-500000 for model C:\\DLC\\3D_8cam_vid\\camD_FS34_RN101-BidayeLab-2022-09-20\\dlc-models\\iteration-0\\camD_FS34_RN101Sep20-trainset95shuffle1\n",
      "Switching to numpy-based keypoint extraction code, as multiple point extraction is not supported by TF code currently.\n",
      "Extracting  20 instances per bodypart\n"
     ]
    },
    {
     "name": "stderr",
     "output_type": "stream",
     "text": [
      "C:\\ProgramData\\Anaconda3\\envs\\deeplabcut\\lib\\site-packages\\tensorflow\\python\\keras\\engine\\base_layer_v1.py:1694: UserWarning: `layer.apply` is deprecated and will be removed in a future version. Please use `layer.__call__` method instead.\n",
      "  warnings.warn('`layer.apply` is deprecated and '\n",
      "C:\\ProgramData\\Anaconda3\\envs\\deeplabcut\\lib\\site-packages\\tf_slim\\layers\\layers.py:684: UserWarning: `layer.apply` is deprecated and will be removed in a future version. Please use `layer.__call__` method instead.\n",
      "  outputs = layer.apply(inputs, training=is_training)\n"
     ]
    },
    {
     "name": "stdout",
     "output_type": "stream",
     "text": [
      "Starting to analyze %  \\\\mpfi.org\\public\\sb-lab\\DLC-analyses\\new-video-analyses\\Files_For_Analysis\\10242022\\STOP-1_CL_FreqSampling\\N6\\Ball\\D-10182022181637-0000.mp4\n",
      "Loading  \\\\mpfi.org\\public\\sb-lab\\DLC-analyses\\new-video-analyses\\Files_For_Analysis\\10242022\\STOP-1_CL_FreqSampling\\N6\\Ball\\D-10182022181637-0000.mp4\n",
      "Duration of video [s]:  70.23 , recorded with  200.0 fps!\n",
      "Overall # of frames:  14046  found with (before cropping) frame dimensions:  1440 1080\n",
      "Starting to extract posture\n"
     ]
    },
    {
     "name": "stderr",
     "output_type": "stream",
     "text": [
      "100%|███████████████████████████████████████████████████████████████████████████▊| 14000/14046 [14:38<00:02, 15.94it/s]\n"
     ]
    },
    {
     "name": "stdout",
     "output_type": "stream",
     "text": [
      "Saving results in \\\\mpfi.org\\public\\sb-lab\\DLC-analyses\\new-video-analyses\\Files_For_Analysis\\10242022\\STOP-1_CL_FreqSampling\\N6\\Ball...\n",
      "Saving csv poses!\n",
      "The videos are analyzed. Now your research can truly start! \n",
      " You can create labeled videos with 'create_labeled_video'\n",
      "If the tracking is not satisfactory for some videos, consider expanding the training set. You can use the function 'extract_outlier_frames' to extract a few representative outlier frames.\n",
      "Filtering with median model \\\\mpfi.org\\public\\sb-lab\\DLC-analyses\\new-video-analyses\\Files_For_Analysis\\10242022\\STOP-1_CL_FreqSampling\\N6\\Ball\\D-10182022181637-0000.mp4\n",
      "Saving filtered csv poses!\n",
      "idx: 4\n",
      "model_paths[idx]: C:\\DLC\\3D_8cam_vid\\3cam_BEH-BidayeLab-2022-09-16\n",
      "single_folder[idx]: \\\\mpfi.org\\public\\sb-lab\\DLC-analyses\\new-video-analyses\\Files_For_Analysis\\10242022\\STOP-1_CL_FreqSampling\\N6\\Ball\\E-10182022181639-0000.mp4\n",
      "Using snapshot-500000 for model C:\\DLC\\3D_8cam_vid\\3cam_BEH-BidayeLab-2022-09-16\\dlc-models\\iteration-0\\3cam_BEHSep16-trainset95shuffle1\n",
      "Switching to numpy-based keypoint extraction code, as multiple point extraction is not supported by TF code currently.\n",
      "Extracting  20 instances per bodypart\n"
     ]
    },
    {
     "name": "stderr",
     "output_type": "stream",
     "text": [
      "C:\\ProgramData\\Anaconda3\\envs\\deeplabcut\\lib\\site-packages\\tensorflow\\python\\keras\\engine\\base_layer_v1.py:1694: UserWarning: `layer.apply` is deprecated and will be removed in a future version. Please use `layer.__call__` method instead.\n",
      "  warnings.warn('`layer.apply` is deprecated and '\n",
      "C:\\ProgramData\\Anaconda3\\envs\\deeplabcut\\lib\\site-packages\\tf_slim\\layers\\layers.py:684: UserWarning: `layer.apply` is deprecated and will be removed in a future version. Please use `layer.__call__` method instead.\n",
      "  outputs = layer.apply(inputs, training=is_training)\n"
     ]
    },
    {
     "name": "stdout",
     "output_type": "stream",
     "text": [
      "Starting to analyze %  \\\\mpfi.org\\public\\sb-lab\\DLC-analyses\\new-video-analyses\\Files_For_Analysis\\10242022\\STOP-1_CL_FreqSampling\\N6\\Ball\\E-10182022181639-0000.mp4\n",
      "Loading  \\\\mpfi.org\\public\\sb-lab\\DLC-analyses\\new-video-analyses\\Files_For_Analysis\\10242022\\STOP-1_CL_FreqSampling\\N6\\Ball\\E-10182022181639-0000.mp4\n",
      "Duration of video [s]:  70.23 , recorded with  200.0 fps!\n",
      "Overall # of frames:  14046  found with (before cropping) frame dimensions:  1440 1080\n",
      "Starting to extract posture\n"
     ]
    },
    {
     "name": "stderr",
     "output_type": "stream",
     "text": [
      "100%|███████████████████████████████████████████████████████████████████████████▊| 14000/14046 [16:31<00:03, 14.12it/s]\n"
     ]
    },
    {
     "name": "stdout",
     "output_type": "stream",
     "text": [
      "Saving results in \\\\mpfi.org\\public\\sb-lab\\DLC-analyses\\new-video-analyses\\Files_For_Analysis\\10242022\\STOP-1_CL_FreqSampling\\N6\\Ball...\n",
      "Saving csv poses!\n",
      "The videos are analyzed. Now your research can truly start! \n",
      " You can create labeled videos with 'create_labeled_video'\n",
      "If the tracking is not satisfactory for some videos, consider expanding the training set. You can use the function 'extract_outlier_frames' to extract a few representative outlier frames.\n",
      "Filtering with median model \\\\mpfi.org\\public\\sb-lab\\DLC-analyses\\new-video-analyses\\Files_For_Analysis\\10242022\\STOP-1_CL_FreqSampling\\N6\\Ball\\E-10182022181639-0000.mp4\n",
      "Saving filtered csv poses!\n",
      "idx: 5\n",
      "model_paths[idx]: C:\\DLC\\3D_8cam_vid\\camF_FS34_RN101-BidayeLab-2022-10-01\n",
      "single_folder[idx]: \\\\mpfi.org\\public\\sb-lab\\DLC-analyses\\new-video-analyses\\Files_For_Analysis\\10242022\\STOP-1_CL_FreqSampling\\N6\\Ball\\F-10182022181642-0000.mp4\n",
      "Using snapshot-500000 for model C:\\DLC\\3D_8cam_vid\\camF_FS34_RN101-BidayeLab-2022-10-01\\dlc-models\\iteration-0\\camF_FS34_RN101Oct1-trainset95shuffle1\n",
      "Switching to numpy-based keypoint extraction code, as multiple point extraction is not supported by TF code currently.\n",
      "Extracting  20 instances per bodypart\n"
     ]
    },
    {
     "name": "stderr",
     "output_type": "stream",
     "text": [
      "C:\\ProgramData\\Anaconda3\\envs\\deeplabcut\\lib\\site-packages\\tensorflow\\python\\keras\\engine\\base_layer_v1.py:1694: UserWarning: `layer.apply` is deprecated and will be removed in a future version. Please use `layer.__call__` method instead.\n",
      "  warnings.warn('`layer.apply` is deprecated and '\n",
      "C:\\ProgramData\\Anaconda3\\envs\\deeplabcut\\lib\\site-packages\\tf_slim\\layers\\layers.py:684: UserWarning: `layer.apply` is deprecated and will be removed in a future version. Please use `layer.__call__` method instead.\n",
      "  outputs = layer.apply(inputs, training=is_training)\n"
     ]
    },
    {
     "name": "stdout",
     "output_type": "stream",
     "text": [
      "Starting to analyze %  \\\\mpfi.org\\public\\sb-lab\\DLC-analyses\\new-video-analyses\\Files_For_Analysis\\10242022\\STOP-1_CL_FreqSampling\\N6\\Ball\\F-10182022181642-0000.mp4\n",
      "Loading  \\\\mpfi.org\\public\\sb-lab\\DLC-analyses\\new-video-analyses\\Files_For_Analysis\\10242022\\STOP-1_CL_FreqSampling\\N6\\Ball\\F-10182022181642-0000.mp4\n",
      "Duration of video [s]:  70.23 , recorded with  200.0 fps!\n",
      "Overall # of frames:  14046  found with (before cropping) frame dimensions:  1440 1080\n",
      "Starting to extract posture\n"
     ]
    },
    {
     "name": "stderr",
     "output_type": "stream",
     "text": [
      "100%|███████████████████████████████████████████████████████████████████████████▊| 14000/14046 [14:56<00:02, 15.62it/s]\n"
     ]
    },
    {
     "name": "stdout",
     "output_type": "stream",
     "text": [
      "Saving results in \\\\mpfi.org\\public\\sb-lab\\DLC-analyses\\new-video-analyses\\Files_For_Analysis\\10242022\\STOP-1_CL_FreqSampling\\N6\\Ball...\n",
      "Saving csv poses!\n",
      "The videos are analyzed. Now your research can truly start! \n",
      " You can create labeled videos with 'create_labeled_video'\n",
      "If the tracking is not satisfactory for some videos, consider expanding the training set. You can use the function 'extract_outlier_frames' to extract a few representative outlier frames.\n",
      "Filtering with median model \\\\mpfi.org\\public\\sb-lab\\DLC-analyses\\new-video-analyses\\Files_For_Analysis\\10242022\\STOP-1_CL_FreqSampling\\N6\\Ball\\F-10182022181642-0000.mp4\n",
      "Saving filtered csv poses!\n",
      "idx: 6\n",
      "idx: 7\n",
      "model_paths[idx]: C:\\DLC\\3D_8cam_vid\\3cam_BEH-BidayeLab-2022-09-16\n",
      "single_folder[idx]: \\\\mpfi.org\\public\\sb-lab\\DLC-analyses\\new-video-analyses\\Files_For_Analysis\\10242022\\STOP-1_CL_FreqSampling\\N6\\Ball\\H-10182022181644-0000.mp4\n",
      "Using snapshot-500000 for model C:\\DLC\\3D_8cam_vid\\3cam_BEH-BidayeLab-2022-09-16\\dlc-models\\iteration-0\\3cam_BEHSep16-trainset95shuffle1\n",
      "Switching to numpy-based keypoint extraction code, as multiple point extraction is not supported by TF code currently.\n",
      "Extracting  20 instances per bodypart\n"
     ]
    },
    {
     "name": "stderr",
     "output_type": "stream",
     "text": [
      "C:\\ProgramData\\Anaconda3\\envs\\deeplabcut\\lib\\site-packages\\tensorflow\\python\\keras\\engine\\base_layer_v1.py:1694: UserWarning: `layer.apply` is deprecated and will be removed in a future version. Please use `layer.__call__` method instead.\n",
      "  warnings.warn('`layer.apply` is deprecated and '\n",
      "C:\\ProgramData\\Anaconda3\\envs\\deeplabcut\\lib\\site-packages\\tf_slim\\layers\\layers.py:684: UserWarning: `layer.apply` is deprecated and will be removed in a future version. Please use `layer.__call__` method instead.\n",
      "  outputs = layer.apply(inputs, training=is_training)\n"
     ]
    },
    {
     "name": "stdout",
     "output_type": "stream",
     "text": [
      "Starting to analyze %  \\\\mpfi.org\\public\\sb-lab\\DLC-analyses\\new-video-analyses\\Files_For_Analysis\\10242022\\STOP-1_CL_FreqSampling\\N6\\Ball\\H-10182022181644-0000.mp4\n",
      "Loading  \\\\mpfi.org\\public\\sb-lab\\DLC-analyses\\new-video-analyses\\Files_For_Analysis\\10242022\\STOP-1_CL_FreqSampling\\N6\\Ball\\H-10182022181644-0000.mp4\n",
      "Duration of video [s]:  70.23 , recorded with  200.0 fps!\n",
      "Overall # of frames:  14046  found with (before cropping) frame dimensions:  1440 1080\n",
      "Starting to extract posture\n"
     ]
    },
    {
     "name": "stderr",
     "output_type": "stream",
     "text": [
      "100%|███████████████████████████████████████████████████████████████████████████▊| 14000/14046 [16:11<00:03, 14.41it/s]\n"
     ]
    },
    {
     "name": "stdout",
     "output_type": "stream",
     "text": [
      "Saving results in \\\\mpfi.org\\public\\sb-lab\\DLC-analyses\\new-video-analyses\\Files_For_Analysis\\10242022\\STOP-1_CL_FreqSampling\\N6\\Ball...\n",
      "Saving csv poses!\n",
      "The videos are analyzed. Now your research can truly start! \n",
      " You can create labeled videos with 'create_labeled_video'\n",
      "If the tracking is not satisfactory for some videos, consider expanding the training set. You can use the function 'extract_outlier_frames' to extract a few representative outlier frames.\n",
      "Filtering with median model \\\\mpfi.org\\public\\sb-lab\\DLC-analyses\\new-video-analyses\\Files_For_Analysis\\10242022\\STOP-1_CL_FreqSampling\\N6\\Ball\\H-10182022181644-0000.mp4\n",
      "Saving filtered csv poses!\n",
      "idx: 0\n",
      "model_paths[idx]: C:\\DLC\\3D_8cam_vid\\camA_FS34_RN101-BidayeLab-2022-09-20\n",
      "single_folder[idx]: \\\\mpfi.org\\public\\sb-lab\\DLC-analyses\\new-video-analyses\\Files_For_Analysis\\10242022\\STOP-1_CL_FreqSampling\\N7\\Ball\\A-10182022184151-0000.mp4\n",
      "Using snapshot-500000 for model C:\\DLC\\3D_8cam_vid\\camA_FS34_RN101-BidayeLab-2022-09-20\\dlc-models\\iteration-1\\camA_FS34_RN101Sep20-trainset95shuffle1\n",
      "Switching to numpy-based keypoint extraction code, as multiple point extraction is not supported by TF code currently.\n",
      "Extracting  20 instances per bodypart\n"
     ]
    },
    {
     "name": "stderr",
     "output_type": "stream",
     "text": [
      "C:\\ProgramData\\Anaconda3\\envs\\deeplabcut\\lib\\site-packages\\tensorflow\\python\\keras\\engine\\base_layer_v1.py:1694: UserWarning: `layer.apply` is deprecated and will be removed in a future version. Please use `layer.__call__` method instead.\n",
      "  warnings.warn('`layer.apply` is deprecated and '\n",
      "C:\\ProgramData\\Anaconda3\\envs\\deeplabcut\\lib\\site-packages\\tf_slim\\layers\\layers.py:684: UserWarning: `layer.apply` is deprecated and will be removed in a future version. Please use `layer.__call__` method instead.\n",
      "  outputs = layer.apply(inputs, training=is_training)\n"
     ]
    },
    {
     "name": "stdout",
     "output_type": "stream",
     "text": [
      "Starting to analyze %  \\\\mpfi.org\\public\\sb-lab\\DLC-analyses\\new-video-analyses\\Files_For_Analysis\\10242022\\STOP-1_CL_FreqSampling\\N7\\Ball\\A-10182022184151-0000.mp4\n",
      "Loading  \\\\mpfi.org\\public\\sb-lab\\DLC-analyses\\new-video-analyses\\Files_For_Analysis\\10242022\\STOP-1_CL_FreqSampling\\N7\\Ball\\A-10182022184151-0000.mp4\n",
      "Duration of video [s]:  70.0 , recorded with  200.0 fps!\n",
      "Overall # of frames:  14000  found with (before cropping) frame dimensions:  1440 1080\n",
      "Starting to extract posture\n"
     ]
    },
    {
     "name": "stderr",
     "output_type": "stream",
     "text": [
      "100%|████████████████████████████████████████████████████████████████████████████| 14000/14000 [14:35<00:00, 15.99it/s]\n"
     ]
    },
    {
     "name": "stdout",
     "output_type": "stream",
     "text": [
      "Saving results in \\\\mpfi.org\\public\\sb-lab\\DLC-analyses\\new-video-analyses\\Files_For_Analysis\\10242022\\STOP-1_CL_FreqSampling\\N7\\Ball...\n",
      "Saving csv poses!\n",
      "The videos are analyzed. Now your research can truly start! \n",
      " You can create labeled videos with 'create_labeled_video'\n",
      "If the tracking is not satisfactory for some videos, consider expanding the training set. You can use the function 'extract_outlier_frames' to extract a few representative outlier frames.\n",
      "Filtering with median model \\\\mpfi.org\\public\\sb-lab\\DLC-analyses\\new-video-analyses\\Files_For_Analysis\\10242022\\STOP-1_CL_FreqSampling\\N7\\Ball\\A-10182022184151-0000.mp4\n",
      "Saving filtered csv poses!\n",
      "idx: 1\n",
      "model_paths[idx]: C:\\DLC\\3D_8cam_vid\\3cam_BEH-BidayeLab-2022-09-16\n",
      "single_folder[idx]: \\\\mpfi.org\\public\\sb-lab\\DLC-analyses\\new-video-analyses\\Files_For_Analysis\\10242022\\STOP-1_CL_FreqSampling\\N7\\Ball\\B-10182022184149-0000.mp4\n",
      "Using snapshot-500000 for model C:\\DLC\\3D_8cam_vid\\3cam_BEH-BidayeLab-2022-09-16\\dlc-models\\iteration-0\\3cam_BEHSep16-trainset95shuffle1\n",
      "Switching to numpy-based keypoint extraction code, as multiple point extraction is not supported by TF code currently.\n",
      "Extracting  20 instances per bodypart\n"
     ]
    },
    {
     "name": "stderr",
     "output_type": "stream",
     "text": [
      "C:\\ProgramData\\Anaconda3\\envs\\deeplabcut\\lib\\site-packages\\tensorflow\\python\\keras\\engine\\base_layer_v1.py:1694: UserWarning: `layer.apply` is deprecated and will be removed in a future version. Please use `layer.__call__` method instead.\n",
      "  warnings.warn('`layer.apply` is deprecated and '\n",
      "C:\\ProgramData\\Anaconda3\\envs\\deeplabcut\\lib\\site-packages\\tf_slim\\layers\\layers.py:684: UserWarning: `layer.apply` is deprecated and will be removed in a future version. Please use `layer.__call__` method instead.\n",
      "  outputs = layer.apply(inputs, training=is_training)\n"
     ]
    },
    {
     "name": "stdout",
     "output_type": "stream",
     "text": [
      "Starting to analyze %  \\\\mpfi.org\\public\\sb-lab\\DLC-analyses\\new-video-analyses\\Files_For_Analysis\\10242022\\STOP-1_CL_FreqSampling\\N7\\Ball\\B-10182022184149-0000.mp4\n",
      "Loading  \\\\mpfi.org\\public\\sb-lab\\DLC-analyses\\new-video-analyses\\Files_For_Analysis\\10242022\\STOP-1_CL_FreqSampling\\N7\\Ball\\B-10182022184149-0000.mp4\n",
      "Duration of video [s]:  70.0 , recorded with  200.0 fps!\n",
      "Overall # of frames:  14000  found with (before cropping) frame dimensions:  1440 1080\n",
      "Starting to extract posture\n"
     ]
    },
    {
     "name": "stderr",
     "output_type": "stream",
     "text": [
      "100%|████████████████████████████████████████████████████████████████████████████| 14000/14000 [16:30<00:00, 14.14it/s]\n"
     ]
    },
    {
     "name": "stdout",
     "output_type": "stream",
     "text": [
      "Saving results in \\\\mpfi.org\\public\\sb-lab\\DLC-analyses\\new-video-analyses\\Files_For_Analysis\\10242022\\STOP-1_CL_FreqSampling\\N7\\Ball...\n",
      "Saving csv poses!\n",
      "The videos are analyzed. Now your research can truly start! \n",
      " You can create labeled videos with 'create_labeled_video'\n",
      "If the tracking is not satisfactory for some videos, consider expanding the training set. You can use the function 'extract_outlier_frames' to extract a few representative outlier frames.\n",
      "Filtering with median model \\\\mpfi.org\\public\\sb-lab\\DLC-analyses\\new-video-analyses\\Files_For_Analysis\\10242022\\STOP-1_CL_FreqSampling\\N7\\Ball\\B-10182022184149-0000.mp4\n",
      "Saving filtered csv poses!\n",
      "idx: 2\n",
      "model_paths[idx]: C:\\DLC\\3D_8cam_vid\\camC_FS34_RN101-BidayeLab-2022-10-01\n",
      "single_folder[idx]: \\\\mpfi.org\\public\\sb-lab\\DLC-analyses\\new-video-analyses\\Files_For_Analysis\\10242022\\STOP-1_CL_FreqSampling\\N7\\Ball\\C-10182022184024-0000.mp4\n",
      "Using snapshot-500000 for model C:\\DLC\\3D_8cam_vid\\camC_FS34_RN101-BidayeLab-2022-10-01\\dlc-models\\iteration-0\\camC_FS34_RN101Oct1-trainset95shuffle1\n",
      "Switching to numpy-based keypoint extraction code, as multiple point extraction is not supported by TF code currently.\n",
      "Extracting  20 instances per bodypart\n"
     ]
    },
    {
     "name": "stderr",
     "output_type": "stream",
     "text": [
      "C:\\ProgramData\\Anaconda3\\envs\\deeplabcut\\lib\\site-packages\\tensorflow\\python\\keras\\engine\\base_layer_v1.py:1694: UserWarning: `layer.apply` is deprecated and will be removed in a future version. Please use `layer.__call__` method instead.\n",
      "  warnings.warn('`layer.apply` is deprecated and '\n",
      "C:\\ProgramData\\Anaconda3\\envs\\deeplabcut\\lib\\site-packages\\tf_slim\\layers\\layers.py:684: UserWarning: `layer.apply` is deprecated and will be removed in a future version. Please use `layer.__call__` method instead.\n",
      "  outputs = layer.apply(inputs, training=is_training)\n"
     ]
    },
    {
     "name": "stdout",
     "output_type": "stream",
     "text": [
      "Starting to analyze %  \\\\mpfi.org\\public\\sb-lab\\DLC-analyses\\new-video-analyses\\Files_For_Analysis\\10242022\\STOP-1_CL_FreqSampling\\N7\\Ball\\C-10182022184024-0000.mp4\n",
      "Loading  \\\\mpfi.org\\public\\sb-lab\\DLC-analyses\\new-video-analyses\\Files_For_Analysis\\10242022\\STOP-1_CL_FreqSampling\\N7\\Ball\\C-10182022184024-0000.mp4\n",
      "Duration of video [s]:  70.0 , recorded with  200.0 fps!\n",
      "Overall # of frames:  14000  found with (before cropping) frame dimensions:  1440 1080\n",
      "Starting to extract posture\n"
     ]
    },
    {
     "name": "stderr",
     "output_type": "stream",
     "text": [
      "100%|████████████████████████████████████████████████████████████████████████████| 14000/14000 [14:22<00:00, 16.23it/s]\n"
     ]
    },
    {
     "name": "stdout",
     "output_type": "stream",
     "text": [
      "Saving results in \\\\mpfi.org\\public\\sb-lab\\DLC-analyses\\new-video-analyses\\Files_For_Analysis\\10242022\\STOP-1_CL_FreqSampling\\N7\\Ball...\n",
      "Saving csv poses!\n",
      "The videos are analyzed. Now your research can truly start! \n",
      " You can create labeled videos with 'create_labeled_video'\n",
      "If the tracking is not satisfactory for some videos, consider expanding the training set. You can use the function 'extract_outlier_frames' to extract a few representative outlier frames.\n",
      "Filtering with median model \\\\mpfi.org\\public\\sb-lab\\DLC-analyses\\new-video-analyses\\Files_For_Analysis\\10242022\\STOP-1_CL_FreqSampling\\N7\\Ball\\C-10182022184024-0000.mp4\n",
      "Saving filtered csv poses!\n",
      "idx: 3\n",
      "model_paths[idx]: C:\\DLC\\3D_8cam_vid\\camD_FS34_RN101-BidayeLab-2022-09-20\n",
      "single_folder[idx]: \\\\mpfi.org\\public\\sb-lab\\DLC-analyses\\new-video-analyses\\Files_For_Analysis\\10242022\\STOP-1_CL_FreqSampling\\N7\\Ball\\D-10182022184154-0000.mp4\n",
      "Using snapshot-500000 for model C:\\DLC\\3D_8cam_vid\\camD_FS34_RN101-BidayeLab-2022-09-20\\dlc-models\\iteration-0\\camD_FS34_RN101Sep20-trainset95shuffle1\n",
      "Switching to numpy-based keypoint extraction code, as multiple point extraction is not supported by TF code currently.\n",
      "Extracting  20 instances per bodypart\n"
     ]
    },
    {
     "name": "stderr",
     "output_type": "stream",
     "text": [
      "C:\\ProgramData\\Anaconda3\\envs\\deeplabcut\\lib\\site-packages\\tensorflow\\python\\keras\\engine\\base_layer_v1.py:1694: UserWarning: `layer.apply` is deprecated and will be removed in a future version. Please use `layer.__call__` method instead.\n",
      "  warnings.warn('`layer.apply` is deprecated and '\n",
      "C:\\ProgramData\\Anaconda3\\envs\\deeplabcut\\lib\\site-packages\\tf_slim\\layers\\layers.py:684: UserWarning: `layer.apply` is deprecated and will be removed in a future version. Please use `layer.__call__` method instead.\n",
      "  outputs = layer.apply(inputs, training=is_training)\n"
     ]
    },
    {
     "name": "stdout",
     "output_type": "stream",
     "text": [
      "Starting to analyze %  \\\\mpfi.org\\public\\sb-lab\\DLC-analyses\\new-video-analyses\\Files_For_Analysis\\10242022\\STOP-1_CL_FreqSampling\\N7\\Ball\\D-10182022184154-0000.mp4\n",
      "Loading  \\\\mpfi.org\\public\\sb-lab\\DLC-analyses\\new-video-analyses\\Files_For_Analysis\\10242022\\STOP-1_CL_FreqSampling\\N7\\Ball\\D-10182022184154-0000.mp4\n",
      "Duration of video [s]:  70.0 , recorded with  200.0 fps!\n",
      "Overall # of frames:  14000  found with (before cropping) frame dimensions:  1440 1080\n",
      "Starting to extract posture\n"
     ]
    },
    {
     "name": "stderr",
     "output_type": "stream",
     "text": [
      "100%|████████████████████████████████████████████████████████████████████████████| 14000/14000 [14:37<00:00, 15.95it/s]\n"
     ]
    },
    {
     "name": "stdout",
     "output_type": "stream",
     "text": [
      "Saving results in \\\\mpfi.org\\public\\sb-lab\\DLC-analyses\\new-video-analyses\\Files_For_Analysis\\10242022\\STOP-1_CL_FreqSampling\\N7\\Ball...\n",
      "Saving csv poses!\n",
      "The videos are analyzed. Now your research can truly start! \n",
      " You can create labeled videos with 'create_labeled_video'\n",
      "If the tracking is not satisfactory for some videos, consider expanding the training set. You can use the function 'extract_outlier_frames' to extract a few representative outlier frames.\n",
      "Filtering with median model \\\\mpfi.org\\public\\sb-lab\\DLC-analyses\\new-video-analyses\\Files_For_Analysis\\10242022\\STOP-1_CL_FreqSampling\\N7\\Ball\\D-10182022184154-0000.mp4\n",
      "Saving filtered csv poses!\n",
      "idx: 4\n",
      "model_paths[idx]: C:\\DLC\\3D_8cam_vid\\3cam_BEH-BidayeLab-2022-09-16\n",
      "single_folder[idx]: \\\\mpfi.org\\public\\sb-lab\\DLC-analyses\\new-video-analyses\\Files_For_Analysis\\10242022\\STOP-1_CL_FreqSampling\\N7\\Ball\\E-10182022184149-0000.mp4\n",
      "Using snapshot-500000 for model C:\\DLC\\3D_8cam_vid\\3cam_BEH-BidayeLab-2022-09-16\\dlc-models\\iteration-0\\3cam_BEHSep16-trainset95shuffle1\n",
      "Switching to numpy-based keypoint extraction code, as multiple point extraction is not supported by TF code currently.\n",
      "Extracting  20 instances per bodypart\n"
     ]
    },
    {
     "name": "stderr",
     "output_type": "stream",
     "text": [
      "C:\\ProgramData\\Anaconda3\\envs\\deeplabcut\\lib\\site-packages\\tensorflow\\python\\keras\\engine\\base_layer_v1.py:1694: UserWarning: `layer.apply` is deprecated and will be removed in a future version. Please use `layer.__call__` method instead.\n",
      "  warnings.warn('`layer.apply` is deprecated and '\n",
      "C:\\ProgramData\\Anaconda3\\envs\\deeplabcut\\lib\\site-packages\\tf_slim\\layers\\layers.py:684: UserWarning: `layer.apply` is deprecated and will be removed in a future version. Please use `layer.__call__` method instead.\n",
      "  outputs = layer.apply(inputs, training=is_training)\n"
     ]
    },
    {
     "name": "stdout",
     "output_type": "stream",
     "text": [
      "Starting to analyze %  \\\\mpfi.org\\public\\sb-lab\\DLC-analyses\\new-video-analyses\\Files_For_Analysis\\10242022\\STOP-1_CL_FreqSampling\\N7\\Ball\\E-10182022184149-0000.mp4\n",
      "Loading  \\\\mpfi.org\\public\\sb-lab\\DLC-analyses\\new-video-analyses\\Files_For_Analysis\\10242022\\STOP-1_CL_FreqSampling\\N7\\Ball\\E-10182022184149-0000.mp4\n",
      "Duration of video [s]:  70.0 , recorded with  200.0 fps!\n",
      "Overall # of frames:  14000  found with (before cropping) frame dimensions:  1440 1080\n",
      "Starting to extract posture\n"
     ]
    },
    {
     "name": "stderr",
     "output_type": "stream",
     "text": [
      "100%|████████████████████████████████████████████████████████████████████████████| 14000/14000 [16:35<00:00, 14.06it/s]\n"
     ]
    },
    {
     "name": "stdout",
     "output_type": "stream",
     "text": [
      "Saving results in \\\\mpfi.org\\public\\sb-lab\\DLC-analyses\\new-video-analyses\\Files_For_Analysis\\10242022\\STOP-1_CL_FreqSampling\\N7\\Ball...\n",
      "Saving csv poses!\n",
      "The videos are analyzed. Now your research can truly start! \n",
      " You can create labeled videos with 'create_labeled_video'\n",
      "If the tracking is not satisfactory for some videos, consider expanding the training set. You can use the function 'extract_outlier_frames' to extract a few representative outlier frames.\n",
      "Filtering with median model \\\\mpfi.org\\public\\sb-lab\\DLC-analyses\\new-video-analyses\\Files_For_Analysis\\10242022\\STOP-1_CL_FreqSampling\\N7\\Ball\\E-10182022184149-0000.mp4\n",
      "Saving filtered csv poses!\n",
      "idx: 5\n",
      "model_paths[idx]: C:\\DLC\\3D_8cam_vid\\camF_FS34_RN101-BidayeLab-2022-10-01\n",
      "single_folder[idx]: \\\\mpfi.org\\public\\sb-lab\\DLC-analyses\\new-video-analyses\\Files_For_Analysis\\10242022\\STOP-1_CL_FreqSampling\\N7\\Ball\\F-10182022184024-0000.mp4\n",
      "Using snapshot-500000 for model C:\\DLC\\3D_8cam_vid\\camF_FS34_RN101-BidayeLab-2022-10-01\\dlc-models\\iteration-0\\camF_FS34_RN101Oct1-trainset95shuffle1\n",
      "Switching to numpy-based keypoint extraction code, as multiple point extraction is not supported by TF code currently.\n",
      "Extracting  20 instances per bodypart\n"
     ]
    },
    {
     "name": "stderr",
     "output_type": "stream",
     "text": [
      "C:\\ProgramData\\Anaconda3\\envs\\deeplabcut\\lib\\site-packages\\tensorflow\\python\\keras\\engine\\base_layer_v1.py:1694: UserWarning: `layer.apply` is deprecated and will be removed in a future version. Please use `layer.__call__` method instead.\n",
      "  warnings.warn('`layer.apply` is deprecated and '\n",
      "C:\\ProgramData\\Anaconda3\\envs\\deeplabcut\\lib\\site-packages\\tf_slim\\layers\\layers.py:684: UserWarning: `layer.apply` is deprecated and will be removed in a future version. Please use `layer.__call__` method instead.\n",
      "  outputs = layer.apply(inputs, training=is_training)\n"
     ]
    },
    {
     "name": "stdout",
     "output_type": "stream",
     "text": [
      "Starting to analyze %  \\\\mpfi.org\\public\\sb-lab\\DLC-analyses\\new-video-analyses\\Files_For_Analysis\\10242022\\STOP-1_CL_FreqSampling\\N7\\Ball\\F-10182022184024-0000.mp4\n",
      "Loading  \\\\mpfi.org\\public\\sb-lab\\DLC-analyses\\new-video-analyses\\Files_For_Analysis\\10242022\\STOP-1_CL_FreqSampling\\N7\\Ball\\F-10182022184024-0000.mp4\n",
      "Duration of video [s]:  70.0 , recorded with  200.0 fps!\n",
      "Overall # of frames:  14000  found with (before cropping) frame dimensions:  1440 1080\n",
      "Starting to extract posture\n"
     ]
    },
    {
     "name": "stderr",
     "output_type": "stream",
     "text": [
      "100%|████████████████████████████████████████████████████████████████████████████| 14000/14000 [14:32<00:00, 16.05it/s]\n"
     ]
    },
    {
     "name": "stdout",
     "output_type": "stream",
     "text": [
      "Saving results in \\\\mpfi.org\\public\\sb-lab\\DLC-analyses\\new-video-analyses\\Files_For_Analysis\\10242022\\STOP-1_CL_FreqSampling\\N7\\Ball...\n",
      "Saving csv poses!\n",
      "The videos are analyzed. Now your research can truly start! \n",
      " You can create labeled videos with 'create_labeled_video'\n",
      "If the tracking is not satisfactory for some videos, consider expanding the training set. You can use the function 'extract_outlier_frames' to extract a few representative outlier frames.\n",
      "Filtering with median model \\\\mpfi.org\\public\\sb-lab\\DLC-analyses\\new-video-analyses\\Files_For_Analysis\\10242022\\STOP-1_CL_FreqSampling\\N7\\Ball\\F-10182022184024-0000.mp4\n",
      "Saving filtered csv poses!\n",
      "idx: 6\n",
      "idx: 7\n",
      "model_paths[idx]: C:\\DLC\\3D_8cam_vid\\3cam_BEH-BidayeLab-2022-09-16\n",
      "single_folder[idx]: \\\\mpfi.org\\public\\sb-lab\\DLC-analyses\\new-video-analyses\\Files_For_Analysis\\10242022\\STOP-1_CL_FreqSampling\\N7\\Ball\\H-10182022184026-0000.mp4\n",
      "Using snapshot-500000 for model C:\\DLC\\3D_8cam_vid\\3cam_BEH-BidayeLab-2022-09-16\\dlc-models\\iteration-0\\3cam_BEHSep16-trainset95shuffle1\n",
      "Switching to numpy-based keypoint extraction code, as multiple point extraction is not supported by TF code currently.\n",
      "Extracting  20 instances per bodypart\n"
     ]
    },
    {
     "name": "stderr",
     "output_type": "stream",
     "text": [
      "C:\\ProgramData\\Anaconda3\\envs\\deeplabcut\\lib\\site-packages\\tensorflow\\python\\keras\\engine\\base_layer_v1.py:1694: UserWarning: `layer.apply` is deprecated and will be removed in a future version. Please use `layer.__call__` method instead.\n",
      "  warnings.warn('`layer.apply` is deprecated and '\n",
      "C:\\ProgramData\\Anaconda3\\envs\\deeplabcut\\lib\\site-packages\\tf_slim\\layers\\layers.py:684: UserWarning: `layer.apply` is deprecated and will be removed in a future version. Please use `layer.__call__` method instead.\n",
      "  outputs = layer.apply(inputs, training=is_training)\n"
     ]
    },
    {
     "name": "stdout",
     "output_type": "stream",
     "text": [
      "Starting to analyze %  \\\\mpfi.org\\public\\sb-lab\\DLC-analyses\\new-video-analyses\\Files_For_Analysis\\10242022\\STOP-1_CL_FreqSampling\\N7\\Ball\\H-10182022184026-0000.mp4\n",
      "Loading  \\\\mpfi.org\\public\\sb-lab\\DLC-analyses\\new-video-analyses\\Files_For_Analysis\\10242022\\STOP-1_CL_FreqSampling\\N7\\Ball\\H-10182022184026-0000.mp4\n",
      "Duration of video [s]:  70.0 , recorded with  200.0 fps!\n",
      "Overall # of frames:  14000  found with (before cropping) frame dimensions:  1440 1080\n",
      "Starting to extract posture\n"
     ]
    },
    {
     "name": "stderr",
     "output_type": "stream",
     "text": [
      "100%|████████████████████████████████████████████████████████████████████████████| 14000/14000 [16:05<00:00, 14.50it/s]\n"
     ]
    },
    {
     "name": "stdout",
     "output_type": "stream",
     "text": [
      "Saving results in \\\\mpfi.org\\public\\sb-lab\\DLC-analyses\\new-video-analyses\\Files_For_Analysis\\10242022\\STOP-1_CL_FreqSampling\\N7\\Ball...\n",
      "Saving csv poses!\n",
      "The videos are analyzed. Now your research can truly start! \n",
      " You can create labeled videos with 'create_labeled_video'\n",
      "If the tracking is not satisfactory for some videos, consider expanding the training set. You can use the function 'extract_outlier_frames' to extract a few representative outlier frames.\n",
      "Filtering with median model \\\\mpfi.org\\public\\sb-lab\\DLC-analyses\\new-video-analyses\\Files_For_Analysis\\10242022\\STOP-1_CL_FreqSampling\\N7\\Ball\\H-10182022184026-0000.mp4\n",
      "Saving filtered csv poses!\n",
      "idx: 0\n",
      "model_paths[idx]: C:\\DLC\\3D_8cam_vid\\camA_FS34_RN101-BidayeLab-2022-09-20\n",
      "single_folder[idx]: \\\\mpfi.org\\public\\sb-lab\\DLC-analyses\\new-video-analyses\\Files_For_Analysis\\10242022\\STOP-1_CL_FreqSampling\\N8\\Ball\\A-10182022191156-0000.mp4\n",
      "Using snapshot-500000 for model C:\\DLC\\3D_8cam_vid\\camA_FS34_RN101-BidayeLab-2022-09-20\\dlc-models\\iteration-1\\camA_FS34_RN101Sep20-trainset95shuffle1\n",
      "Switching to numpy-based keypoint extraction code, as multiple point extraction is not supported by TF code currently.\n",
      "Extracting  20 instances per bodypart\n"
     ]
    },
    {
     "name": "stderr",
     "output_type": "stream",
     "text": [
      "C:\\ProgramData\\Anaconda3\\envs\\deeplabcut\\lib\\site-packages\\tensorflow\\python\\keras\\engine\\base_layer_v1.py:1694: UserWarning: `layer.apply` is deprecated and will be removed in a future version. Please use `layer.__call__` method instead.\n",
      "  warnings.warn('`layer.apply` is deprecated and '\n",
      "C:\\ProgramData\\Anaconda3\\envs\\deeplabcut\\lib\\site-packages\\tf_slim\\layers\\layers.py:684: UserWarning: `layer.apply` is deprecated and will be removed in a future version. Please use `layer.__call__` method instead.\n",
      "  outputs = layer.apply(inputs, training=is_training)\n"
     ]
    },
    {
     "name": "stdout",
     "output_type": "stream",
     "text": [
      "Starting to analyze %  \\\\mpfi.org\\public\\sb-lab\\DLC-analyses\\new-video-analyses\\Files_For_Analysis\\10242022\\STOP-1_CL_FreqSampling\\N8\\Ball\\A-10182022191156-0000.mp4\n",
      "Loading  \\\\mpfi.org\\public\\sb-lab\\DLC-analyses\\new-video-analyses\\Files_For_Analysis\\10242022\\STOP-1_CL_FreqSampling\\N8\\Ball\\A-10182022191156-0000.mp4\n",
      "Duration of video [s]:  70.0 , recorded with  200.0 fps!\n",
      "Overall # of frames:  14000  found with (before cropping) frame dimensions:  1440 1080\n",
      "Starting to extract posture\n"
     ]
    },
    {
     "name": "stderr",
     "output_type": "stream",
     "text": [
      "100%|████████████████████████████████████████████████████████████████████████████| 14000/14000 [14:42<00:00, 15.86it/s]\n"
     ]
    },
    {
     "name": "stdout",
     "output_type": "stream",
     "text": [
      "Saving results in \\\\mpfi.org\\public\\sb-lab\\DLC-analyses\\new-video-analyses\\Files_For_Analysis\\10242022\\STOP-1_CL_FreqSampling\\N8\\Ball...\n",
      "Saving csv poses!\n",
      "The videos are analyzed. Now your research can truly start! \n",
      " You can create labeled videos with 'create_labeled_video'\n",
      "If the tracking is not satisfactory for some videos, consider expanding the training set. You can use the function 'extract_outlier_frames' to extract a few representative outlier frames.\n",
      "Filtering with median model \\\\mpfi.org\\public\\sb-lab\\DLC-analyses\\new-video-analyses\\Files_For_Analysis\\10242022\\STOP-1_CL_FreqSampling\\N8\\Ball\\A-10182022191156-0000.mp4\n",
      "Saving filtered csv poses!\n",
      "idx: 1\n",
      "model_paths[idx]: C:\\DLC\\3D_8cam_vid\\3cam_BEH-BidayeLab-2022-09-16\n",
      "single_folder[idx]: \\\\mpfi.org\\public\\sb-lab\\DLC-analyses\\new-video-analyses\\Files_For_Analysis\\10242022\\STOP-1_CL_FreqSampling\\N8\\Ball\\B-10182022191143-0000.mp4\n",
      "Using snapshot-500000 for model C:\\DLC\\3D_8cam_vid\\3cam_BEH-BidayeLab-2022-09-16\\dlc-models\\iteration-0\\3cam_BEHSep16-trainset95shuffle1\n",
      "Switching to numpy-based keypoint extraction code, as multiple point extraction is not supported by TF code currently.\n",
      "Extracting  20 instances per bodypart\n"
     ]
    },
    {
     "name": "stderr",
     "output_type": "stream",
     "text": [
      "C:\\ProgramData\\Anaconda3\\envs\\deeplabcut\\lib\\site-packages\\tensorflow\\python\\keras\\engine\\base_layer_v1.py:1694: UserWarning: `layer.apply` is deprecated and will be removed in a future version. Please use `layer.__call__` method instead.\n",
      "  warnings.warn('`layer.apply` is deprecated and '\n",
      "C:\\ProgramData\\Anaconda3\\envs\\deeplabcut\\lib\\site-packages\\tf_slim\\layers\\layers.py:684: UserWarning: `layer.apply` is deprecated and will be removed in a future version. Please use `layer.__call__` method instead.\n",
      "  outputs = layer.apply(inputs, training=is_training)\n"
     ]
    },
    {
     "name": "stdout",
     "output_type": "stream",
     "text": [
      "Starting to analyze %  \\\\mpfi.org\\public\\sb-lab\\DLC-analyses\\new-video-analyses\\Files_For_Analysis\\10242022\\STOP-1_CL_FreqSampling\\N8\\Ball\\B-10182022191143-0000.mp4\n",
      "Loading  \\\\mpfi.org\\public\\sb-lab\\DLC-analyses\\new-video-analyses\\Files_For_Analysis\\10242022\\STOP-1_CL_FreqSampling\\N8\\Ball\\B-10182022191143-0000.mp4\n",
      "Duration of video [s]:  70.0 , recorded with  200.0 fps!\n",
      "Overall # of frames:  14000  found with (before cropping) frame dimensions:  1440 1080\n",
      "Starting to extract posture\n"
     ]
    },
    {
     "name": "stderr",
     "output_type": "stream",
     "text": [
      "100%|████████████████████████████████████████████████████████████████████████████| 14000/14000 [16:11<00:00, 14.41it/s]\n"
     ]
    },
    {
     "name": "stdout",
     "output_type": "stream",
     "text": [
      "Saving results in \\\\mpfi.org\\public\\sb-lab\\DLC-analyses\\new-video-analyses\\Files_For_Analysis\\10242022\\STOP-1_CL_FreqSampling\\N8\\Ball...\n",
      "Saving csv poses!\n",
      "The videos are analyzed. Now your research can truly start! \n",
      " You can create labeled videos with 'create_labeled_video'\n",
      "If the tracking is not satisfactory for some videos, consider expanding the training set. You can use the function 'extract_outlier_frames' to extract a few representative outlier frames.\n",
      "Filtering with median model \\\\mpfi.org\\public\\sb-lab\\DLC-analyses\\new-video-analyses\\Files_For_Analysis\\10242022\\STOP-1_CL_FreqSampling\\N8\\Ball\\B-10182022191143-0000.mp4\n",
      "Saving filtered csv poses!\n",
      "idx: 2\n",
      "model_paths[idx]: C:\\DLC\\3D_8cam_vid\\camC_FS34_RN101-BidayeLab-2022-10-01\n",
      "single_folder[idx]: \\\\mpfi.org\\public\\sb-lab\\DLC-analyses\\new-video-analyses\\Files_For_Analysis\\10242022\\STOP-1_CL_FreqSampling\\N8\\Ball\\C-10182022191153-0000.mp4\n",
      "Using snapshot-500000 for model C:\\DLC\\3D_8cam_vid\\camC_FS34_RN101-BidayeLab-2022-10-01\\dlc-models\\iteration-0\\camC_FS34_RN101Oct1-trainset95shuffle1\n",
      "Switching to numpy-based keypoint extraction code, as multiple point extraction is not supported by TF code currently.\n",
      "Extracting  20 instances per bodypart\n"
     ]
    },
    {
     "name": "stderr",
     "output_type": "stream",
     "text": [
      "C:\\ProgramData\\Anaconda3\\envs\\deeplabcut\\lib\\site-packages\\tensorflow\\python\\keras\\engine\\base_layer_v1.py:1694: UserWarning: `layer.apply` is deprecated and will be removed in a future version. Please use `layer.__call__` method instead.\n",
      "  warnings.warn('`layer.apply` is deprecated and '\n",
      "C:\\ProgramData\\Anaconda3\\envs\\deeplabcut\\lib\\site-packages\\tf_slim\\layers\\layers.py:684: UserWarning: `layer.apply` is deprecated and will be removed in a future version. Please use `layer.__call__` method instead.\n",
      "  outputs = layer.apply(inputs, training=is_training)\n"
     ]
    },
    {
     "name": "stdout",
     "output_type": "stream",
     "text": [
      "Starting to analyze %  \\\\mpfi.org\\public\\sb-lab\\DLC-analyses\\new-video-analyses\\Files_For_Analysis\\10242022\\STOP-1_CL_FreqSampling\\N8\\Ball\\C-10182022191153-0000.mp4\n",
      "Loading  \\\\mpfi.org\\public\\sb-lab\\DLC-analyses\\new-video-analyses\\Files_For_Analysis\\10242022\\STOP-1_CL_FreqSampling\\N8\\Ball\\C-10182022191153-0000.mp4\n",
      "Duration of video [s]:  70.0 , recorded with  200.0 fps!\n",
      "Overall # of frames:  14000  found with (before cropping) frame dimensions:  1440 1080\n",
      "Starting to extract posture\n"
     ]
    },
    {
     "name": "stderr",
     "output_type": "stream",
     "text": [
      "100%|████████████████████████████████████████████████████████████████████████████| 14000/14000 [14:40<00:00, 15.89it/s]\n"
     ]
    },
    {
     "name": "stdout",
     "output_type": "stream",
     "text": [
      "Saving results in \\\\mpfi.org\\public\\sb-lab\\DLC-analyses\\new-video-analyses\\Files_For_Analysis\\10242022\\STOP-1_CL_FreqSampling\\N8\\Ball...\n",
      "Saving csv poses!\n",
      "The videos are analyzed. Now your research can truly start! \n",
      " You can create labeled videos with 'create_labeled_video'\n",
      "If the tracking is not satisfactory for some videos, consider expanding the training set. You can use the function 'extract_outlier_frames' to extract a few representative outlier frames.\n",
      "Filtering with median model \\\\mpfi.org\\public\\sb-lab\\DLC-analyses\\new-video-analyses\\Files_For_Analysis\\10242022\\STOP-1_CL_FreqSampling\\N8\\Ball\\C-10182022191153-0000.mp4\n",
      "Saving filtered csv poses!\n",
      "idx: 3\n",
      "model_paths[idx]: C:\\DLC\\3D_8cam_vid\\camD_FS34_RN101-BidayeLab-2022-09-20\n",
      "single_folder[idx]: \\\\mpfi.org\\public\\sb-lab\\DLC-analyses\\new-video-analyses\\Files_For_Analysis\\10242022\\STOP-1_CL_FreqSampling\\N8\\Ball\\D-10182022191157-0000.mp4\n",
      "Using snapshot-500000 for model C:\\DLC\\3D_8cam_vid\\camD_FS34_RN101-BidayeLab-2022-09-20\\dlc-models\\iteration-0\\camD_FS34_RN101Sep20-trainset95shuffle1\n",
      "Switching to numpy-based keypoint extraction code, as multiple point extraction is not supported by TF code currently.\n",
      "Extracting  20 instances per bodypart\n"
     ]
    },
    {
     "name": "stderr",
     "output_type": "stream",
     "text": [
      "C:\\ProgramData\\Anaconda3\\envs\\deeplabcut\\lib\\site-packages\\tensorflow\\python\\keras\\engine\\base_layer_v1.py:1694: UserWarning: `layer.apply` is deprecated and will be removed in a future version. Please use `layer.__call__` method instead.\n",
      "  warnings.warn('`layer.apply` is deprecated and '\n",
      "C:\\ProgramData\\Anaconda3\\envs\\deeplabcut\\lib\\site-packages\\tf_slim\\layers\\layers.py:684: UserWarning: `layer.apply` is deprecated and will be removed in a future version. Please use `layer.__call__` method instead.\n",
      "  outputs = layer.apply(inputs, training=is_training)\n"
     ]
    },
    {
     "name": "stdout",
     "output_type": "stream",
     "text": [
      "Starting to analyze %  \\\\mpfi.org\\public\\sb-lab\\DLC-analyses\\new-video-analyses\\Files_For_Analysis\\10242022\\STOP-1_CL_FreqSampling\\N8\\Ball\\D-10182022191157-0000.mp4\n",
      "Loading  \\\\mpfi.org\\public\\sb-lab\\DLC-analyses\\new-video-analyses\\Files_For_Analysis\\10242022\\STOP-1_CL_FreqSampling\\N8\\Ball\\D-10182022191157-0000.mp4\n",
      "Duration of video [s]:  70.0 , recorded with  200.0 fps!\n",
      "Overall # of frames:  14000  found with (before cropping) frame dimensions:  1440 1080\n",
      "Starting to extract posture\n"
     ]
    },
    {
     "name": "stderr",
     "output_type": "stream",
     "text": [
      "100%|████████████████████████████████████████████████████████████████████████████| 14000/14000 [14:25<00:00, 16.17it/s]\n"
     ]
    },
    {
     "name": "stdout",
     "output_type": "stream",
     "text": [
      "Saving results in \\\\mpfi.org\\public\\sb-lab\\DLC-analyses\\new-video-analyses\\Files_For_Analysis\\10242022\\STOP-1_CL_FreqSampling\\N8\\Ball...\n",
      "Saving csv poses!\n",
      "The videos are analyzed. Now your research can truly start! \n",
      " You can create labeled videos with 'create_labeled_video'\n",
      "If the tracking is not satisfactory for some videos, consider expanding the training set. You can use the function 'extract_outlier_frames' to extract a few representative outlier frames.\n",
      "Filtering with median model \\\\mpfi.org\\public\\sb-lab\\DLC-analyses\\new-video-analyses\\Files_For_Analysis\\10242022\\STOP-1_CL_FreqSampling\\N8\\Ball\\D-10182022191157-0000.mp4\n",
      "Saving filtered csv poses!\n",
      "idx: 4\n",
      "model_paths[idx]: C:\\DLC\\3D_8cam_vid\\3cam_BEH-BidayeLab-2022-09-16\n",
      "single_folder[idx]: \\\\mpfi.org\\public\\sb-lab\\DLC-analyses\\new-video-analyses\\Files_For_Analysis\\10242022\\STOP-1_CL_FreqSampling\\N8\\Ball\\E-10182022191145-0000.mp4\n",
      "Using snapshot-500000 for model C:\\DLC\\3D_8cam_vid\\3cam_BEH-BidayeLab-2022-09-16\\dlc-models\\iteration-0\\3cam_BEHSep16-trainset95shuffle1\n",
      "Switching to numpy-based keypoint extraction code, as multiple point extraction is not supported by TF code currently.\n",
      "Extracting  20 instances per bodypart\n"
     ]
    },
    {
     "name": "stderr",
     "output_type": "stream",
     "text": [
      "C:\\ProgramData\\Anaconda3\\envs\\deeplabcut\\lib\\site-packages\\tensorflow\\python\\keras\\engine\\base_layer_v1.py:1694: UserWarning: `layer.apply` is deprecated and will be removed in a future version. Please use `layer.__call__` method instead.\n",
      "  warnings.warn('`layer.apply` is deprecated and '\n",
      "C:\\ProgramData\\Anaconda3\\envs\\deeplabcut\\lib\\site-packages\\tf_slim\\layers\\layers.py:684: UserWarning: `layer.apply` is deprecated and will be removed in a future version. Please use `layer.__call__` method instead.\n",
      "  outputs = layer.apply(inputs, training=is_training)\n"
     ]
    },
    {
     "name": "stdout",
     "output_type": "stream",
     "text": [
      "Starting to analyze %  \\\\mpfi.org\\public\\sb-lab\\DLC-analyses\\new-video-analyses\\Files_For_Analysis\\10242022\\STOP-1_CL_FreqSampling\\N8\\Ball\\E-10182022191145-0000.mp4\n",
      "Loading  \\\\mpfi.org\\public\\sb-lab\\DLC-analyses\\new-video-analyses\\Files_For_Analysis\\10242022\\STOP-1_CL_FreqSampling\\N8\\Ball\\E-10182022191145-0000.mp4\n",
      "Duration of video [s]:  70.0 , recorded with  200.0 fps!\n",
      "Overall # of frames:  14000  found with (before cropping) frame dimensions:  1440 1080\n",
      "Starting to extract posture\n"
     ]
    },
    {
     "name": "stderr",
     "output_type": "stream",
     "text": [
      "100%|████████████████████████████████████████████████████████████████████████████| 14000/14000 [16:08<00:00, 14.46it/s]\n"
     ]
    },
    {
     "name": "stdout",
     "output_type": "stream",
     "text": [
      "Saving results in \\\\mpfi.org\\public\\sb-lab\\DLC-analyses\\new-video-analyses\\Files_For_Analysis\\10242022\\STOP-1_CL_FreqSampling\\N8\\Ball...\n",
      "Saving csv poses!\n",
      "The videos are analyzed. Now your research can truly start! \n",
      " You can create labeled videos with 'create_labeled_video'\n",
      "If the tracking is not satisfactory for some videos, consider expanding the training set. You can use the function 'extract_outlier_frames' to extract a few representative outlier frames.\n",
      "Filtering with median model \\\\mpfi.org\\public\\sb-lab\\DLC-analyses\\new-video-analyses\\Files_For_Analysis\\10242022\\STOP-1_CL_FreqSampling\\N8\\Ball\\E-10182022191145-0000.mp4\n",
      "Saving filtered csv poses!\n",
      "idx: 5\n",
      "model_paths[idx]: C:\\DLC\\3D_8cam_vid\\camF_FS34_RN101-BidayeLab-2022-10-01\n",
      "single_folder[idx]: \\\\mpfi.org\\public\\sb-lab\\DLC-analyses\\new-video-analyses\\Files_For_Analysis\\10242022\\STOP-1_CL_FreqSampling\\N8\\Ball\\F-10182022191152-0000.mp4\n",
      "Using snapshot-500000 for model C:\\DLC\\3D_8cam_vid\\camF_FS34_RN101-BidayeLab-2022-10-01\\dlc-models\\iteration-0\\camF_FS34_RN101Oct1-trainset95shuffle1\n",
      "Switching to numpy-based keypoint extraction code, as multiple point extraction is not supported by TF code currently.\n",
      "Extracting  20 instances per bodypart\n"
     ]
    },
    {
     "name": "stderr",
     "output_type": "stream",
     "text": [
      "C:\\ProgramData\\Anaconda3\\envs\\deeplabcut\\lib\\site-packages\\tensorflow\\python\\keras\\engine\\base_layer_v1.py:1694: UserWarning: `layer.apply` is deprecated and will be removed in a future version. Please use `layer.__call__` method instead.\n",
      "  warnings.warn('`layer.apply` is deprecated and '\n",
      "C:\\ProgramData\\Anaconda3\\envs\\deeplabcut\\lib\\site-packages\\tf_slim\\layers\\layers.py:684: UserWarning: `layer.apply` is deprecated and will be removed in a future version. Please use `layer.__call__` method instead.\n",
      "  outputs = layer.apply(inputs, training=is_training)\n"
     ]
    },
    {
     "name": "stdout",
     "output_type": "stream",
     "text": [
      "Starting to analyze %  \\\\mpfi.org\\public\\sb-lab\\DLC-analyses\\new-video-analyses\\Files_For_Analysis\\10242022\\STOP-1_CL_FreqSampling\\N8\\Ball\\F-10182022191152-0000.mp4\n",
      "Loading  \\\\mpfi.org\\public\\sb-lab\\DLC-analyses\\new-video-analyses\\Files_For_Analysis\\10242022\\STOP-1_CL_FreqSampling\\N8\\Ball\\F-10182022191152-0000.mp4\n",
      "Duration of video [s]:  70.0 , recorded with  200.0 fps!\n",
      "Overall # of frames:  14000  found with (before cropping) frame dimensions:  1440 1080\n",
      "Starting to extract posture\n"
     ]
    },
    {
     "name": "stderr",
     "output_type": "stream",
     "text": [
      "100%|████████████████████████████████████████████████████████████████████████████| 14000/14000 [14:28<00:00, 16.12it/s]\n"
     ]
    },
    {
     "name": "stdout",
     "output_type": "stream",
     "text": [
      "Saving results in \\\\mpfi.org\\public\\sb-lab\\DLC-analyses\\new-video-analyses\\Files_For_Analysis\\10242022\\STOP-1_CL_FreqSampling\\N8\\Ball...\n",
      "Saving csv poses!\n",
      "The videos are analyzed. Now your research can truly start! \n",
      " You can create labeled videos with 'create_labeled_video'\n",
      "If the tracking is not satisfactory for some videos, consider expanding the training set. You can use the function 'extract_outlier_frames' to extract a few representative outlier frames.\n",
      "Filtering with median model \\\\mpfi.org\\public\\sb-lab\\DLC-analyses\\new-video-analyses\\Files_For_Analysis\\10242022\\STOP-1_CL_FreqSampling\\N8\\Ball\\F-10182022191152-0000.mp4\n",
      "Saving filtered csv poses!\n",
      "idx: 6\n",
      "idx: 7\n",
      "model_paths[idx]: C:\\DLC\\3D_8cam_vid\\3cam_BEH-BidayeLab-2022-09-16\n",
      "single_folder[idx]: \\\\mpfi.org\\public\\sb-lab\\DLC-analyses\\new-video-analyses\\Files_For_Analysis\\10242022\\STOP-1_CL_FreqSampling\\N8\\Ball\\H-10182022191151-0000.mp4\n",
      "Using snapshot-500000 for model C:\\DLC\\3D_8cam_vid\\3cam_BEH-BidayeLab-2022-09-16\\dlc-models\\iteration-0\\3cam_BEHSep16-trainset95shuffle1\n",
      "Switching to numpy-based keypoint extraction code, as multiple point extraction is not supported by TF code currently.\n",
      "Extracting  20 instances per bodypart\n"
     ]
    },
    {
     "name": "stderr",
     "output_type": "stream",
     "text": [
      "C:\\ProgramData\\Anaconda3\\envs\\deeplabcut\\lib\\site-packages\\tensorflow\\python\\keras\\engine\\base_layer_v1.py:1694: UserWarning: `layer.apply` is deprecated and will be removed in a future version. Please use `layer.__call__` method instead.\n",
      "  warnings.warn('`layer.apply` is deprecated and '\n",
      "C:\\ProgramData\\Anaconda3\\envs\\deeplabcut\\lib\\site-packages\\tf_slim\\layers\\layers.py:684: UserWarning: `layer.apply` is deprecated and will be removed in a future version. Please use `layer.__call__` method instead.\n",
      "  outputs = layer.apply(inputs, training=is_training)\n"
     ]
    },
    {
     "name": "stdout",
     "output_type": "stream",
     "text": [
      "Starting to analyze %  \\\\mpfi.org\\public\\sb-lab\\DLC-analyses\\new-video-analyses\\Files_For_Analysis\\10242022\\STOP-1_CL_FreqSampling\\N8\\Ball\\H-10182022191151-0000.mp4\n",
      "Loading  \\\\mpfi.org\\public\\sb-lab\\DLC-analyses\\new-video-analyses\\Files_For_Analysis\\10242022\\STOP-1_CL_FreqSampling\\N8\\Ball\\H-10182022191151-0000.mp4\n",
      "Duration of video [s]:  70.0 , recorded with  200.0 fps!\n",
      "Overall # of frames:  14000  found with (before cropping) frame dimensions:  1440 1080\n",
      "Starting to extract posture\n"
     ]
    },
    {
     "name": "stderr",
     "output_type": "stream",
     "text": [
      "100%|████████████████████████████████████████████████████████████████████████████| 14000/14000 [16:16<00:00, 14.34it/s]\n"
     ]
    },
    {
     "name": "stdout",
     "output_type": "stream",
     "text": [
      "Saving results in \\\\mpfi.org\\public\\sb-lab\\DLC-analyses\\new-video-analyses\\Files_For_Analysis\\10242022\\STOP-1_CL_FreqSampling\\N8\\Ball...\n",
      "Saving csv poses!\n",
      "The videos are analyzed. Now your research can truly start! \n",
      " You can create labeled videos with 'create_labeled_video'\n",
      "If the tracking is not satisfactory for some videos, consider expanding the training set. You can use the function 'extract_outlier_frames' to extract a few representative outlier frames.\n",
      "Filtering with median model \\\\mpfi.org\\public\\sb-lab\\DLC-analyses\\new-video-analyses\\Files_For_Analysis\\10242022\\STOP-1_CL_FreqSampling\\N8\\Ball\\H-10182022191151-0000.mp4\n",
      "Saving filtered csv poses!\n",
      "idx: 0\n",
      "model_paths[idx]: C:\\DLC\\3D_8cam_vid\\camA_FS34_RN101-BidayeLab-2022-09-20\n",
      "single_folder[idx]: \\\\mpfi.org\\public\\sb-lab\\DLC-analyses\\new-video-analyses\\Files_For_Analysis\\10242022\\STOP-1_CL_FreqSampling\\N9\\Ball\\A-10182022194923-0000.mp4\n",
      "Using snapshot-500000 for model C:\\DLC\\3D_8cam_vid\\camA_FS34_RN101-BidayeLab-2022-09-20\\dlc-models\\iteration-1\\camA_FS34_RN101Sep20-trainset95shuffle1\n",
      "Switching to numpy-based keypoint extraction code, as multiple point extraction is not supported by TF code currently.\n",
      "Extracting  20 instances per bodypart\n"
     ]
    },
    {
     "name": "stderr",
     "output_type": "stream",
     "text": [
      "C:\\ProgramData\\Anaconda3\\envs\\deeplabcut\\lib\\site-packages\\tensorflow\\python\\keras\\engine\\base_layer_v1.py:1694: UserWarning: `layer.apply` is deprecated and will be removed in a future version. Please use `layer.__call__` method instead.\n",
      "  warnings.warn('`layer.apply` is deprecated and '\n",
      "C:\\ProgramData\\Anaconda3\\envs\\deeplabcut\\lib\\site-packages\\tf_slim\\layers\\layers.py:684: UserWarning: `layer.apply` is deprecated and will be removed in a future version. Please use `layer.__call__` method instead.\n",
      "  outputs = layer.apply(inputs, training=is_training)\n"
     ]
    },
    {
     "name": "stdout",
     "output_type": "stream",
     "text": [
      "Starting to analyze %  \\\\mpfi.org\\public\\sb-lab\\DLC-analyses\\new-video-analyses\\Files_For_Analysis\\10242022\\STOP-1_CL_FreqSampling\\N9\\Ball\\A-10182022194923-0000.mp4\n",
      "Loading  \\\\mpfi.org\\public\\sb-lab\\DLC-analyses\\new-video-analyses\\Files_For_Analysis\\10242022\\STOP-1_CL_FreqSampling\\N9\\Ball\\A-10182022194923-0000.mp4\n",
      "Duration of video [s]:  70.0 , recorded with  200.0 fps!\n",
      "Overall # of frames:  14000  found with (before cropping) frame dimensions:  1440 1080\n",
      "Starting to extract posture\n"
     ]
    },
    {
     "name": "stderr",
     "output_type": "stream",
     "text": [
      "100%|████████████████████████████████████████████████████████████████████████████| 14000/14000 [14:15<00:00, 16.36it/s]\n"
     ]
    },
    {
     "name": "stdout",
     "output_type": "stream",
     "text": [
      "Saving results in \\\\mpfi.org\\public\\sb-lab\\DLC-analyses\\new-video-analyses\\Files_For_Analysis\\10242022\\STOP-1_CL_FreqSampling\\N9\\Ball...\n",
      "Saving csv poses!\n",
      "The videos are analyzed. Now your research can truly start! \n",
      " You can create labeled videos with 'create_labeled_video'\n",
      "If the tracking is not satisfactory for some videos, consider expanding the training set. You can use the function 'extract_outlier_frames' to extract a few representative outlier frames.\n",
      "Filtering with median model \\\\mpfi.org\\public\\sb-lab\\DLC-analyses\\new-video-analyses\\Files_For_Analysis\\10242022\\STOP-1_CL_FreqSampling\\N9\\Ball\\A-10182022194923-0000.mp4\n",
      "Saving filtered csv poses!\n",
      "idx: 1\n",
      "model_paths[idx]: C:\\DLC\\3D_8cam_vid\\3cam_BEH-BidayeLab-2022-09-16\n",
      "single_folder[idx]: \\\\mpfi.org\\public\\sb-lab\\DLC-analyses\\new-video-analyses\\Files_For_Analysis\\10242022\\STOP-1_CL_FreqSampling\\N9\\Ball\\B-10182022194926-0000.mp4\n",
      "Using snapshot-500000 for model C:\\DLC\\3D_8cam_vid\\3cam_BEH-BidayeLab-2022-09-16\\dlc-models\\iteration-0\\3cam_BEHSep16-trainset95shuffle1\n",
      "Switching to numpy-based keypoint extraction code, as multiple point extraction is not supported by TF code currently.\n",
      "Extracting  20 instances per bodypart\n"
     ]
    },
    {
     "name": "stderr",
     "output_type": "stream",
     "text": [
      "C:\\ProgramData\\Anaconda3\\envs\\deeplabcut\\lib\\site-packages\\tensorflow\\python\\keras\\engine\\base_layer_v1.py:1694: UserWarning: `layer.apply` is deprecated and will be removed in a future version. Please use `layer.__call__` method instead.\n",
      "  warnings.warn('`layer.apply` is deprecated and '\n",
      "C:\\ProgramData\\Anaconda3\\envs\\deeplabcut\\lib\\site-packages\\tf_slim\\layers\\layers.py:684: UserWarning: `layer.apply` is deprecated and will be removed in a future version. Please use `layer.__call__` method instead.\n",
      "  outputs = layer.apply(inputs, training=is_training)\n"
     ]
    },
    {
     "name": "stdout",
     "output_type": "stream",
     "text": [
      "Starting to analyze %  \\\\mpfi.org\\public\\sb-lab\\DLC-analyses\\new-video-analyses\\Files_For_Analysis\\10242022\\STOP-1_CL_FreqSampling\\N9\\Ball\\B-10182022194926-0000.mp4\n",
      "Loading  \\\\mpfi.org\\public\\sb-lab\\DLC-analyses\\new-video-analyses\\Files_For_Analysis\\10242022\\STOP-1_CL_FreqSampling\\N9\\Ball\\B-10182022194926-0000.mp4\n",
      "Duration of video [s]:  70.0 , recorded with  200.0 fps!\n",
      "Overall # of frames:  14000  found with (before cropping) frame dimensions:  1440 1080\n",
      "Starting to extract posture\n"
     ]
    },
    {
     "name": "stderr",
     "output_type": "stream",
     "text": [
      "100%|████████████████████████████████████████████████████████████████████████████| 14000/14000 [16:12<00:00, 14.39it/s]\n"
     ]
    },
    {
     "name": "stdout",
     "output_type": "stream",
     "text": [
      "Saving results in \\\\mpfi.org\\public\\sb-lab\\DLC-analyses\\new-video-analyses\\Files_For_Analysis\\10242022\\STOP-1_CL_FreqSampling\\N9\\Ball...\n",
      "Saving csv poses!\n",
      "The videos are analyzed. Now your research can truly start! \n",
      " You can create labeled videos with 'create_labeled_video'\n",
      "If the tracking is not satisfactory for some videos, consider expanding the training set. You can use the function 'extract_outlier_frames' to extract a few representative outlier frames.\n",
      "Filtering with median model \\\\mpfi.org\\public\\sb-lab\\DLC-analyses\\new-video-analyses\\Files_For_Analysis\\10242022\\STOP-1_CL_FreqSampling\\N9\\Ball\\B-10182022194926-0000.mp4\n",
      "Saving filtered csv poses!\n",
      "idx: 2\n",
      "model_paths[idx]: C:\\DLC\\3D_8cam_vid\\camC_FS34_RN101-BidayeLab-2022-10-01\n",
      "single_folder[idx]: \\\\mpfi.org\\public\\sb-lab\\DLC-analyses\\new-video-analyses\\Files_For_Analysis\\10242022\\STOP-1_CL_FreqSampling\\N9\\Ball\\C-10182022194929-0000.mp4\n",
      "Using snapshot-500000 for model C:\\DLC\\3D_8cam_vid\\camC_FS34_RN101-BidayeLab-2022-10-01\\dlc-models\\iteration-0\\camC_FS34_RN101Oct1-trainset95shuffle1\n",
      "Switching to numpy-based keypoint extraction code, as multiple point extraction is not supported by TF code currently.\n",
      "Extracting  20 instances per bodypart\n"
     ]
    },
    {
     "name": "stderr",
     "output_type": "stream",
     "text": [
      "C:\\ProgramData\\Anaconda3\\envs\\deeplabcut\\lib\\site-packages\\tensorflow\\python\\keras\\engine\\base_layer_v1.py:1694: UserWarning: `layer.apply` is deprecated and will be removed in a future version. Please use `layer.__call__` method instead.\n",
      "  warnings.warn('`layer.apply` is deprecated and '\n",
      "C:\\ProgramData\\Anaconda3\\envs\\deeplabcut\\lib\\site-packages\\tf_slim\\layers\\layers.py:684: UserWarning: `layer.apply` is deprecated and will be removed in a future version. Please use `layer.__call__` method instead.\n",
      "  outputs = layer.apply(inputs, training=is_training)\n"
     ]
    },
    {
     "name": "stdout",
     "output_type": "stream",
     "text": [
      "Starting to analyze %  \\\\mpfi.org\\public\\sb-lab\\DLC-analyses\\new-video-analyses\\Files_For_Analysis\\10242022\\STOP-1_CL_FreqSampling\\N9\\Ball\\C-10182022194929-0000.mp4\n",
      "Loading  \\\\mpfi.org\\public\\sb-lab\\DLC-analyses\\new-video-analyses\\Files_For_Analysis\\10242022\\STOP-1_CL_FreqSampling\\N9\\Ball\\C-10182022194929-0000.mp4\n",
      "Duration of video [s]:  70.0 , recorded with  200.0 fps!\n",
      "Overall # of frames:  14000  found with (before cropping) frame dimensions:  1440 1080\n",
      "Starting to extract posture\n"
     ]
    },
    {
     "name": "stderr",
     "output_type": "stream",
     "text": [
      "100%|████████████████████████████████████████████████████████████████████████████| 14000/14000 [14:42<00:00, 15.86it/s]\n"
     ]
    },
    {
     "name": "stdout",
     "output_type": "stream",
     "text": [
      "Saving results in \\\\mpfi.org\\public\\sb-lab\\DLC-analyses\\new-video-analyses\\Files_For_Analysis\\10242022\\STOP-1_CL_FreqSampling\\N9\\Ball...\n",
      "Saving csv poses!\n",
      "The videos are analyzed. Now your research can truly start! \n",
      " You can create labeled videos with 'create_labeled_video'\n",
      "If the tracking is not satisfactory for some videos, consider expanding the training set. You can use the function 'extract_outlier_frames' to extract a few representative outlier frames.\n",
      "Filtering with median model \\\\mpfi.org\\public\\sb-lab\\DLC-analyses\\new-video-analyses\\Files_For_Analysis\\10242022\\STOP-1_CL_FreqSampling\\N9\\Ball\\C-10182022194929-0000.mp4\n",
      "Saving filtered csv poses!\n",
      "idx: 3\n",
      "model_paths[idx]: C:\\DLC\\3D_8cam_vid\\camD_FS34_RN101-BidayeLab-2022-09-20\n",
      "single_folder[idx]: \\\\mpfi.org\\public\\sb-lab\\DLC-analyses\\new-video-analyses\\Files_For_Analysis\\10242022\\STOP-1_CL_FreqSampling\\N9\\Ball\\D-10182022194924-0000.mp4\n",
      "Using snapshot-500000 for model C:\\DLC\\3D_8cam_vid\\camD_FS34_RN101-BidayeLab-2022-09-20\\dlc-models\\iteration-0\\camD_FS34_RN101Sep20-trainset95shuffle1\n",
      "Switching to numpy-based keypoint extraction code, as multiple point extraction is not supported by TF code currently.\n",
      "Extracting  20 instances per bodypart\n"
     ]
    },
    {
     "name": "stderr",
     "output_type": "stream",
     "text": [
      "C:\\ProgramData\\Anaconda3\\envs\\deeplabcut\\lib\\site-packages\\tensorflow\\python\\keras\\engine\\base_layer_v1.py:1694: UserWarning: `layer.apply` is deprecated and will be removed in a future version. Please use `layer.__call__` method instead.\n",
      "  warnings.warn('`layer.apply` is deprecated and '\n",
      "C:\\ProgramData\\Anaconda3\\envs\\deeplabcut\\lib\\site-packages\\tf_slim\\layers\\layers.py:684: UserWarning: `layer.apply` is deprecated and will be removed in a future version. Please use `layer.__call__` method instead.\n",
      "  outputs = layer.apply(inputs, training=is_training)\n"
     ]
    },
    {
     "name": "stdout",
     "output_type": "stream",
     "text": [
      "Starting to analyze %  \\\\mpfi.org\\public\\sb-lab\\DLC-analyses\\new-video-analyses\\Files_For_Analysis\\10242022\\STOP-1_CL_FreqSampling\\N9\\Ball\\D-10182022194924-0000.mp4\n",
      "Loading  \\\\mpfi.org\\public\\sb-lab\\DLC-analyses\\new-video-analyses\\Files_For_Analysis\\10242022\\STOP-1_CL_FreqSampling\\N9\\Ball\\D-10182022194924-0000.mp4\n",
      "Duration of video [s]:  70.0 , recorded with  200.0 fps!\n",
      "Overall # of frames:  14000  found with (before cropping) frame dimensions:  1440 1080\n",
      "Starting to extract posture\n"
     ]
    },
    {
     "name": "stderr",
     "output_type": "stream",
     "text": [
      "100%|████████████████████████████████████████████████████████████████████████████| 14000/14000 [14:29<00:00, 16.09it/s]\n"
     ]
    },
    {
     "name": "stdout",
     "output_type": "stream",
     "text": [
      "Saving results in \\\\mpfi.org\\public\\sb-lab\\DLC-analyses\\new-video-analyses\\Files_For_Analysis\\10242022\\STOP-1_CL_FreqSampling\\N9\\Ball...\n",
      "Saving csv poses!\n",
      "The videos are analyzed. Now your research can truly start! \n",
      " You can create labeled videos with 'create_labeled_video'\n",
      "If the tracking is not satisfactory for some videos, consider expanding the training set. You can use the function 'extract_outlier_frames' to extract a few representative outlier frames.\n",
      "Filtering with median model \\\\mpfi.org\\public\\sb-lab\\DLC-analyses\\new-video-analyses\\Files_For_Analysis\\10242022\\STOP-1_CL_FreqSampling\\N9\\Ball\\D-10182022194924-0000.mp4\n",
      "Saving filtered csv poses!\n",
      "idx: 4\n",
      "model_paths[idx]: C:\\DLC\\3D_8cam_vid\\3cam_BEH-BidayeLab-2022-09-16\n",
      "single_folder[idx]: \\\\mpfi.org\\public\\sb-lab\\DLC-analyses\\new-video-analyses\\Files_For_Analysis\\10242022\\STOP-1_CL_FreqSampling\\N9\\Ball\\E-10182022194925-0000.mp4\n",
      "Using snapshot-500000 for model C:\\DLC\\3D_8cam_vid\\3cam_BEH-BidayeLab-2022-09-16\\dlc-models\\iteration-0\\3cam_BEHSep16-trainset95shuffle1\n",
      "Switching to numpy-based keypoint extraction code, as multiple point extraction is not supported by TF code currently.\n",
      "Extracting  20 instances per bodypart\n"
     ]
    },
    {
     "name": "stderr",
     "output_type": "stream",
     "text": [
      "C:\\ProgramData\\Anaconda3\\envs\\deeplabcut\\lib\\site-packages\\tensorflow\\python\\keras\\engine\\base_layer_v1.py:1694: UserWarning: `layer.apply` is deprecated and will be removed in a future version. Please use `layer.__call__` method instead.\n",
      "  warnings.warn('`layer.apply` is deprecated and '\n",
      "C:\\ProgramData\\Anaconda3\\envs\\deeplabcut\\lib\\site-packages\\tf_slim\\layers\\layers.py:684: UserWarning: `layer.apply` is deprecated and will be removed in a future version. Please use `layer.__call__` method instead.\n",
      "  outputs = layer.apply(inputs, training=is_training)\n"
     ]
    },
    {
     "name": "stdout",
     "output_type": "stream",
     "text": [
      "Starting to analyze %  \\\\mpfi.org\\public\\sb-lab\\DLC-analyses\\new-video-analyses\\Files_For_Analysis\\10242022\\STOP-1_CL_FreqSampling\\N9\\Ball\\E-10182022194925-0000.mp4\n",
      "Loading  \\\\mpfi.org\\public\\sb-lab\\DLC-analyses\\new-video-analyses\\Files_For_Analysis\\10242022\\STOP-1_CL_FreqSampling\\N9\\Ball\\E-10182022194925-0000.mp4\n",
      "Duration of video [s]:  70.0 , recorded with  200.0 fps!\n",
      "Overall # of frames:  14000  found with (before cropping) frame dimensions:  1440 1080\n",
      "Starting to extract posture\n"
     ]
    },
    {
     "name": "stderr",
     "output_type": "stream",
     "text": [
      "100%|████████████████████████████████████████████████████████████████████████████| 14000/14000 [16:14<00:00, 14.37it/s]\n"
     ]
    },
    {
     "name": "stdout",
     "output_type": "stream",
     "text": [
      "Saving results in \\\\mpfi.org\\public\\sb-lab\\DLC-analyses\\new-video-analyses\\Files_For_Analysis\\10242022\\STOP-1_CL_FreqSampling\\N9\\Ball...\n",
      "Saving csv poses!\n",
      "The videos are analyzed. Now your research can truly start! \n",
      " You can create labeled videos with 'create_labeled_video'\n",
      "If the tracking is not satisfactory for some videos, consider expanding the training set. You can use the function 'extract_outlier_frames' to extract a few representative outlier frames.\n",
      "Filtering with median model \\\\mpfi.org\\public\\sb-lab\\DLC-analyses\\new-video-analyses\\Files_For_Analysis\\10242022\\STOP-1_CL_FreqSampling\\N9\\Ball\\E-10182022194925-0000.mp4\n",
      "Saving filtered csv poses!\n",
      "idx: 5\n",
      "model_paths[idx]: C:\\DLC\\3D_8cam_vid\\camF_FS34_RN101-BidayeLab-2022-10-01\n",
      "single_folder[idx]: \\\\mpfi.org\\public\\sb-lab\\DLC-analyses\\new-video-analyses\\Files_For_Analysis\\10242022\\STOP-1_CL_FreqSampling\\N9\\Ball\\F-10182022194930-0000.mp4\n",
      "Using snapshot-500000 for model C:\\DLC\\3D_8cam_vid\\camF_FS34_RN101-BidayeLab-2022-10-01\\dlc-models\\iteration-0\\camF_FS34_RN101Oct1-trainset95shuffle1\n",
      "Switching to numpy-based keypoint extraction code, as multiple point extraction is not supported by TF code currently.\n",
      "Extracting  20 instances per bodypart\n"
     ]
    },
    {
     "name": "stderr",
     "output_type": "stream",
     "text": [
      "C:\\ProgramData\\Anaconda3\\envs\\deeplabcut\\lib\\site-packages\\tensorflow\\python\\keras\\engine\\base_layer_v1.py:1694: UserWarning: `layer.apply` is deprecated and will be removed in a future version. Please use `layer.__call__` method instead.\n",
      "  warnings.warn('`layer.apply` is deprecated and '\n",
      "C:\\ProgramData\\Anaconda3\\envs\\deeplabcut\\lib\\site-packages\\tf_slim\\layers\\layers.py:684: UserWarning: `layer.apply` is deprecated and will be removed in a future version. Please use `layer.__call__` method instead.\n",
      "  outputs = layer.apply(inputs, training=is_training)\n"
     ]
    },
    {
     "name": "stdout",
     "output_type": "stream",
     "text": [
      "Starting to analyze %  \\\\mpfi.org\\public\\sb-lab\\DLC-analyses\\new-video-analyses\\Files_For_Analysis\\10242022\\STOP-1_CL_FreqSampling\\N9\\Ball\\F-10182022194930-0000.mp4\n",
      "Loading  \\\\mpfi.org\\public\\sb-lab\\DLC-analyses\\new-video-analyses\\Files_For_Analysis\\10242022\\STOP-1_CL_FreqSampling\\N9\\Ball\\F-10182022194930-0000.mp4\n",
      "Duration of video [s]:  70.0 , recorded with  200.0 fps!\n",
      "Overall # of frames:  14000  found with (before cropping) frame dimensions:  1440 1080\n",
      "Starting to extract posture\n"
     ]
    },
    {
     "name": "stderr",
     "output_type": "stream",
     "text": [
      "100%|████████████████████████████████████████████████████████████████████████████| 14000/14000 [14:38<00:00, 15.93it/s]\n"
     ]
    },
    {
     "name": "stdout",
     "output_type": "stream",
     "text": [
      "Saving results in \\\\mpfi.org\\public\\sb-lab\\DLC-analyses\\new-video-analyses\\Files_For_Analysis\\10242022\\STOP-1_CL_FreqSampling\\N9\\Ball...\n",
      "Saving csv poses!\n",
      "The videos are analyzed. Now your research can truly start! \n",
      " You can create labeled videos with 'create_labeled_video'\n",
      "If the tracking is not satisfactory for some videos, consider expanding the training set. You can use the function 'extract_outlier_frames' to extract a few representative outlier frames.\n",
      "Filtering with median model \\\\mpfi.org\\public\\sb-lab\\DLC-analyses\\new-video-analyses\\Files_For_Analysis\\10242022\\STOP-1_CL_FreqSampling\\N9\\Ball\\F-10182022194930-0000.mp4\n",
      "Saving filtered csv poses!\n",
      "idx: 6\n",
      "idx: 7\n",
      "model_paths[idx]: C:\\DLC\\3D_8cam_vid\\3cam_BEH-BidayeLab-2022-09-16\n",
      "single_folder[idx]: \\\\mpfi.org\\public\\sb-lab\\DLC-analyses\\new-video-analyses\\Files_For_Analysis\\10242022\\STOP-1_CL_FreqSampling\\N9\\Ball\\H-10182022194931-0000.mp4\n",
      "Using snapshot-500000 for model C:\\DLC\\3D_8cam_vid\\3cam_BEH-BidayeLab-2022-09-16\\dlc-models\\iteration-0\\3cam_BEHSep16-trainset95shuffle1\n",
      "Switching to numpy-based keypoint extraction code, as multiple point extraction is not supported by TF code currently.\n",
      "Extracting  20 instances per bodypart\n"
     ]
    },
    {
     "name": "stderr",
     "output_type": "stream",
     "text": [
      "C:\\ProgramData\\Anaconda3\\envs\\deeplabcut\\lib\\site-packages\\tensorflow\\python\\keras\\engine\\base_layer_v1.py:1694: UserWarning: `layer.apply` is deprecated and will be removed in a future version. Please use `layer.__call__` method instead.\n",
      "  warnings.warn('`layer.apply` is deprecated and '\n",
      "C:\\ProgramData\\Anaconda3\\envs\\deeplabcut\\lib\\site-packages\\tf_slim\\layers\\layers.py:684: UserWarning: `layer.apply` is deprecated and will be removed in a future version. Please use `layer.__call__` method instead.\n",
      "  outputs = layer.apply(inputs, training=is_training)\n"
     ]
    },
    {
     "name": "stdout",
     "output_type": "stream",
     "text": [
      "Starting to analyze %  \\\\mpfi.org\\public\\sb-lab\\DLC-analyses\\new-video-analyses\\Files_For_Analysis\\10242022\\STOP-1_CL_FreqSampling\\N9\\Ball\\H-10182022194931-0000.mp4\n",
      "Loading  \\\\mpfi.org\\public\\sb-lab\\DLC-analyses\\new-video-analyses\\Files_For_Analysis\\10242022\\STOP-1_CL_FreqSampling\\N9\\Ball\\H-10182022194931-0000.mp4\n",
      "Duration of video [s]:  70.0 , recorded with  200.0 fps!\n",
      "Overall # of frames:  14000  found with (before cropping) frame dimensions:  1440 1080\n",
      "Starting to extract posture\n"
     ]
    },
    {
     "name": "stderr",
     "output_type": "stream",
     "text": [
      "100%|████████████████████████████████████████████████████████████████████████████| 14000/14000 [16:04<00:00, 14.52it/s]\n"
     ]
    },
    {
     "name": "stdout",
     "output_type": "stream",
     "text": [
      "Saving results in \\\\mpfi.org\\public\\sb-lab\\DLC-analyses\\new-video-analyses\\Files_For_Analysis\\10242022\\STOP-1_CL_FreqSampling\\N9\\Ball...\n",
      "Saving csv poses!\n",
      "The videos are analyzed. Now your research can truly start! \n",
      " You can create labeled videos with 'create_labeled_video'\n",
      "If the tracking is not satisfactory for some videos, consider expanding the training set. You can use the function 'extract_outlier_frames' to extract a few representative outlier frames.\n",
      "Filtering with median model \\\\mpfi.org\\public\\sb-lab\\DLC-analyses\\new-video-analyses\\Files_For_Analysis\\10242022\\STOP-1_CL_FreqSampling\\N9\\Ball\\H-10182022194931-0000.mp4\n",
      "Saving filtered csv poses!\n"
     ]
    }
   ],
   "source": [
    "videos_folders_path = Path(r'\\\\mpfi.org\\public\\sb-lab\\DLC-analyses\\new-video-analyses\\Files_For_Analysis\\10242022\\STOP-1_CL_FreqSampling')\n",
    "\n",
    "analyze_new(videos_folders_path)"
   ]
  },
  {
   "cell_type": "code",
   "execution_count": null,
   "id": "e25f98cd",
   "metadata": {},
   "outputs": [
    {
     "name": "stdout",
     "output_type": "stream",
     "text": [
      "idx: 0\n",
      "model_paths[idx]: C:\\DLC\\3D_8cam_vid\\camA_FS34_RN101-BidayeLab-2022-09-20\n",
      "single_folder[idx]: \\\\mpfi.org\\public\\sb-lab\\Ball System_Raw Data\\8_closedLoop_FreqSampling_Stops\\FG_CL_FreqSample\\N1\\Ball\\A-10122022150852-0000.mp4\n",
      "Using snapshot-500000 for model C:\\DLC\\3D_8cam_vid\\camA_FS34_RN101-BidayeLab-2022-09-20\\dlc-models\\iteration-1\\camA_FS34_RN101Sep20-trainset95shuffle1\n",
      "Switching to numpy-based keypoint extraction code, as multiple point extraction is not supported by TF code currently.\n",
      "Extracting  20 instances per bodypart\n"
     ]
    },
    {
     "name": "stderr",
     "output_type": "stream",
     "text": [
      "C:\\ProgramData\\Anaconda3\\envs\\deeplabcut\\lib\\site-packages\\tensorflow\\python\\keras\\engine\\base_layer_v1.py:1694: UserWarning: `layer.apply` is deprecated and will be removed in a future version. Please use `layer.__call__` method instead.\n",
      "  warnings.warn('`layer.apply` is deprecated and '\n",
      "C:\\ProgramData\\Anaconda3\\envs\\deeplabcut\\lib\\site-packages\\tf_slim\\layers\\layers.py:684: UserWarning: `layer.apply` is deprecated and will be removed in a future version. Please use `layer.__call__` method instead.\n",
      "  outputs = layer.apply(inputs, training=is_training)\n"
     ]
    },
    {
     "name": "stdout",
     "output_type": "stream",
     "text": [
      "Starting to analyze %  \\\\mpfi.org\\public\\sb-lab\\Ball System_Raw Data\\8_closedLoop_FreqSampling_Stops\\FG_CL_FreqSample\\N1\\Ball\\A-10122022150852-0000.mp4\n",
      "Loading  \\\\mpfi.org\\public\\sb-lab\\Ball System_Raw Data\\8_closedLoop_FreqSampling_Stops\\FG_CL_FreqSample\\N1\\Ball\\A-10122022150852-0000.mp4\n",
      "Duration of video [s]:  70.8 , recorded with  200.0 fps!\n",
      "Overall # of frames:  14159  found with (before cropping) frame dimensions:  1440 1080\n",
      "Starting to extract posture\n"
     ]
    },
    {
     "name": "stderr",
     "output_type": "stream",
     "text": [
      "100%|███████████████████████████████████████████████████████████████████████████▋| 14100/14159 [14:47<00:03, 15.88it/s]\n"
     ]
    },
    {
     "name": "stdout",
     "output_type": "stream",
     "text": [
      "Saving results in \\\\mpfi.org\\public\\sb-lab\\Ball System_Raw Data\\8_closedLoop_FreqSampling_Stops\\FG_CL_FreqSample\\N1\\Ball...\n",
      "Saving csv poses!\n",
      "The videos are analyzed. Now your research can truly start! \n",
      " You can create labeled videos with 'create_labeled_video'\n",
      "If the tracking is not satisfactory for some videos, consider expanding the training set. You can use the function 'extract_outlier_frames' to extract a few representative outlier frames.\n",
      "Filtering with median model \\\\mpfi.org\\public\\sb-lab\\Ball System_Raw Data\\8_closedLoop_FreqSampling_Stops\\FG_CL_FreqSample\\N1\\Ball\\A-10122022150852-0000.mp4\n",
      "Saving filtered csv poses!\n",
      "idx: 1\n",
      "model_paths[idx]: C:\\DLC\\3D_8cam_vid\\3cam_BEH-BidayeLab-2022-09-16\n",
      "single_folder[idx]: \\\\mpfi.org\\public\\sb-lab\\Ball System_Raw Data\\8_closedLoop_FreqSampling_Stops\\FG_CL_FreqSample\\N1\\Ball\\B-10122022150856-0000.mp4\n",
      "Using snapshot-500000 for model C:\\DLC\\3D_8cam_vid\\3cam_BEH-BidayeLab-2022-09-16\\dlc-models\\iteration-0\\3cam_BEHSep16-trainset95shuffle1\n",
      "Switching to numpy-based keypoint extraction code, as multiple point extraction is not supported by TF code currently.\n",
      "Extracting  20 instances per bodypart\n"
     ]
    },
    {
     "name": "stderr",
     "output_type": "stream",
     "text": [
      "C:\\ProgramData\\Anaconda3\\envs\\deeplabcut\\lib\\site-packages\\tensorflow\\python\\keras\\engine\\base_layer_v1.py:1694: UserWarning: `layer.apply` is deprecated and will be removed in a future version. Please use `layer.__call__` method instead.\n",
      "  warnings.warn('`layer.apply` is deprecated and '\n",
      "C:\\ProgramData\\Anaconda3\\envs\\deeplabcut\\lib\\site-packages\\tf_slim\\layers\\layers.py:684: UserWarning: `layer.apply` is deprecated and will be removed in a future version. Please use `layer.__call__` method instead.\n",
      "  outputs = layer.apply(inputs, training=is_training)\n"
     ]
    },
    {
     "name": "stdout",
     "output_type": "stream",
     "text": [
      "Starting to analyze %  \\\\mpfi.org\\public\\sb-lab\\Ball System_Raw Data\\8_closedLoop_FreqSampling_Stops\\FG_CL_FreqSample\\N1\\Ball\\B-10122022150856-0000.mp4\n",
      "Loading  \\\\mpfi.org\\public\\sb-lab\\Ball System_Raw Data\\8_closedLoop_FreqSampling_Stops\\FG_CL_FreqSample\\N1\\Ball\\B-10122022150856-0000.mp4\n",
      "Duration of video [s]:  70.8 , recorded with  200.0 fps!\n",
      "Overall # of frames:  14159  found with (before cropping) frame dimensions:  1440 1080\n",
      "Starting to extract posture\n"
     ]
    },
    {
     "name": "stderr",
     "output_type": "stream",
     "text": [
      " 60%|██████████████████████████████████████████████                               | 8460/14159 [09:57<06:44, 14.08it/s]"
     ]
    }
   ],
   "source": [
    "videos_folders_path_foxglove = Path(r'\\\\mpfi.org\\public\\sb-lab\\Ball System_Raw Data\\8_closedLoop_FreqSampling_Stops\\FG_CL_FreqSample')\n",
    "\n",
    "analyze_new(videos_folders_path_foxglove)"
   ]
  },
  {
   "cell_type": "code",
   "execution_count": null,
   "id": "fd690562",
   "metadata": {},
   "outputs": [],
   "source": []
  }
 ],
 "metadata": {
  "kernelspec": {
   "display_name": "Python 3 (ipykernel)",
   "language": "python",
   "name": "python3"
  },
  "language_info": {
   "codemirror_mode": {
    "name": "ipython",
    "version": 3
   },
   "file_extension": ".py",
   "mimetype": "text/x-python",
   "name": "python",
   "nbconvert_exporter": "python",
   "pygments_lexer": "ipython3",
   "version": "3.8.12"
  }
 },
 "nbformat": 4,
 "nbformat_minor": 5
}
