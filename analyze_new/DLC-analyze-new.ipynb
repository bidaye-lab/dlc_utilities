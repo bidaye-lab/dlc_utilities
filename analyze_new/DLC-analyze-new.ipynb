{
 "cells": [
  {
   "cell_type": "code",
   "execution_count": 3,
   "id": "cb86991d",
   "metadata": {},
   "outputs": [
    {
     "name": "stdout",
     "output_type": "stream",
     "text": [
      "Loading DLC 2.3.5...\n"
     ]
    }
   ],
   "source": [
    "import deeplabcut\n",
    "import os\n",
    "import glob as glob\n",
    "from pathlib import Path"
   ]
  },
  {
   "cell_type": "code",
   "execution_count": 69,
   "id": "7f5c41ad",
   "metadata": {},
   "outputs": [],
   "source": [
    "def analyze_new(videos_folders_path):\n",
    "    \n",
    "    model_paths = {\n",
    "        'A': 'C:\\\\DLC\\\\3D_8cam_vid\\\\camA_FS34_RN101-BidayeLab-2022-09-20',\n",
    "        'B':'C:\\\\DLC\\\\3D_8cam_vid\\\\3cam_BEH-BidayeLab-2022-09-16',\n",
    "        'C':'C:\\\\DLC\\\\3D_8cam_vid\\\\camC_FS34_RN101-BidayeLab-2022-10-01',\n",
    "        'D':'C:\\\\DLC\\\\3D_8cam_vid\\\\camC_FS34_RN101-BidayeLab-2022-10-01',\n",
    "        'E':'C:\\\\DLC\\\\3D_8cam_vid\\\\3cam_BEH-BidayeLab-2022-09-16',\n",
    "        'F':'C:\\\\DLC\\\\3D_8cam_vid\\\\camF_FS34_RN101-BidayeLab-2022-10-01',\n",
    "        'G': 'blank',\n",
    "        'H':'C:\\\\DLC\\\\3D_8cam_vid\\\\3cam_BEH-BidayeLab-2022-09-16'\n",
    "    }\n",
    "\n",
    "    # model_paths = ['C:\\\\DLC\\\\3D_8cam_vid\\\\camA_FS34_RN101-BidayeLab-2022-09-20',\n",
    "    #               'C:\\\\DLC\\\\3D_8cam_vid\\\\3cam_BEH-BidayeLab-2022-09-16',\n",
    "    #               'C:\\\\DLC\\\\3D_8cam_vid\\\\camC_FS34_RN101-BidayeLab-2022-10-01',\n",
    "    #               'C:\\\\DLC\\\\3D_8cam_vid\\\\camD_FS34_RN101-BidayeLab-2022-09-20',\n",
    "    #               'C:\\\\DLC\\\\3D_8cam_vid\\\\3cam_BEH-BidayeLab-2022-09-16',\n",
    "    #               'C:\\\\DLC\\\\3D_8cam_vid\\\\camF_FS34_RN101-BidayeLab-2022-10-01',\n",
    "    #                'blank',\n",
    "    #               'C:\\\\DLC\\\\3D_8cam_vid\\\\3cam_BEH-BidayeLab-2022-09-16']\n",
    "    \n",
    "    video_folders = []\n",
    "    for i in videos_folders_path.glob('*/Ball'):\n",
    "        video_folders.append(i)\n",
    "    \n",
    "    for i in range(0, len(video_folders)):\n",
    "        single_folder = []\n",
    "        for idx in video_folders[i].glob('*.mp4'):\n",
    "            single_folder.append(idx)\n",
    "\n",
    "        for idx in single_folder:\n",
    "            print(f\"current movie {idx}\")\n",
    "            cam_type = str(idx)[0]\n",
    "            if cam_type not in model_paths:\n",
    "                print(\"Invalid camera type or movie file name\")\n",
    "            else:\n",
    "                print(f\"cam_type: {cam_type}\")\n",
    "            print(\"idx:\", idx)\n",
    "            if idx==6:\n",
    "                continue\n",
    "            # else:\n",
    "                # print(\"model_paths[idx]:\", model_paths[idx])\n",
    "                # print(\"single_folder[idx]:\", single_folder[idx])\n",
    "                # config_path = os.path.join(model_paths[idx], 'config.yaml')\n",
    "\n",
    "                # deeplabcut.analyze_videos(config_path, str(single_folder[idx]), save_as_csv=True)\n",
    "\n",
    "                # deeplabcut.filterpredictions(config_path, str(single_folder[idx]), save_as_csv=True)\n",
    "\n",
    "                # deeplabcut.create_labeled_video(config_path, [str(single_folder[idx])], videotype='.mp4', filtered=True)"
   ]
  },
  {
   "cell_type": "code",
   "execution_count": 40,
   "id": "2f37cf16",
   "metadata": {},
   "outputs": [],
   "source": [
    "videos_folders_path = Path(r'\\\\mpfi.org\\public\\sb-lab\\DLC-analyses\\new-video-analyses\\Files_For_Analysis\\10242022\\STOP-1_CL_FreqSampling')\n",
    "\n",
    "\n",
    "analyze_new(videos_folders_path)"
   ]
  },
  {
   "cell_type": "code",
   "execution_count": 39,
   "id": "e25f98cd",
   "metadata": {},
   "outputs": [],
   "source": [
    "videos_folders_path_foxglove = Path(r'\\\\mpfi.org\\public\\sb-lab\\Ball System_Raw Data\\8_closedLoop_FreqSampling_Stops\\FG_CL_FreqSample')\n",
    "\n",
    "analyze_new(videos_folders_path_foxglove)"
   ]
  },
  {
   "cell_type": "code",
   "execution_count": 70,
   "id": "fd690562",
   "metadata": {},
   "outputs": [
    {
     "name": "stdout",
     "output_type": "stream",
     "text": [
      "cam_type: C\n",
      "idx: C:\\Users\\ryabinkyj\\Documents\\testanalyze\\BIN1\\N1\\Ball\\A-04192023182728-0000.mp4\n",
      "cam_type: C\n",
      "idx: C:\\Users\\ryabinkyj\\Documents\\testanalyze\\BIN1\\N1\\Ball\\B-04192023182729-0000.mp4\n",
      "cam_type: C\n",
      "idx: C:\\Users\\ryabinkyj\\Documents\\testanalyze\\BIN1\\N1\\Ball\\C-04192023182749-0000.mp4\n",
      "cam_type: C\n",
      "idx: C:\\Users\\ryabinkyj\\Documents\\testanalyze\\BIN1\\N1\\Ball\\D-04192023182727-0000.mp4\n"
     ]
    }
   ],
   "source": [
    "videos_folders_path = Path(r'C:\\Users\\ryabinkyj\\Documents\\testanalyze\\BIN1')\n",
    "\n",
    "analyze_new(videos_folders_path)"
   ]
  }
 ],
 "metadata": {
  "kernelspec": {
   "display_name": "Python 3 (ipykernel)",
   "language": "python",
   "name": "python3"
  },
  "language_info": {
   "codemirror_mode": {
    "name": "ipython",
    "version": 3
   },
   "file_extension": ".py",
   "mimetype": "text/x-python",
   "name": "python",
   "nbconvert_exporter": "python",
   "pygments_lexer": "ipython3",
   "version": "3.8.12"
  }
 },
 "nbformat": 4,
 "nbformat_minor": 5
}
