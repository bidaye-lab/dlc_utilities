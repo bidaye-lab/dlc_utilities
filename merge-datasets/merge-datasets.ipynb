{
 "cells": [
  {
   "cell_type": "code",
   "execution_count": null,
   "id": "fc59ebdc",
   "metadata": {},
   "outputs": [],
   "source": [
    "# import relevant libraries\n",
    "import os\n",
    "import copy\n",
    "import glob\n",
    "import pandas as pd"
   ]
  },
  {
   "cell_type": "code",
   "execution_count": null,
   "id": "93c58085",
   "metadata": {},
   "outputs": [],
   "source": [
    "# function to merge separated columns of data for a single deeplabcut project\n",
    "def merge_video_data(path, template_path, output_path):\n",
    "    \n",
    "    # get file paths of all CollectedData_BidayeLab.csv files\n",
    "    print(\"Collecting data from\", os.path.join(path, '*/labeled-data/*/*.csv'))\n",
    "    un_collected_data = glob.glob(os.path.join(path, '*/labeled-data/*/*.csv'))\n",
    "    \n",
    "    # note: this will need to be changed depending on the number of videos\n",
    "    num_videos = 3\n",
    "    \n",
    "    # organize this data by video (sequentially cluster videos for all legs)\n",
    "    collected_data = []\n",
    "    for i in range(0,num_videos+1):\n",
    "        for j in range(i,len(un_collected_data),num_videos):\n",
    "            collected_data.append(un_collected_data[j])\n",
    "    \n",
    "    # further organize data into list clusters\n",
    "    for i in range(0, len(collected_data)):\n",
    "        collected_data[i]=collected_data[i].split(\"\\\\\")\n",
    "    \n",
    "    # put common legs into lists\n",
    "    collected_data_new = []\n",
    "    temp = []\n",
    "    for i in range(0, len(collected_data)):\n",
    "        if len(temp)==0:\n",
    "            temp.append(collected_data[i])\n",
    "        elif collected_data[i][-2]==temp[0][-2]:\n",
    "            temp.append(collected_data[i])\n",
    "        else:\n",
    "            collected_data_new.append(temp)\n",
    "            temp = []\n",
    "            temp.append(collected_data[i])\n",
    "    \n",
    "    # replace collected_data variable\n",
    "    collected_data = collected_data_new\n",
    "    \n",
    "    # combine data for each list of video files and save\n",
    "    for i in range(0,len(collected_data)):\n",
    "        # import the template\n",
    "        cam = pd.read_csv(template_path, header=None)\n",
    "        \n",
    "        # replace first three columns of template with file/img names from the data\n",
    "        cam = pd.concat([cam, pd.read_csv(os.path.join(*collected_data[i][0]),header=None).loc[3:, 0:2]])\n",
    "        \n",
    "        # get all joint headers\n",
    "        joint_headers = cam.loc[1, :].to_list()\n",
    "        \n",
    "        # merge legs from single video (collected_data[i]) into csv\n",
    "        for leg in collected_data[i]:\n",
    "            \n",
    "            # get csv file data for given leg\n",
    "            leg = pd.read_csv(os.path.join(*leg), header=None)\n",
    "            \n",
    "            for i in range(3, len(leg.loc[:, 3:].columns)+3,2):\n",
    "                \n",
    "                # get index of current leg's headers in the template\n",
    "                current_leg = leg.loc[1, i]\n",
    "                idx = cam.loc[1, :].to_list().index(str(current_leg))\n",
    "                \n",
    "                # concatenate leg data to the template based on index of headers\n",
    "                cam.loc[:,idx] = pd.concat([cam.loc[:2, idx], leg.loc[3:, i]])\n",
    "                cam.loc[:,idx+1] = pd.concat([cam.loc[:2, idx+1], leg.loc[3:, i+1]])\n",
    "        \n",
    "        # save data for a video to corresponding labeled-data folder\n",
    "        print(\"Saving to\", str(output_path)+str(cam.loc[3,1])+'/CollectedData_BidayeLab.csv')\n",
    "        cam.to_csv(str(output_path)+str(cam.loc[3,1])+'/CollectedData_BidayeLab.csv', header=False, index=False)"
   ]
  },
  {
   "cell_type": "code",
   "execution_count": null,
   "id": "91b0c4af",
   "metadata": {},
   "outputs": [],
   "source": [
    "# path: main folder that contains individual project folders corresponding to each leg\n",
    "path = 'C:/dlc-utilities/merge-datasets/example/1-camA-Kate'\n",
    "\n",
    "# template_path: template with manually-defined order of joint names\n",
    "template_path = 'C:/dlc-utilities/merge-datasets/example/cam-template.csv'\n",
    "\n",
    "# output_path: labeled_data folder containing individual video folders in which the filled csvs will be saved\n",
    "output_path = 'C:/dlc-utilities/merge-datasets/example/camA_combined/labeled-data/'\n",
    "\n",
    "# function call to the merge_video_data function, merging the datasets\n",
    "merge_video_data(path, template_path, output_path)"
   ]
  },
  {
   "cell_type": "code",
   "execution_count": null,
   "id": "f8c79a16",
   "metadata": {},
   "outputs": [],
   "source": [
    "# convertcsv2h5() is a deeplabcut function to convert the csv files in labeled-data folders to required h5 files\n",
    "# note: need all files in a deeplabcut structure to run (copy labeled-data folder to a deeplabcut structure)\n",
    "# deeplabcut.convertcsv2h5(config_path)"
   ]
  }
 ],
 "metadata": {
  "kernelspec": {
   "display_name": "Python [conda env:DEEPLABCUTGPU]",
   "language": "python",
   "name": "conda-env-DEEPLABCUTGPU-py"
  },
  "language_info": {
   "codemirror_mode": {
    "name": "ipython",
    "version": 3
   },
   "file_extension": ".py",
   "mimetype": "text/x-python",
   "name": "python",
   "nbconvert_exporter": "python",
   "pygments_lexer": "ipython3",
   "version": "3.8.13"
  }
 },
 "nbformat": 4,
 "nbformat_minor": 5
}
