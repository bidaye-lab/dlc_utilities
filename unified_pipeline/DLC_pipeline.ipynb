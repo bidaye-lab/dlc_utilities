{
 "cells": [
  {
   "attachments": {},
   "cell_type": "markdown",
   "metadata": {},
   "source": [
    "# DLC/ANIPOSE PIPELINE\n",
    "\n",
    "Automatically converts fly videos to estimated 3D coordinates using DeepLabCut and Anipose"
   ]
  },
  {
   "cell_type": "code",
   "execution_count": null,
   "metadata": {},
   "outputs": [],
   "source": [
    "import logging\n",
    "logger = logging.getLogger()\n",
    "logger.setLevel(logging.WARNING)\n",
    "logging.debug(\"Logging works :)\")"
   ]
  },
  {
   "cell_type": "code",
   "execution_count": null,
   "metadata": {},
   "outputs": [
    {
     "name": "stdout",
     "output_type": "stream",
     "text": [
      "The autoreload extension is already loaded. To reload it, use:\n",
      "  %reload_ext autoreload\n"
     ]
    }
   ],
   "source": [
    "# Next two lines are for dev purposes only \n",
    "%load_ext autoreload\n",
    "%autoreload 2\n",
    "from pathlib import Path\n",
    "from dlc import analyze_new\n",
    "from preprocess import run_preprocessing\n",
    "import utils"
   ]
  },
  {
   "attachments": {},
   "cell_type": "markdown",
   "metadata": {},
   "source": [
    "### STEP 0: Configuration\n",
    "\n",
    "- Add filepath to DLC network config files (e.g `dlc_networks.yml`)\n",
    "- Add filepath to folder with experiment videos"
   ]
  },
  {
   "cell_type": "code",
   "execution_count": 9,
   "metadata": {},
   "outputs": [],
   "source": [
    "# Set the filepath to the geontype folder containing videos\n",
    "videos = r\"\"\n",
    "videos = Path(videos)\n",
    "\n",
    "\n",
    "p_networks = Path(r'./common_files/dlc_networks.yml')"
   ]
  },
  {
   "attachments": {},
   "cell_type": "markdown",
   "metadata": {},
   "source": [
    "### STEP 1: Running DeepLabCut\n",
    "\n",
    "This will run on a directory with fly video files and generate DLC pose estimations, outputting to the same directory.\n",
    "\n",
    "##### Processing done:\n",
    "- DeepLabCut `analyze_videos`\n",
    "- DeepLabCut `filterpredictions`"
   ]
  },
  {
   "cell_type": "code",
   "execution_count": null,
   "metadata": {},
   "outputs": [],
   "source": [
    "analyze_new(videos, p_networks)\n",
    "print(\"Finished DLC analysis...\")"
   ]
  },
  {
   "attachments": {},
   "cell_type": "markdown",
   "metadata": {},
   "source": [
    "### STEP 2: Preprocessing for anipose\n",
    "\n",
    "##### Processing done:\n",
    "- Fix points\n",
    "- Remove columns\n",
    "- Rename (GenotypeFly#-CamName)\n",
    "- Convert to .h5\n",
    "- Generate anipose file structure"
   ]
  },
  {
   "cell_type": "code",
   "execution_count": null,
   "metadata": {},
   "outputs": [],
   "source": [
    "run_preprocessing(videos, p_networks)"
   ]
  }
 ],
 "metadata": {
  "kernelspec": {
   "display_name": "DEEPLABCUT",
   "language": "python",
   "name": "python3"
  },
  "language_info": {
   "codemirror_mode": {
    "name": "ipython",
    "version": 3
   },
   "file_extension": ".py",
   "mimetype": "text/x-python",
   "name": "python",
   "nbconvert_exporter": "python",
   "pygments_lexer": "ipython3",
   "version": "3.8.16"
  },
  "orig_nbformat": 4
 },
 "nbformat": 4,
 "nbformat_minor": 2
}
