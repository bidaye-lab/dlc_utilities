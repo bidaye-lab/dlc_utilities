{
 "cells": [
  {
   "attachments": {},
   "cell_type": "markdown",
   "metadata": {},
   "source": [
    "# DLC/ANIPOSE PIPELINE\n",
    "\n",
    "Automatically converts fly videos to estimated 3D coordinates using DeepLabCut and Anipose"
   ]
  },
  {
   "cell_type": "code",
   "execution_count": null,
   "metadata": {},
   "outputs": [],
   "source": [
    "#TODO: implement steps\n",
    "\n",
    "# Run DLC on video files\n",
    "- cfg for network dirs\n",
    "- file path to video files\n",
    "\n",
    "# Rest should work with the file path provided above\n",
    "# Preprocess\n",
    "\n",
    "# Convert to h5\n",
    "\n",
    "# Generate Anipose file structure\n",
    "\n",
    "# Run Anipose functions"
   ]
  },
  {
   "cell_type": "code",
   "execution_count": 1,
   "metadata": {},
   "outputs": [
    {
     "name": "stdout",
     "output_type": "stream",
     "text": [
      "Loading DLC 2.3.5...\n"
     ]
    }
   ],
   "source": [
    "%load_ext autoreload\n",
    "%autoreload 2\n",
    "from pathlib import Path\n",
    "from dlc import analyze_new\n",
    "from preprocess import fix_point, remove_cols, df2hdf, gen_anipose_files\n",
    "import utils"
   ]
  },
  {
   "attachments": {},
   "cell_type": "markdown",
   "metadata": {},
   "source": [
    "### STEP 0: Configuration\n",
    "\n",
    "- Add filepath to DLC network config files (e.g `dlc_networks.yml`)\n",
    "- Add filepath to folder with experiment videos"
   ]
  },
  {
   "cell_type": "code",
   "execution_count": null,
   "metadata": {},
   "outputs": [],
   "source": [
    "# Filepath to DLC network config file\n",
    "networks = r\"C:\\Users\\ryabinkyj\\Documents\\dlc-utils\\unified_pipeline\\configs\\dlc_networks.yml\"\n",
    "networks = Path(networks)\n",
    "\n",
    "# Filepath to the video folder\n",
    "videos = r\"\"\n",
    "videos = Path(videos)\n"
   ]
  },
  {
   "attachments": {},
   "cell_type": "markdown",
   "metadata": {},
   "source": [
    "### STEP 1: Running DeepLabCut\n",
    "\n",
    "This will run on a directory with fly video files and generate DLC pose estimations, outputting to the same directory.\n",
    "\n",
    "##### Processing done:\n",
    "- DeepLabCut `analyze_videos`\n",
    "- DeepLabCut `filterpredictions`"
   ]
  },
  {
   "cell_type": "code",
   "execution_count": null,
   "metadata": {},
   "outputs": [],
   "source": [
    "analyze_new(videos, networks)"
   ]
  },
  {
   "attachments": {},
   "cell_type": "markdown",
   "metadata": {},
   "source": [
    "### STEP 2: Preprocessing for anipose\n",
    "\n",
    "##### Processing done:\n",
    "- Fix points\n",
    "- Remove columns\n",
    "- Rename (GenotypeFly#-CamName)\n",
    "- Convert to .h5\n",
    "- Generate anipose file structure"
   ]
  },
  {
   "cell_type": "code",
   "execution_count": null,
   "metadata": {},
   "outputs": [],
   "source": [
    "# TODO: will probably handle all 3 below from a single directory\n",
    "p_anipose_config = Path(r\"\") # enter the path to the anipose config file\n",
    "p_calibration_target = Path(r\"\") # enter the path to the calibration target config file \n",
    "p_calibration_timeline = Path(r\"\") # enter the path to the calibration timeline config file\n",
    "\n",
    "error = False\n",
    "\n",
    "# find all the CSVs that DLC generated\n",
    "parent_dir = \"\"\n",
    "for p_csv in utils.get_csvs(videos):\n",
    "    parent_dir = p_csv.parent.parent.parent\n",
    "\n",
    "    # Pick current generated, filtered CSV \n",
    "    \n",
    "    # TODO: also check for cam name and model name\n",
    "    csv_name = p_csv.stem\n",
    "    if \"filtered\" not in csv_name:\n",
    "        continue\n",
    "\n",
    "    print(f\"[INFO] Processing {p_csv.name}\")\n",
    "    csv_df = utils.load_csv_as_df(p_csv)\n",
    "\n",
    "    # Fix points\n",
    "    print(\"[INFO] Running `Fix points` preprocessing...\")\n",
    "    col_name = 'F-TaG' # Enter column name to match for removal \n",
    "    n = 1 # Values will be replaced with the nth entry. To replace with the mean, use n=0\n",
    "    csv_df = fix_point(csv_df, col_name, n)\n",
    "\n",
    "    # Remove cols \n",
    "    print(\"[INFO] Running `Remove cols` preprocessing...\")\n",
    "    start1 = 'L' # Remove col if start of name matches string\n",
    "    start2 = 'R' # Remove col if start of name matches string\n",
    "    end = '' # Remove col if end of name matches string\n",
    "    csv_df = remove_cols(csv_df, start1, end)\n",
    "    csv_df = remove_cols(csv_df, start2, end)\n",
    "\n",
    "    # Rename and convert to .h5 (saves to original directory)\n",
    "    print(\"[INFO] Converting CSV to HDF...\")\n",
    "    root = Path(r'\\\\mpfi.org\\public\\sb-lab\\BallSystem_RawData')\n",
    "    print(f\"[INFO] Using root path {root}\")\n",
    "    if df2hdf(csv_df, p_csv, root): # error occured\n",
    "        error = True\n",
    "\n",
    "\n",
    "# Generate anipose file structure\n",
    "if not error:\n",
    "    print(\"[INFO] Generating anipose files...\")\n",
    "    gen_anipose_files(parent_dir, networks, p_anipose_config, p_calibration_target, p_calibration_timeline)\n",
    "\n",
    "    print('Finished preprocessing...')\n",
    "else:\n",
    "    print(\"Terminated due to error\")\n"
   ]
  }
 ],
 "metadata": {
  "kernelspec": {
   "display_name": "DEEPLABCUT",
   "language": "python",
   "name": "python3"
  },
  "language_info": {
   "codemirror_mode": {
    "name": "ipython",
    "version": 3
   },
   "file_extension": ".py",
   "mimetype": "text/x-python",
   "name": "python",
   "nbconvert_exporter": "python",
   "pygments_lexer": "ipython3",
   "version": "3.8.16"
  },
  "orig_nbformat": 4
 },
 "nbformat": 4,
 "nbformat_minor": 2
}
