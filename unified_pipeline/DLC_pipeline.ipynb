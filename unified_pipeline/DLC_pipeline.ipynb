{
 "cells": [
  {
   "attachments": {},
   "cell_type": "markdown",
   "metadata": {},
   "source": [
    "# DLC/ANIPOSE PIPELINE\n",
    "\n",
    "Automatically converts fly videos to estimated 3D coordinates using DeepLabCut and Anipose"
   ]
  },
  {
   "cell_type": "code",
   "execution_count": null,
   "metadata": {},
   "outputs": [],
   "source": [
    "import logging\n",
    "logger = logging.getLogger()\n",
    "logger.setLevel(logging.WARNING)\n",
    "logging.debug(\"Logging works :)\")"
   ]
  },
  {
   "cell_type": "code",
   "execution_count": null,
   "metadata": {},
   "outputs": [
    {
     "name": "stdout",
     "output_type": "stream",
     "text": [
      "The autoreload extension is already loaded. To reload it, use:\n",
      "  %reload_ext autoreload\n"
     ]
    }
   ],
   "source": [
    "# Next two lines are for dev purposes only \n",
    "%load_ext autoreload\n",
    "%autoreload 2\n",
    "from pathlib import Path\n",
    "from dlc import analyze_new\n",
    "from preprocess import gen_anipose_files, clean_dfs \n",
    "import utils"
   ]
  },
  {
   "attachments": {},
   "cell_type": "markdown",
   "metadata": {},
   "source": [
    "### STEP 0: Configuration\n",
    "\n",
    "- Add filepath to DLC network config files (e.g `dlc_networks.yml`)\n",
    "- Add filepath to folder with experiment videos"
   ]
  },
  {
   "cell_type": "code",
   "execution_count": 9,
   "metadata": {},
   "outputs": [],
   "source": [
    "# Set the filepath to the geontype folder containing videos\n",
    "videos = r\"\"\n",
    "videos = Path(videos)\n",
    "\n",
    "\n",
    "p_networks = Path(r'./common_files/dlc_networks.yml')"
   ]
  },
  {
   "attachments": {},
   "cell_type": "markdown",
   "metadata": {},
   "source": [
    "### STEP 1: Running DeepLabCut\n",
    "\n",
    "This will run on a directory with fly video files and generate DLC pose estimations, outputting to the same directory.\n",
    "\n",
    "##### Processing done:\n",
    "- DeepLabCut `analyze_videos`\n",
    "- DeepLabCut `filterpredictions`"
   ]
  },
  {
   "cell_type": "code",
   "execution_count": null,
   "metadata": {},
   "outputs": [],
   "source": [
    "analyze_new(videos, p_networks)\n",
    "print(\"Finished DLC analysis...\")"
   ]
  },
  {
   "attachments": {},
   "cell_type": "markdown",
   "metadata": {},
   "source": [
    "### STEP 2: Preprocessing for anipose\n",
    "\n",
    "##### Processing done:\n",
    "- Fix points\n",
    "- Remove columns\n",
    "- Rename (GenotypeFly#-CamName)\n",
    "- Convert to .h5\n",
    "- Generate anipose file structure"
   ]
  },
  {
   "cell_type": "code",
   "execution_count": null,
   "metadata": {},
   "outputs": [],
   "source": [
    "error = False\n",
    "\n",
    "# find all the CSVs that DLC generated\n",
    "processed_dirs = {}\n",
    "for p_csv in utils.get_csvs(videos): # get all CSVs\n",
    "    parent_dir = p_csv.parent.parent.parent\n",
    "\n",
    "    # Pick current generated, filtered CSV \n",
    "    \n",
    "    # TODO: also check for cam name and model name\n",
    "    csv_name = p_csv.stem\n",
    "    if \"filtered\" not in csv_name:\n",
    "        # only run on filtered CSVs\n",
    "        continue\n",
    "\n",
    "    # Fix points, remove columns \n",
    "    csv_df = clean_dfs(p_csv)\n",
    "\n",
    "    processed_csv = (csv_df, p_csv)\n",
    "    if parent_dir in processed_dirs:\n",
    "        processed_dirs[parent_dir].append(processed_csv) # Append to list of processed CSVs under that parent directory\n",
    "    else:\n",
    "        processed_dirs[parent_dir] = [processed_csv] # Create list of processed CSVs under that parent directory\n",
    "\n",
    "# Generate anipose file structure\n",
    "p_calibration_target = Path(r\"./common_files/calibration_target.yml\") # calibration target config file \n",
    "p_calibration_timeline = Path(r\"./common_files/calib_timeline.yml\") # calibration timeline config file\n",
    "p_gcam_dummy = Path(r\"./common_files/GenotypeFly-G.h5\") # Dummy file for G camera (top-down view)\n",
    "\n",
    "# check that all the files exist\n",
    "if not p_calibration_target.exists():\n",
    "    logging.error(\"`calibration_target.yml` does not exist.\")\n",
    "    error = True\n",
    "if not p_calibration_timeline.exists():\n",
    "    logging.error(\"`calib_timeline.yml` does not exist.\")\n",
    "    error = True\n",
    "if not p_gcam_dummy.exists():\n",
    "    logging.error(\"`GenotypeFly-G.h5` (G camera dummy file) does not exist.\")\n",
    "    error = True\n",
    "\n",
    "if not error:\n",
    "    logging.info(\"Generating anipose files...\")\n",
    "    for parent_dir, processed_csvs in processed_dirs:\n",
    "        if not gen_anipose_files(parent_dir, p_networks, p_calibration_target, p_calibration_timeline, processed_csvs, p_gcam_dummy):\n",
    "            # TODO: gen_anipose_files needs to return somethng when it finishes (maybe directory where it was generated)\n",
    "            print(f\"[WARNING] Skipped anipose generation for {parent_dir}\")\n",
    "    print('Finished preprocessing...')\n",
    "else:\n",
    "    print(\"Terminated due to error.\")"
   ]
  }
 ],
 "metadata": {
  "kernelspec": {
   "display_name": "DEEPLABCUT",
   "language": "python",
   "name": "python3"
  },
  "language_info": {
   "codemirror_mode": {
    "name": "ipython",
    "version": 3
   },
   "file_extension": ".py",
   "mimetype": "text/x-python",
   "name": "python",
   "nbconvert_exporter": "python",
   "pygments_lexer": "ipython3",
   "version": "3.8.16"
  },
  "orig_nbformat": 4
 },
 "nbformat": 4,
 "nbformat_minor": 2
}
