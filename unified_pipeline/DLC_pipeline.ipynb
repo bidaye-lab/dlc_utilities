{
 "cells": [
  {
   "attachments": {},
   "cell_type": "markdown",
   "metadata": {},
   "source": [
    "# DLC/ANIPOSE PIPELINE\n",
    "\n",
    "Automatically converts fly videos to estimated 3D coordinates using DeepLabCut and Anipose"
   ]
  },
  {
   "cell_type": "code",
   "execution_count": 8,
   "metadata": {},
   "outputs": [
    {
     "name": "stdout",
     "output_type": "stream",
     "text": [
      "The autoreload extension is already loaded. To reload it, use:\n",
      "  %reload_ext autoreload\n"
     ]
    }
   ],
   "source": [
    "%load_ext autoreload\n",
    "%autoreload 2\n",
    "from pathlib import Path\n",
    "from dlc import analyze_new\n",
    "from preprocess import gen_anipose_files, clean_dfs \n",
    "import utils"
   ]
  },
  {
   "attachments": {},
   "cell_type": "markdown",
   "metadata": {},
   "source": [
    "### STEP 0: Configuration\n",
    "\n",
    "- Add filepath to DLC network config files (e.g `dlc_networks.yml`)\n",
    "- Add filepath to folder with experiment videos"
   ]
  },
  {
   "cell_type": "code",
   "execution_count": 9,
   "metadata": {},
   "outputs": [],
   "source": [
    "# Filepath to the geontype folder containing videos\n",
    "videos = r\"C:\\Users\\ryabinkyj\\Documents\\testanalyze\\RawData\\BIN-1\"\n",
    "videos = Path(videos)\n",
    "\n",
    "p_networks = Path(r'./common_files/dlc_networks.yml')"
   ]
  },
  {
   "attachments": {},
   "cell_type": "markdown",
   "metadata": {},
   "source": [
    "### STEP 1: Running DeepLabCut\n",
    "\n",
    "This will run on a directory with fly video files and generate DLC pose estimations, outputting to the same directory.\n",
    "\n",
    "##### Processing done:\n",
    "- DeepLabCut `analyze_videos`\n",
    "- DeepLabCut `filterpredictions`"
   ]
  },
  {
   "cell_type": "code",
   "execution_count": null,
   "metadata": {},
   "outputs": [],
   "source": [
    "analyze_new(videos, p_networks)"
   ]
  },
  {
   "attachments": {},
   "cell_type": "markdown",
   "metadata": {},
   "source": [
    "### STEP 2: Preprocessing for anipose\n",
    "\n",
    "##### Processing done:\n",
    "- Fix points\n",
    "- Remove columns\n",
    "- Rename (GenotypeFly#-CamName)\n",
    "- Convert to .h5\n",
    "- Generate anipose file structure"
   ]
  },
  {
   "cell_type": "code",
   "execution_count": 11,
   "metadata": {},
   "outputs": [
    {
     "ename": "AttributeError",
     "evalue": "'str' object has no attribute 'parents'",
     "output_type": "error",
     "traceback": [
      "\u001b[1;31m---------------------------------------------------------------------------\u001b[0m",
      "\u001b[1;31mAttributeError\u001b[0m                            Traceback (most recent call last)",
      "Cell \u001b[1;32mIn[11], line 26\u001b[0m\n\u001b[0;32m     24\u001b[0m p_calibration_timeline \u001b[39m=\u001b[39m Path(\u001b[39mr\u001b[39m\u001b[39m\"\u001b[39m\u001b[39m./common_files/calib_timeline.yml\u001b[39m\u001b[39m\"\u001b[39m) \u001b[39m# calibration timeline config file\u001b[39;00m\n\u001b[0;32m     25\u001b[0m p_gcam_dummy \u001b[39m=\u001b[39m Path(\u001b[39mr\u001b[39m\u001b[39m\"\u001b[39m\u001b[39m./GenotypeFly-G.h5\u001b[39m\u001b[39m\"\u001b[39m) \u001b[39m# Dummy file for G camera (top-down view)\u001b[39;00m\n\u001b[1;32m---> 26\u001b[0m calibration_type \u001b[39m=\u001b[39m utils\u001b[39m.\u001b[39;49mget_calibration_type(p_calibration_target, parent_dir)\n\u001b[0;32m     27\u001b[0m \u001b[39mif\u001b[39;00m calibration_type \u001b[39m==\u001b[39m \u001b[39m'\u001b[39m\u001b[39mfly\u001b[39m\u001b[39m'\u001b[39m:\n\u001b[0;32m     28\u001b[0m     p_anipose_config \u001b[39m=\u001b[39m Path(\u001b[39mr\u001b[39m\u001b[39m\"\u001b[39m\u001b[39m./common_files/config_fly.toml\u001b[39m\u001b[39m\"\u001b[39m) \u001b[39m# anipose config file\u001b[39;00m\n",
      "File \u001b[1;32mc:\\Users\\ryabinkyj\\Documents\\dlc-utils\\unified_pipeline\\utils.py:117\u001b[0m, in \u001b[0;36mget_calibration_type\u001b[1;34m(p_calibration_target, p_project_dir)\u001b[0m\n\u001b[0;32m    114\u001b[0m board_paths \u001b[39m=\u001b[39m calibration_target_config[\u001b[39m'\u001b[39m\u001b[39mboard\u001b[39m\u001b[39m'\u001b[39m] \u001b[39m# all the file paths that use a board calibration\u001b[39;00m\n\u001b[0;32m    115\u001b[0m fly_paths \u001b[39m=\u001b[39m calibration_target_config[\u001b[39m'\u001b[39m\u001b[39mfly\u001b[39m\u001b[39m'\u001b[39m] \u001b[39m# all the file paths that use a fly calibration\u001b[39;00m\n\u001b[1;32m--> 117\u001b[0m \u001b[39mif\u001b[39;00m \u001b[39many\u001b[39;49m(\u001b[39mstr\u001b[39;49m(p_project_dir) \u001b[39m==\u001b[39;49m path \u001b[39mor\u001b[39;49;00m Path(path) \u001b[39min\u001b[39;49;00m p_project_dir\u001b[39m.\u001b[39;49mparents  \u001b[39mfor\u001b[39;49;00m path \u001b[39min\u001b[39;49;00m board_paths):\n\u001b[0;32m    118\u001b[0m     \u001b[39mreturn\u001b[39;00m \u001b[39m\"\u001b[39m\u001b[39mboard\u001b[39m\u001b[39m\"\u001b[39m\n\u001b[0;32m    119\u001b[0m \u001b[39melif\u001b[39;00m \u001b[39many\u001b[39m(\u001b[39mstr\u001b[39m(p_project_dir) \u001b[39m==\u001b[39m path \u001b[39mor\u001b[39;00m Path(path) \u001b[39min\u001b[39;00m p_project_dir\u001b[39m.\u001b[39mparents  \u001b[39mfor\u001b[39;00m path \u001b[39min\u001b[39;00m fly_paths):\n",
      "File \u001b[1;32mc:\\Users\\ryabinkyj\\Documents\\dlc-utils\\unified_pipeline\\utils.py:117\u001b[0m, in \u001b[0;36m<genexpr>\u001b[1;34m(.0)\u001b[0m\n\u001b[0;32m    114\u001b[0m board_paths \u001b[39m=\u001b[39m calibration_target_config[\u001b[39m'\u001b[39m\u001b[39mboard\u001b[39m\u001b[39m'\u001b[39m] \u001b[39m# all the file paths that use a board calibration\u001b[39;00m\n\u001b[0;32m    115\u001b[0m fly_paths \u001b[39m=\u001b[39m calibration_target_config[\u001b[39m'\u001b[39m\u001b[39mfly\u001b[39m\u001b[39m'\u001b[39m] \u001b[39m# all the file paths that use a fly calibration\u001b[39;00m\n\u001b[1;32m--> 117\u001b[0m \u001b[39mif\u001b[39;00m \u001b[39many\u001b[39m(\u001b[39mstr\u001b[39m(p_project_dir) \u001b[39m==\u001b[39m path \u001b[39mor\u001b[39;00m Path(path) \u001b[39min\u001b[39;00m p_project_dir\u001b[39m.\u001b[39;49mparents  \u001b[39mfor\u001b[39;00m path \u001b[39min\u001b[39;00m board_paths):\n\u001b[0;32m    118\u001b[0m     \u001b[39mreturn\u001b[39;00m \u001b[39m\"\u001b[39m\u001b[39mboard\u001b[39m\u001b[39m\"\u001b[39m\n\u001b[0;32m    119\u001b[0m \u001b[39melif\u001b[39;00m \u001b[39many\u001b[39m(\u001b[39mstr\u001b[39m(p_project_dir) \u001b[39m==\u001b[39m path \u001b[39mor\u001b[39;00m Path(path) \u001b[39min\u001b[39;00m p_project_dir\u001b[39m.\u001b[39mparents  \u001b[39mfor\u001b[39;00m path \u001b[39min\u001b[39;00m fly_paths):\n",
      "\u001b[1;31mAttributeError\u001b[0m: 'str' object has no attribute 'parents'"
     ]
    }
   ],
   "source": [
    "# TODO: will probably handle all 3 below from a single directory\n",
    "error = False\n",
    "\n",
    "# find all the CSVs that DLC generated\n",
    "processed_csvs = []\n",
    "parent_dir = \"\"\n",
    "for p_csv in utils.get_csvs(videos):\n",
    "    parent_dir = p_csv.parent.parent.parent\n",
    "\n",
    "    # Pick current generated, filtered CSV \n",
    "    \n",
    "    # TODO: also check for cam name and model name\n",
    "    csv_name = p_csv.stem\n",
    "    if \"filtered\" not in csv_name:\n",
    "        continue\n",
    "\n",
    "    # Fix points, remove columns \n",
    "    csv_df = clean_dfs(p_csv)\n",
    "    \n",
    "    processed_csvs.append((csv_df, p_csv))\n",
    "\n",
    "# Generate anipose file structure\n",
    "p_calibration_target = Path(r\"./common_files/calibration_target.yml\") # calibration target config file \n",
    "p_calibration_timeline = Path(r\"./common_files/calib_timeline.yml\") # calibration timeline config file\n",
    "p_gcam_dummy = Path(r\"./GenotypeFly-G.h5\") # Dummy file for G camera (top-down view)\n",
    "calibration_type = utils.get_calibration_type(p_calibration_target, parent_dir)\n",
    "if calibration_type == 'fly':\n",
    "    p_anipose_config = Path(r\"./common_files/config_fly.toml\") # anipose config file\n",
    "elif calibration_type == 'board':\n",
    "    p_anipose_config = Path(r\"./common_files/config_board.toml\") # anipose config file\n",
    "else:\n",
    "    print(f\"[ERROR] Invalid calibration type or calibration type not specified in {p_calibration_target}\")\n",
    "    error = True\n",
    "\n",
    "# check that all the files exist\n",
    "if not p_calibration_target.exists():\n",
    "    print(\"[ERROR] `calibration_target.yml` does not exist.\")\n",
    "    error = True\n",
    "if not p_calibration_timeline.exists():\n",
    "    print(\"[ERROR] `calib_timeline.yml` does not exist.\")\n",
    "    error = True\n",
    "if not p_gcam_dummy.exists():\n",
    "    print(\"[ERROR] `GenotypeFly-G.h5` (G camera dummy file) does not exist.\")\n",
    "    error = True\n",
    "\n",
    "if not error:\n",
    "    print(\"[INFO] Generating anipose files...\")\n",
    "    gen_anipose_files(parent_dir, p_networks, p_anipose_config, p_calibration_target, p_calibration_timeline, processed_csvs, p_gcam_dummy)\n",
    "\n",
    "    print('Finished preprocessing...')\n",
    "else:\n",
    "    print(\"Terminated due to error\")"
   ]
  }
 ],
 "metadata": {
  "kernelspec": {
   "display_name": "DEEPLABCUT",
   "language": "python",
   "name": "python3"
  },
  "language_info": {
   "codemirror_mode": {
    "name": "ipython",
    "version": 3
   },
   "file_extension": ".py",
   "mimetype": "text/x-python",
   "name": "python",
   "nbconvert_exporter": "python",
   "pygments_lexer": "ipython3",
   "version": "3.8.13"
  },
  "orig_nbformat": 4
 },
 "nbformat": 4,
 "nbformat_minor": 2
}
