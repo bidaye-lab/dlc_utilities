{
 "cells": [
  {
   "attachments": {},
   "cell_type": "markdown",
   "metadata": {},
   "source": [
    "# Run Anipose"
   ]
  },
  {
   "cell_type": "code",
   "execution_count": null,
   "metadata": {
    "vscode": {
     "languageId": "plaintext"
    }
   },
   "outputs": [],
   "source": [
    "from anipose import run\n",
    "from pathlib import Path\n",
    "\n",
    "# Enter the path to the parent directory\n",
    "parent_dir = r\"\"\n",
    "\n",
    "run(Path(parent_dir))"
   ]
  }
 ],
 "metadata": {
  "language_info": {
   "name": "python"
  },
  "orig_nbformat": 4
 },
 "nbformat": 4,
 "nbformat_minor": 2
}
