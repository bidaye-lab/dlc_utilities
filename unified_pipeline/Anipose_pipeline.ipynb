{
 "cells": [
  {
   "attachments": {},
   "cell_type": "markdown",
   "metadata": {},
   "source": [
    "# Run Anipose\n",
    "\n",
    "##### Anipose will be run on all anipose projects found within the provided parent directory if \n",
    "1. The correct anipose file structure is discovered\n",
    "2. Anipose has not been run in that subdirectory before\n",
    "\n",
    "##### Commands Run\n",
    "- `anipose filter`\n",
    "- `anipose triangulate`\n",
    "- `anipose angles`"
   ]
  },
  {
   "cell_type": "code",
   "execution_count": null,
   "metadata": {},
   "outputs": [],
   "source": [
    "from anipose import run\n",
    "from pathlib import Path\n",
    "\n",
    "# Enter the path to the parent directory\n",
    "parent_dir = r\"\"\n",
    "\n",
    "run(Path(parent_dir))"
   ]
  }
 ],
 "metadata": {
  "kernelspec": {
   "display_name": "anipose",
   "language": "python",
   "name": "python3"
  },
  "language_info": {
   "name": "python",
   "version": "3.7.16"
  },
  "orig_nbformat": 4
 },
 "nbformat": 4,
 "nbformat_minor": 2
}
