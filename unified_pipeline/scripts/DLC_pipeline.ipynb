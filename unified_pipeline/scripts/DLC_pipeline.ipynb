{
 "cells": [
  {
   "attachments": {},
   "cell_type": "markdown",
   "metadata": {},
   "source": [
    "# DLC/ANIPOSE PIPELINE\n",
    "\n",
    "Automatically converts fly videos to estimated 3D coordinates using DeepLabCut and Anipose\n",
    "\n",
    "Run through the `DLC_pipeline` notebook, making sure to enter values into any user variables (these will be pointed out by comments).\n",
    "    - Use the `DEEPLABCUT` environment you created.\n",
    "    - All config and other common files should be stored in `./common_files` relative to `src/`\n",
    "    - Configuration files include `calibration_target.yml`, `calibration_timeline.yml`, `GenotypeFly-G.h5`, `config_fly.toml` or `config_board.toml`, `dlc_networks.yml` (Names should be exact for now, since some are hardcoded in.)\n",
    "    - Remember that this pipeline only works for ball data.\n",
    "\n",
    "- If you run DLC I would recommend to backup the DLC output so you can rerun the preprocessing steps without rerunning DLC every time\n",
    "- If DLC Has already been run don't rerun the DLC cell otherwise it will take several hours to run\n"
   ]
  },
  {
   "cell_type": "code",
   "execution_count": 2,
   "metadata": {},
   "outputs": [
    {
     "name": "stderr",
     "output_type": "stream",
     "text": [
      "INFO:numexpr.utils:NumExpr defaulting to 4 threads.\n"
     ]
    },
    {
     "name": "stdout",
     "output_type": "stream",
     "text": [
      "Loading DLC 2.3.5...\n"
     ]
    }
   ],
   "source": [
    "# Next two lines are for dev purposes only \n",
    "%load_ext autoreload \n",
    "%autoreload 2\n",
    "\n",
    "import logging\n",
    "logger = logging.getLogger()\n",
    "logger.setLevel(logging.INFO)\n",
    "logging.debug(\"Logging works :)\")\n",
    "\n",
    "from pathlib import Path\n",
    "from pipeline.pipeline_step_1 import run_preprocessing, analyze_new"
   ]
  },
  {
   "attachments": {},
   "cell_type": "markdown",
   "metadata": {},
   "source": [
    "### STEP 0: Configuration\n",
    "\n",
    "- Set all necessary variables (videos path and root path) in `pipeline/config.yml`!\n",
    "\n",
    "#### Override\n",
    "If you would like to set these values in the noetbook, you can instead \n",
    "- Add filepath to DLC network config files (e.g `dlc_networks.yml`)\n",
    "- Add filepath to folder with experiment videos"
   ]
  },
  {
   "cell_type": "code",
   "execution_count": 33,
   "metadata": {},
   "outputs": [],
   "source": [
    "\"\"\"NOTE: this is just for overriding the config parameters within notebook\"\"\"\n",
    "\n",
    "# Set the filepath to the genotype folder containing videos\n",
    "# videos = Path(r\"\\\\mpfi.org\\public\\sb-lab\\DLC_pipeline_Dummy\\0_QualityCtrl\\Raw_vid_test_new_Code_2\\40_BDN1_CsChrim_decap\")\n",
    "\n",
    "# root directory of project (usually overall experiment folder or similar)\n",
    "# root = Path(r'\\\\mpfi.org\\public\\sb-lab\\DLC_pipeline_Dummy\\0_QualityCtrl') # Root directory of experiment/run, typically genotype or some other overarching directory. \n",
    "# Videos must be in dir or a subdir of root "
   ]
  },
  {
   "attachments": {},
   "cell_type": "markdown",
   "metadata": {},
   "source": [
    "### STEP 1: Running DeepLabCut\n",
    "\n",
    "This will run on a directory with fly video files and generate DLC pose estimations, outputting to the same directory.\n",
    "\n",
    "##### Processing done:\n",
    "- DeepLabCut `analyze_videos`\n",
    "- DeepLabCut `filterpredictions`"
   ]
  },
  {
   "cell_type": "code",
   "execution_count": 37,
   "metadata": {},
   "outputs": [
    {
     "name": "stderr",
     "output_type": "stream",
     "text": [
      "INFO:root:Searching through \\\\mpfi.org\\public\\sb-lab\\DLC_pipeline_Dummy\\0_QualityCtrl\\Raw_vid_test_new_Code_2\\40_BDN1_CsChrim_decap\n",
      "INFO:root:Found 1 Ball folders\n",
      "INFO:root:Found 8 MP4 files\n",
      "INFO:root:Analyzing movie: A-08302023162339-0000.mp4\n"
     ]
    },
    {
     "name": "stdout",
     "output_type": "stream",
     "text": [
      "\n"
     ]
    },
    {
     "name": "stderr",
     "output_type": "stream",
     "text": [
      "INFO:root:Skipping video file: *_filtered.cvs file already exists\n",
      "INFO:root:Analyzing movie: B-08302023162336-0000.mp4\n",
      "INFO:root:Skipping video file: *_filtered.cvs file already exists\n",
      "INFO:root:Analyzing movie: C-08302023162341-0000.mp4\n",
      "INFO:root:Skipping video file: *_filtered.cvs file already exists\n",
      "INFO:root:Analyzing movie: D-08302023162338-0000.mp4\n",
      "INFO:root:Skipping video file: *_filtered.cvs file already exists\n",
      "INFO:root:Analyzing movie: E-08302023162337-0000.mp4\n",
      "INFO:root:Skipping video file: *_filtered.cvs file already exists\n",
      "INFO:root:Analyzing movie: F-08302023162342-0000.mp4\n",
      "INFO:root:Skipping video file: *_filtered.cvs file already exists\n",
      "INFO:root:Analyzing movie: G-08302023162345-0000.mp4\n",
      "INFO:root:Skipping video file: model path empty for Camera G\n",
      "INFO:root:Analyzing movie: H-08302023162344-0000.mp4\n",
      "INFO:root:Skipping video file: *_filtered.cvs file already exists\n"
     ]
    },
    {
     "name": "stdout",
     "output_type": "stream",
     "text": [
      "Finished DLC analysis...\n"
     ]
    }
   ],
   "source": [
    "analyze_new(videos, p_networks)\n",
    "print(\"Finished DLC analysis...\")"
   ]
  },
  {
   "attachments": {},
   "cell_type": "markdown",
   "metadata": {},
   "source": [
    "### STEP 2: Preprocessing for anipose\n",
    "\n",
    "##### Processing done:\n",
    "- Fix points\n",
    "- Remove columns\n",
    "- Rename (GenotypeFly#-CamName)\n",
    "- Convert to .h5\n",
    "- Generate anipose file structure"
   ]
  },
  {
   "cell_type": "code",
   "execution_count": 42,
   "metadata": {},
   "outputs": [
    {
     "name": "stderr",
     "output_type": "stream",
     "text": [
      "INFO:root:Processing A-08302023162339-0000DLC_resnet101_camA_augmentedJan18shuffle1_500000_filtered.csv\n",
      "INFO:root: Running `Fix points` preprocessing...\n",
      "INFO:root:Running `Remove cols` preprocessing...\n",
      "INFO:root:Processing B-08302023162336-0000DLC_resnet101_3cam_BEHSep16shuffle1_500000_filtered.csv\n",
      "INFO:root: Running `Fix points` preprocessing...\n",
      "INFO:root:Running `Remove cols` preprocessing...\n",
      "INFO:root:camName `B`, removing cols starting with `L-`\n",
      "INFO:root:Processing C-08302023162341-0000DLC_resnet101_camC_augmentedJan16shuffle1_500000_filtered.csv\n",
      "INFO:root: Running `Fix points` preprocessing...\n",
      "INFO:root:Running `Remove cols` preprocessing...\n",
      "INFO:root:Processing D-08302023162338-0000DLC_resnet101_camD_FS34_RN101Sep20shuffle1_500000_filtered.csv\n",
      "INFO:root: Running `Fix points` preprocessing...\n",
      "INFO:root:Running `Remove cols` preprocessing...\n",
      "INFO:root:Processing E-08302023162337-0000DLC_resnet101_3cam_BEHSep16shuffle1_500000_filtered.csv\n",
      "INFO:root: Running `Fix points` preprocessing...\n",
      "INFO:root:Running `Remove cols` preprocessing...\n",
      "INFO:root:camName `E`, removing cols starting with `R-`\n",
      "INFO:root:Processing F-08302023162342-0000DLC_resnet101_camF_augmentedNov29shuffle1_500000_filtered.csv\n",
      "INFO:root: Running `Fix points` preprocessing...\n",
      "INFO:root:Running `Remove cols` preprocessing...\n",
      "INFO:root:Processing H-08302023162344-0000DLC_resnet101_3cam_BEHSep16shuffle1_500000_filtered.csv\n",
      "INFO:root: Running `Fix points` preprocessing...\n",
      "INFO:root:Running `Remove cols` preprocessing...\n",
      "INFO:root:Generating anipose files...\n",
      "WARNING:root:Skipping \\\\mpfi.org\\public\\sb-lab\\DLC_pipeline_Dummy\\0_QualityCtrl\\Raw_vid_test_new_Code_2\\40_BDN1_CsChrim_decap\\anipose generation because it already exists. Please delete any old `anipose` directories to have them regenerated.\n"
     ]
    },
    {
     "name": "stdout",
     "output_type": "stream",
     "text": [
      "Finished preprocessing...\n"
     ]
    }
   ],
   "source": [
    "run_preprocessing(videos, root)"
   ]
  }
 ],
 "metadata": {
  "kernelspec": {
   "display_name": "DEEPLABCUT",
   "language": "python",
   "name": "python3"
  },
  "language_info": {
   "codemirror_mode": {
    "name": "ipython",
    "version": 3
   },
   "file_extension": ".py",
   "mimetype": "text/x-python",
   "name": "python",
   "nbconvert_exporter": "python",
   "pygments_lexer": "ipython3",
   "version": "3.8.16"
  },
  "orig_nbformat": 4
 },
 "nbformat": 4,
 "nbformat_minor": 2
}
