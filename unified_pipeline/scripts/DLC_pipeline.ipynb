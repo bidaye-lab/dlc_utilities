{
 "cells": [
  {
   "attachments": {},
   "cell_type": "markdown",
   "metadata": {},
   "source": [
    "# DLC/ANIPOSE PIPELINE\n",
    "\n",
    "Automatically converts fly videos to estimated 3D coordinates using DeepLabCut and Anipose"
   ]
  },
  {
   "cell_type": "code",
   "execution_count": 2,
   "metadata": {},
   "outputs": [
    {
     "name": "stderr",
     "output_type": "stream",
     "text": [
      "INFO:numexpr.utils:NumExpr defaulting to 4 threads.\n"
     ]
    },
    {
     "name": "stdout",
     "output_type": "stream",
     "text": [
      "Loading DLC 2.3.5...\n"
     ]
    }
   ],
   "source": [
    "# Next two lines are for dev purposes only \n",
    "%load_ext autoreload \n",
    "%autoreload 2\n",
    "\n",
    "import logging\n",
    "logger = logging.getLogger()\n",
    "logger.setLevel(logging.INFO)\n",
    "logging.debug(\"Logging works :)\")\n",
    "\n",
    "from pipeline.pipeline_step_1 import run_preprocessing, analyze_new"
   ]
  },
  {
   "attachments": {},
   "cell_type": "markdown",
   "metadata": {},
   "source": [
    "### STEP 0: Configuration\n",
    "\n",
    "- Set all necessary variables (videos path and root path) in `pipeline/config.yml`!\n",
    "\n",
    "#### Override\n",
    "If you would like to set these values in the noetbook, you can instead \n",
    "- Add filepath to DLC network config files (e.g `dlc_networks.yml`)\n",
    "- Add filepath to folder with experiment videos"
   ]
  },
  {
   "cell_type": "code",
   "execution_count": 33,
   "metadata": {},
   "outputs": [],
   "source": [
    "\"\"\"NOTE: this is just for overriding the config parameters within notebook\"\"\"\n",
    "\n",
    "# Set the filepath to the genotype folder containing videos\n",
    "# videos = Path(r\"\\\\mpfi.org\\public\\sb-lab\\DLC_pipeline_Dummy\\0_QualityCtrl\\Raw_vid_test_new_Code_2\\40_BDN1_CsChrim_decap\")\n",
    "\n",
    "# root directory of project (usually overall experiment folder or similar)\n",
    "# root = Path(r'\\\\mpfi.org\\public\\sb-lab\\DLC_pipeline_Dummy\\0_QualityCtrl') # Root directory of experiment/run, typically genotype or some other overarching directory. \n",
    "# Videos must be in dir or a subdir of root "
   ]
  },
  {
   "attachments": {},
   "cell_type": "markdown",
   "metadata": {},
   "source": [
    "### STEP 1: Running DeepLabCut\n",
    "\n",
    "This will run on a directory with fly video files and generate DLC pose estimations, outputting to the same directory.\n",
    "\n",
    "##### Processing done:\n",
    "- DeepLabCut `analyze_videos`\n",
    "- DeepLabCut `filterpredictions`"
   ]
  },
  {
   "cell_type": "code",
   "execution_count": 3,
   "metadata": {},
   "outputs": [
    {
     "name": "stderr",
     "output_type": "stream",
     "text": [
      "INFO:root:Searching through C:\\Users\\ryabinkyj\\Documents\\testanalyze\\RawData\\BIN-1\n",
      "INFO:root:Found 3 Ball folders\n",
      "INFO:root:Found 8 MP4 files\n",
      "INFO:root:Analyzing movie: A-04192023182728-0000.mp4\n"
     ]
    },
    {
     "name": "stdout",
     "output_type": "stream",
     "text": [
      "\n"
     ]
    },
    {
     "name": "stderr",
     "output_type": "stream",
     "text": [
      "WARNING:root:Skipping video file: config file does not exist at \\\\mpfi.org\\public\\sb-lab\\DLC_3DAnnotations\\DLC_networks\\2nd_IT\\camA_augmented-BidayeLab-2023-01-18\\config.yaml\n",
      "INFO:root:Analyzing movie: B-04192023182729-0000.mp4\n",
      "WARNING:root:Skipping video file: config file does not exist at \\\\mpfi.org\\public\\sb-lab\\DLC_3DAnnotations\\DLC_networks\\1st_IT\\3cam_BEH-BidayeLab-2022-09-16\\config.yaml\n",
      "INFO:root:Analyzing movie: D-04192023182727-0000.mp4\n",
      "WARNING:root:Skipping video file: config file does not exist at \\\\mpfi.org\\public\\sb-lab\\DLC_3DAnnotations\\DLC_networks\\2nd_IT\\camD_FS34_RN101-BidayeLab-2022-09-20\\config.yaml\n",
      "INFO:root:Analyzing movie: E-04192023182730-0000.mp4\n",
      "WARNING:root:Skipping video file: config file does not exist at \\\\mpfi.org\\public\\sb-lab\\DLC_3DAnnotations\\DLC_networks\\1st_IT\\3cam_BEH-BidayeLab-2022-09-16\\config.yaml\n",
      "INFO:root:Analyzing movie: G-04192023182752-0000.mp4\n",
      "INFO:root:Skipping video file: model path empty for Camera G\n",
      "INFO:root:Analyzing movie: H-04192023182753-0000.mp4\n",
      "WARNING:root:Skipping video file: config file does not exist at \\\\mpfi.org\\public\\sb-lab\\DLC_3DAnnotations\\DLC_networks\\1st_IT\\3cam_BEH-BidayeLab-2022-09-16\\config.yaml\n",
      "INFO:root:Analyzing movie: skipC-04192023182749-0000skipsk.mp4\n",
      "WARNING:root:Skipping video file:  model path not defined for Camera skipC\n",
      "INFO:root:Analyzing movie: skipF-04192023182750-0000.mp4\n",
      "WARNING:root:Skipping video file:  model path not defined for Camera skipF\n",
      "INFO:root:Found 0 MP4 files\n",
      "INFO:root:Found 0 MP4 files\n"
     ]
    },
    {
     "name": "stdout",
     "output_type": "stream",
     "text": [
      "\n",
      "\n",
      "Finished DLC analysis...\n"
     ]
    }
   ],
   "source": [
    "analyze_new()\n",
    "print(\"Finished DLC analysis...\")"
   ]
  },
  {
   "attachments": {},
   "cell_type": "markdown",
   "metadata": {},
   "source": [
    "### STEP 2: Preprocessing for anipose\n",
    "\n",
    "##### Processing done:\n",
    "- Fix points\n",
    "- Remove columns\n",
    "- Rename (GenotypeFly#-CamName)\n",
    "- Convert to .h5\n",
    "- Generate anipose file structure"
   ]
  },
  {
   "cell_type": "code",
   "execution_count": 6,
   "metadata": {},
   "outputs": [
    {
     "name": "stderr",
     "output_type": "stream",
     "text": [
      "INFO:pipeline.pipeline_step_1:Generating anipose files...\n"
     ]
    },
    {
     "name": "stdout",
     "output_type": "stream",
     "text": [
      "Finished preprocessing...\n"
     ]
    }
   ],
   "source": [
    "run_preprocessing()"
   ]
  }
 ],
 "metadata": {
  "kernelspec": {
   "display_name": "DEEPLABCUT",
   "language": "python",
   "name": "python3"
  },
  "language_info": {
   "codemirror_mode": {
    "name": "ipython",
    "version": 3
   },
   "file_extension": ".py",
   "mimetype": "text/x-python",
   "name": "python",
   "nbconvert_exporter": "python",
   "pygments_lexer": "ipython3",
   "version": "3.8.16"
  },
  "orig_nbformat": 4
 },
 "nbformat": 4,
 "nbformat_minor": 2
}
