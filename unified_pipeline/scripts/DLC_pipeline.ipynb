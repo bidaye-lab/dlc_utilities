{
 "cells": [
  {
   "attachments": {},
   "cell_type": "markdown",
   "metadata": {},
   "source": [
    "# DLC/ANIPOSE PIPELINE\n",
    "\n",
    "Automatically converts fly videos to estimated 3D coordinates using DeepLabCut and Anipose"
   ]
  },
  {
   "cell_type": "code",
   "execution_count": null,
   "metadata": {},
   "outputs": [],
   "source": [
    "# Next two lines are for dev purposes only \n",
    "%load_ext autoreload \n",
    "%autoreload 2\n",
    "\n",
    "import logging\n",
    "logger = logging.getLogger()\n",
    "logger.setLevel(logging.INFO)\n",
    "logging.debug(\"Logging works :)\")\n",
    "import pandas as pd\n",
    "import numpy as np\n",
    "from pipeline.pipeline_step_1 import run_preprocessing, analyze_new\n",
    "from pathlib import Path\n",
    "import glob\n",
    "import os\n",
    "from config import settings\n",
    "COMMON_FILES = Path(settings.common_files)"
   ]
  },
  {
   "attachments": {},
   "cell_type": "markdown",
   "metadata": {},
   "source": [
    "### STEP 0: Configuration\n",
    "\n",
    "- Set all necessary variables (videos path and root path) in `pipeline/config.yml`!\n",
    "\n",
    "#### Override\n",
    "If you would like to set these values in the noetbook, you can instead \n",
    "- Add filepath to DLC network config files (e.g `dlc_networks.yml`)\n",
    "- Add filepath to folder with experiment videos"
   ]
  },
  {
   "cell_type": "code",
   "execution_count": null,
   "metadata": {},
   "outputs": [],
   "source": [
    "\"\"\"NOTE: this is just for overriding the config parameters within notebook\"\"\"\n",
    "\n",
    "# Set the filepath to the genotype folder containing videos\n",
    "# videos = Path(r\"\\\\mpfi.org\\public\\sb-lab\\DLC_pipeline_Dummy\\0_QualityCtrl\\Raw_vid_test_new_Code_2\\40_BDN1_CsChrim_decap\")\n",
    "\n",
    "# root directory of project (usually overall experiment folder or similar)\n",
    "# root = Path(r'\\\\mpfi.org\\public\\sb-lab\\DLC_pipeline_Dummy\\0_QualityCtrl') # Root directory of experiment/run, typically genotype or some other overarching directory. \n",
    "# Videos must be in dir or a subdir of root "
   ]
  },
  {
   "attachments": {},
   "cell_type": "markdown",
   "metadata": {},
   "source": [
    "### STEP 1: Running DeepLabCut\n",
    "\n",
    "This will run on a directory with fly video files and generate DLC pose estimations, outputting to the same directory.\n",
    "\n",
    "##### Processing done:\n",
    "- DeepLabCut `analyze_videos`\n",
    "- DeepLabCut `filterpredictions`"
   ]
  },
  {
   "cell_type": "code",
   "execution_count": null,
   "metadata": {},
   "outputs": [],
   "source": [
    "analyze_new()\n",
    "print(\"Finished DLC analysis...\")"
   ]
  },
  {
   "cell_type": "markdown",
   "metadata": {},
   "source": [
    "### Step 1b [only for SS files]"
   ]
  },
  {
   "cell_type": "code",
   "execution_count": null,
   "metadata": {},
   "outputs": [],
   "source": [
    "ref_cols = pd.read_csv(COMMON_FILES.joinpath(\"SS_preprocess_extracols.csv\"), header = [0,1,2])\n",
    "path = Path(settings.videos_path)\n",
    "for fly_folder in os.listdir(path):\n",
    "    fly_path = path / fly_folder\n",
    "    if fly_folder.startswith('N'):\n",
    "        for cam_file in os.listdir(Path(str(fly_path) + '/SS')):\n",
    "            \n",
    "            if cam_file.startswith('H') and cam_file.endswith('_filtered.csv'):\n",
    "                print(f\"Processing file: {cam_file} in {fly_path}\")\n",
    "                camH = pd.read_csv(Path(str(fly_path) + '/SS') / cam_file, header = [0,1,2])\n",
    "                camH_new = pd.concat([camH, ref_cols], axis = 1)\n",
    "                \n",
    "                camH_new.to_csv(Path(str(fly_path) + '/SS') / cam_file, index = False) ## note: replaces the original file "
   ]
  },
  {
   "attachments": {},
   "cell_type": "markdown",
   "metadata": {},
   "source": [
    "### STEP 2: Preprocessing for anipose\n",
    "\n",
    "##### Processing done:\n",
    "- Fix points\n",
    "- Remove columns\n",
    "- Rename (GenotypeFly#-CamName)\n",
    "- Convert to .h5\n",
    "- Generate anipose file structure"
   ]
  },
  {
   "cell_type": "code",
   "execution_count": null,
   "metadata": {},
   "outputs": [],
   "source": [
    "run_preprocessing()"
   ]
  }
 ],
 "metadata": {
  "kernelspec": {
   "display_name": "DEEPLABCUT",
   "language": "python",
   "name": "python3"
  },
  "language_info": {
   "codemirror_mode": {
    "name": "ipython",
    "version": 3
   },
   "file_extension": ".py",
   "mimetype": "text/x-python",
   "name": "python",
   "nbconvert_exporter": "python",
   "pygments_lexer": "ipython3",
   "version": "3.8.13"
  },
  "orig_nbformat": 4
 },
 "nbformat": 4,
 "nbformat_minor": 2
}
