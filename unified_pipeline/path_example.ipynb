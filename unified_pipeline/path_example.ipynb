{
 "cells": [
  {
   "cell_type": "code",
   "execution_count": 1,
   "metadata": {},
   "outputs": [],
   "source": [
    "from pathlib import Path"
   ]
  },
  {
   "cell_type": "code",
   "execution_count": 14,
   "metadata": {},
   "outputs": [
    {
     "name": "stdout",
     "output_type": "stream",
     "text": [
      "root: \\\\mpfi.org\\public\\sb-lab\\BallSystem_RawData\n",
      "ball: \\\\mpfi.org\\public\\sb-lab\\BallSystem_RawData\\10_P9_StochasticActivation\\Nov2022\\Left-turners\\N1\\Ball\n",
      "ball relative to root: 10_P9_StochasticActivation\\Nov2022\\Left-turners\\N1\\Ball\n",
      "genotype: 10P9StochasticActivation\n",
      "n: N1\n"
     ]
    }
   ],
   "source": [
    "root = Path(r'\\\\mpfi.org\\public\\sb-lab\\BallSystem_RawData')\n",
    "print(f'root: {root}')\n",
    "\n",
    "for p in root.glob('**/N*/Ball/'):\n",
    "    print(f'ball: {p}')\n",
    "\n",
    "    p_rel = p.relative_to(root)\n",
    "    print(f'ball relative to root: {p_rel}')\n",
    "\n",
    "    gen = p_rel.parts[0].replace('_', '').replace('-', '')\n",
    "\n",
    "    print(f'genotype: {gen}')\n",
    "\n",
    "    n = p_rel.parts[-2]\n",
    "    print(f'n: {n}')\n",
    "    break"
   ]
  }
 ],
 "metadata": {
  "kernelspec": {
   "display_name": "DEEPLABCUT",
   "language": "python",
   "name": "python3"
  },
  "language_info": {
   "codemirror_mode": {
    "name": "ipython",
    "version": 3
   },
   "file_extension": ".py",
   "mimetype": "text/x-python",
   "name": "python",
   "nbconvert_exporter": "python",
   "pygments_lexer": "ipython3",
   "version": "3.8.13"
  },
  "orig_nbformat": 4
 },
 "nbformat": 4,
 "nbformat_minor": 2
}
