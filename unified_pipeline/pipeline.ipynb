{
 "cells": [
  {
   "attachments": {},
   "cell_type": "markdown",
   "metadata": {},
   "source": [
    "# DLC/ANIPOSE PIPELINE\n",
    "\n",
    "Automatically converts fly videos to estimated 3D coordinates using DeepLabCut and Anipose"
   ]
  },
  {
   "cell_type": "code",
   "execution_count": null,
   "metadata": {
    "vscode": {
     "languageId": "plaintext"
    }
   },
   "outputs": [],
   "source": [
    "#TODO: implement steps\n",
    "\n",
    "# Run DLC on video files\n",
    "- cfg for network dirs\n",
    "- file path to video files\n",
    "\n",
    "# Rest should work with the file path provided above\n",
    "# Preprocess\n",
    "\n",
    "# Convert to h5\n",
    "\n",
    "# Generate Anipose file structure\n",
    "\n",
    "# Run Anipose functions"
   ]
  }
 ],
 "metadata": {
  "language_info": {
   "name": "python"
  },
  "orig_nbformat": 4
 },
 "nbformat": 4,
 "nbformat_minor": 2
}
