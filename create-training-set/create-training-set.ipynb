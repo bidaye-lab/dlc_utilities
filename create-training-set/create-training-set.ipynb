{
 "cells": [
  {
   "cell_type": "code",
   "execution_count": null,
   "id": "b56b018b",
   "metadata": {},
   "outputs": [],
   "source": [
    "# import relevant libraries\n",
    "import os\n",
    "import copy\n",
    "import glob\n",
    "import numpy as np\n",
    "import pandas as pd"
   ]
  },
  {
   "cell_type": "code",
   "execution_count": null,
   "id": "7fe9254c",
   "metadata": {},
   "outputs": [],
   "source": [
    "def create_training_set(template, data):\n",
    "    # convert csvs into dataframes\n",
    "    template_df = pd.read_csv(template)\n",
    "    data_df = pd.read_csv(data)\n",
    "    \n",
    "    # extract frame numbers from template\n",
    "    filename_col = template_df.iloc[:, 2].to_list()\n",
    "    filename_col = filename_col[2:]\n",
    "    filename_col = [int(x[3:-4].lstrip(\"0\")) for x in filename_col]\n",
    "    \n",
    "    # find corresponding rows in data_df\n",
    "    extracted_data_rows = pd.DataFrame()\n",
    "\n",
    "    for rownum in filename_col:\n",
    "        extracted_data_rows = pd.concat([extracted_data_rows, pd.DataFrame(data_df.iloc[rownum+2]).transpose()], axis=0)\n",
    "\n",
    "    # reset row index\n",
    "    extracted_data_rows = extracted_data_rows.reset_index()\n",
    "\n",
    "    # drop first two columns (index and scorer)\n",
    "    extracted_data_rows = extracted_data_rows.drop(extracted_data_rows.columns[0:2], axis=1)\n",
    "\n",
    "    # drop liklihood columns\n",
    "    to_drop = np.arange(2, 51, 3)\n",
    "    extracted_data_rows = extracted_data_rows.drop(extracted_data_rows.columns[to_drop], axis=1)\n",
    "    \n",
    "    # extract frame numbers from template\n",
    "    filename_col = template_df.iloc[:, 2].to_list()\n",
    "    filename_col = filename_col[2:]\n",
    "    filename_col = [int(x[3:-4].lstrip(\"0\")) for x in filename_col]\n",
    "    \n",
    "    # find corresponding rows in data_df\n",
    "    extracted_data_rows = pd.DataFrame()\n",
    "\n",
    "    for rownum in filename_col:\n",
    "        extracted_data_rows = pd.concat([extracted_data_rows, pd.DataFrame(data_df.iloc[rownum+2]).transpose()], axis=0)\n",
    "\n",
    "    # reset row index\n",
    "    extracted_data_rows = extracted_data_rows.reset_index()\n",
    "\n",
    "    # drop first two columns (index and scorer)\n",
    "    extracted_data_rows = extracted_data_rows.drop(extracted_data_rows.columns[0:2], axis=1)\n",
    "\n",
    "    # drop liklihood columns\n",
    "    to_drop = np.arange(2, 51, 3)\n",
    "    extracted_data_rows = extracted_data_rows.drop(extracted_data_rows.columns[to_drop], axis=1)\n",
    "    \n",
    "    # transfer extracted rows to template\n",
    "    template_df_front = pd.DataFrame(template_df.iloc[:, :3])\n",
    "    template_df_front.columns = ['scorer', '', '']\n",
    "    template_df_end = pd.DataFrame(template_df.iloc[:2, 3:])\n",
    "    template_df_end.columns = np.arange(0,34)\n",
    "\n",
    "    for row in range(0, 46):\n",
    "        ex_row = pd.DataFrame(extracted_data_rows.iloc[row,:])\n",
    "        ex_row = ex_row.reset_index(drop=True)\n",
    "        ex_row = ex_row.transpose()\n",
    "        template_df_end = pd.concat([template_df_end, ex_row], axis=0)\n",
    "\n",
    "    template_df_end.columns = ['BidayeLab']*34    \n",
    "    template_df_end = template_df_end.reset_index(drop=True)\n",
    "\n",
    "    template_filled = pd.concat([template_df_front, template_df_end], axis=1)\n",
    "    template_filled.to_csv(template, index=False)"
   ]
  },
  {
   "cell_type": "code",
   "execution_count": null,
   "id": "c0ffc58c",
   "metadata": {},
   "outputs": [],
   "source": [
    "template = 'C:/dlc-utilities/create-training-set/examples/copy-template.csv'\n",
    "data = 'C:/dlc-utilities/create-training-set/examples/data.csv'\n",
    "\n",
    "create_training_set(template, data)"
   ]
  }
 ],
 "metadata": {
  "kernelspec": {
   "display_name": "Python [conda env:deeplabcut] *",
   "language": "python",
   "name": "conda-env-deeplabcut-py"
  },
  "language_info": {
   "codemirror_mode": {
    "name": "ipython",
    "version": 3
   },
   "file_extension": ".py",
   "mimetype": "text/x-python",
   "name": "python",
   "nbconvert_exporter": "python",
   "pygments_lexer": "ipython3",
   "version": "3.8.13"
  }
 },
 "nbformat": 4,
 "nbformat_minor": 5
}
